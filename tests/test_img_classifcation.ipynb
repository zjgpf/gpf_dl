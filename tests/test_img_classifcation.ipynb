{
 "cells": [
  {
   "cell_type": "code",
   "execution_count": 1,
   "metadata": {},
   "outputs": [],
   "source": [
    "import pandas as pd\n",
    "import os\n",
    "import sys\n",
    "sys.path.append(os.path.pardir)\n",
    "import core,model\n",
    "import torch.optim as optim\n",
    "import torch.nn.functional as F\n",
    "import torch.nn as nn\n",
    "import torch\n",
    "import numpy as np\n",
    "import pdb\n",
    "import torch.tensor as tensor\n",
    "from matplotlib import pyplot as plt\n",
    "torch.cuda.set_device(1)"
   ]
  },
  {
   "cell_type": "code",
   "execution_count": 2,
   "metadata": {},
   "outputs": [],
   "source": [
    "label_index_img_c = {'frog':0,'truck':1,'deer':2,'automobile':3,'bird':4,'horse':5,'ship':6,'cat':7,'airplane':8,'dog':9}\n",
    "train_path = '/data/gpf/tutorial/dl/cnn/cifar/train'\n",
    "test_path = '/data/gpf/tutorial/dl/cnn/cifar/test'"
   ]
  },
  {
   "cell_type": "code",
   "execution_count": 3,
   "metadata": {},
   "outputs": [
    {
     "name": "stdout",
     "output_type": "stream",
     "text": [
      "frog:5000\n",
      "truck:5000\n",
      "deer:5000\n",
      "automobile:5000\n",
      "bird:5000\n",
      "horse:5000\n",
      "ship:5000\n",
      "cat:5000\n",
      "airplane:5000\n",
      "dog:5000\n"
     ]
    }
   ],
   "source": [
    "path_labels_train = core.get_img_path_label_from_path(train_path,label_index_img_c)"
   ]
  },
  {
   "cell_type": "code",
   "execution_count": 4,
   "metadata": {},
   "outputs": [
    {
     "name": "stdout",
     "output_type": "stream",
     "text": [
      "frog:1000\n",
      "truck:1000\n",
      "deer:1000\n",
      "automobile:1000\n",
      "bird:1000\n",
      "horse:1000\n",
      "ship:1000\n",
      "cat:1000\n",
      "airplane:1000\n",
      "dog:1000\n"
     ]
    }
   ],
   "source": [
    "path_labels_test = core.get_img_path_label_from_path(test_path,label_index_img_c)"
   ]
  },
  {
   "cell_type": "code",
   "execution_count": 5,
   "metadata": {},
   "outputs": [],
   "source": [
    "img_paths, labels = zip(*path_labels_train)\n",
    "#dl = core.make_batches_img(np.array(img_paths), np.array(labels).astype(int),bs=64)\n",
    "dl = core.dl_img(np.array(img_paths), np.array(labels).astype(int),bs=64)"
   ]
  },
  {
   "cell_type": "code",
   "execution_count": 6,
   "metadata": {},
   "outputs": [
    {
     "name": "stdout",
     "output_type": "stream",
     "text": [
      "Making batches... batch size: 64,num of batchese: 782\n"
     ]
    }
   ],
   "source": [
    "a = next(iter(dl))"
   ]
  },
  {
   "cell_type": "code",
   "execution_count": 7,
   "metadata": {},
   "outputs": [
    {
     "data": {
      "text/plain": [
       "<matplotlib.image.AxesImage at 0x7fc9e61b0080>"
      ]
     },
     "execution_count": 7,
     "metadata": {},
     "output_type": "execute_result"
    },
    {
     "data": {
      "image/png": "[encoded data removed]",
      "text/plain": [
       "<Figure size 432x288 with 1 Axes>"
      ]
     },
     "metadata": {},
     "output_type": "display_data"
    }
   ],
   "source": [
    "plt.imshow((a[0][0].numpy()).astype(int))"
   ]
  },
  {
   "cell_type": "code",
   "execution_count": 6,
   "metadata": {},
   "outputs": [
    {
     "data": {
      "text/plain": [
       "SimpleNet(\n",
       "  (layers): ModuleList(\n",
       "    (0): Linear(in_features=3072, out_features=40, bias=True)\n",
       "    (1): Linear(in_features=40, out_features=10, bias=True)\n",
       "  )\n",
       ")"
      ]
     },
     "execution_count": 6,
     "metadata": {},
     "output_type": "execute_result"
    }
   ],
   "source": [
    "#[32*32*3, 40,10]\n",
    "class SimpleNet(nn.Module):\n",
    "    \n",
    "    def __init__(self, layers):\n",
    "        super().__init__()\n",
    "        self.layers = nn.ModuleList([nn.Linear(layers[i],layers[i+1]) for i in range(len(layers)-1)])\n",
    "        \n",
    "    def forward(self, seq):\n",
    "        bs = seq.size()[0]\n",
    "        X = seq.view(bs,-1)\n",
    "        for layer in self.layers:\n",
    "            X = F.relu(layer(X))\n",
    "        return F.log_softmax(X,dim=-1)\n",
    "    \n",
    "    def get_device(self):\n",
    "        p = next(self.parameters())\n",
    "        device_type = str(p.device.type)\n",
    "        device_index = p.device.index\n",
    "        ret = device_type + ':' + str(device_index) if device_type == 'cuda' else device_type\n",
    "        return torch.device(ret) \n",
    "    \n",
    "\n",
    "m = SimpleNet([32*32*3,40,10]).cuda()\n",
    "m"
   ]
  },
  {
   "cell_type": "code",
   "execution_count": 7,
   "metadata": {},
   "outputs": [],
   "source": [
    "opt = optim.SGD(m.parameters(),lr=0.1,momentum=0.5)\n",
    "loss_fn = F.nll_loss"
   ]
  },
  {
   "cell_type": "code",
   "execution_count": 8,
   "metadata": {},
   "outputs": [
    {
     "name": "stderr",
     "output_type": "stream",
     "text": [
      "\r",
      "  0%|          | 0/10 [00:00<?, ?it/s]"
     ]
    },
    {
     "name": "stdout",
     "output_type": "stream",
     "text": [
      "model is been trained on cuda:1\n",
      "Making batches... batch size: 64,num of batchese: 782\n"
     ]
    },
    {
     "name": "stderr",
     "output_type": "stream",
     "text": [
      "\r",
      " 10%|█         | 1/10 [00:04<00:44,  5.00s/it]"
     ]
    },
    {
     "name": "stdout",
     "output_type": "stream",
     "text": [
      "Epoch: 0, total loss: 1522.6445281505585\n",
      "Making batches... batch size: 64,num of batchese: 782\n"
     ]
    },
    {
     "name": "stderr",
     "output_type": "stream",
     "text": [
      "\r",
      " 20%|██        | 2/10 [00:09<00:39,  4.90s/it]"
     ]
    },
    {
     "name": "stdout",
     "output_type": "stream",
     "text": [
      "Epoch: 1, total loss: 1458.159904718399\n",
      "Making batches... batch size: 64,num of batchese: 782\n"
     ]
    },
    {
     "name": "stderr",
     "output_type": "stream",
     "text": [
      "\r",
      " 30%|███       | 3/10 [00:14<00:34,  4.87s/it]"
     ]
    },
    {
     "name": "stdout",
     "output_type": "stream",
     "text": [
      "Epoch: 2, total loss: 1437.8746687173843\n",
      "Making batches... batch size: 64,num of batchese: 782\n"
     ]
    },
    {
     "name": "stderr",
     "output_type": "stream",
     "text": [
      "\r",
      " 40%|████      | 4/10 [00:19<00:29,  4.87s/it]"
     ]
    },
    {
     "name": "stdout",
     "output_type": "stream",
     "text": [
      "Epoch: 3, total loss: 1440.5406029224396\n",
      "Making batches... batch size: 64,num of batchese: 782\n"
     ]
    },
    {
     "name": "stderr",
     "output_type": "stream",
     "text": [
      "\r",
      " 50%|█████     | 5/10 [00:24<00:24,  4.81s/it]"
     ]
    },
    {
     "name": "stdout",
     "output_type": "stream",
     "text": [
      "Epoch: 4, total loss: 1415.5925860404968\n",
      "Making batches... batch size: 64,num of batchese: 782\n"
     ]
    },
    {
     "name": "stderr",
     "output_type": "stream",
     "text": [
      "\r",
      " 60%|██████    | 6/10 [00:28<00:19,  4.80s/it]"
     ]
    },
    {
     "name": "stdout",
     "output_type": "stream",
     "text": [
      "Epoch: 5, total loss: 1399.5946494340897\n",
      "Making batches... batch size: 64,num of batchese: 782\n"
     ]
    },
    {
     "name": "stderr",
     "output_type": "stream",
     "text": [
      "\r",
      " 70%|███████   | 7/10 [00:33<00:14,  4.81s/it]"
     ]
    },
    {
     "name": "stdout",
     "output_type": "stream",
     "text": [
      "Epoch: 6, total loss: 1385.917455792427\n",
      "Making batches... batch size: 64,num of batchese: 782\n"
     ]
    },
    {
     "name": "stderr",
     "output_type": "stream",
     "text": [
      "\r",
      " 80%|████████  | 8/10 [00:38<00:09,  4.79s/it]"
     ]
    },
    {
     "name": "stdout",
     "output_type": "stream",
     "text": [
      "Epoch: 7, total loss: 1374.4950954914093\n",
      "Making batches... batch size: 64,num of batchese: 782\n"
     ]
    },
    {
     "name": "stderr",
     "output_type": "stream",
     "text": [
      "\r",
      " 90%|█████████ | 9/10 [00:43<00:04,  4.79s/it]"
     ]
    },
    {
     "name": "stdout",
     "output_type": "stream",
     "text": [
      "Epoch: 8, total loss: 1377.2594555616379\n",
      "Making batches... batch size: 64,num of batchese: 782\n"
     ]
    },
    {
     "name": "stderr",
     "output_type": "stream",
     "text": [
      "\r",
      "100%|██████████| 10/10 [00:47<00:00,  4.78s/it]"
     ]
    },
    {
     "name": "stdout",
     "output_type": "stream",
     "text": [
      "Epoch: 9, total loss: 1368.1898460388184\n",
      "Saving model to /data/gpf/gpf_dl/tests/tmp_torch_model.torch\n"
     ]
    },
    {
     "name": "stderr",
     "output_type": "stream",
     "text": [
      "\n"
     ]
    }
   ],
   "source": [
    "core.fit(m,dl,10,opt,loss_fn)"
   ]
  },
  {
   "cell_type": "code",
   "execution_count": 12,
   "metadata": {},
   "outputs": [],
   "source": [
    "img_paths, labels = zip(*path_labels_test)"
   ]
  },
  {
   "cell_type": "code",
   "execution_count": 13,
   "metadata": {},
   "outputs": [],
   "source": [
    "img_paths, labels = zip(*path_labels_test)\n",
    "dl = core.dl_img(np.array(img_paths), np.array(labels).astype(int),bs=64)"
   ]
  },
  {
   "cell_type": "code",
   "execution_count": 14,
   "metadata": {},
   "outputs": [
    {
     "name": "stdout",
     "output_type": "stream",
     "text": [
      "Making batches... batch size: 64,num of batchese: 157\n"
     ]
    }
   ],
   "source": [
    "imgs,labels = zip(*dl)"
   ]
  },
  {
   "cell_type": "code",
   "execution_count": 15,
   "metadata": {},
   "outputs": [],
   "source": [
    "preds = core.predict_batch_img(m,imgs)"
   ]
  },
  {
   "cell_type": "code",
   "execution_count": 16,
   "metadata": {},
   "outputs": [],
   "source": [
    "expects = []\n",
    "a = [expects.extend(v.tolist()) for v in labels]"
   ]
  },
  {
   "cell_type": "code",
   "execution_count": 17,
   "metadata": {},
   "outputs": [
    {
     "name": "stdout",
     "output_type": "stream",
     "text": [
      "---------------------------0-------------------------------\n",
      "total:  1000\n",
      "correct:  1000\n",
      "accuracy:  1.0\n",
      "---------------------------1-------------------------------\n",
      "total:  1000\n",
      "correct:  0\n",
      "accuracy:  0.0\n",
      "---------------------------2-------------------------------\n",
      "total:  1000\n",
      "correct:  0\n",
      "accuracy:  0.0\n",
      "---------------------------3-------------------------------\n",
      "total:  1000\n",
      "correct:  0\n",
      "accuracy:  0.0\n",
      "---------------------------4-------------------------------\n",
      "total:  1000\n",
      "correct:  0\n",
      "accuracy:  0.0\n",
      "---------------------------5-------------------------------\n",
      "total:  1000\n",
      "correct:  0\n",
      "accuracy:  0.0\n",
      "---------------------------6-------------------------------\n",
      "total:  1000\n",
      "correct:  0\n",
      "accuracy:  0.0\n",
      "---------------------------7-------------------------------\n",
      "total:  1000\n",
      "correct:  0\n",
      "accuracy:  0.0\n",
      "---------------------------8-------------------------------\n",
      "total:  1000\n",
      "correct:  0\n",
      "accuracy:  0.0\n",
      "---------------------------9-------------------------------\n",
      "total:  1000\n",
      "correct:  0\n",
      "accuracy:  0.0\n",
      "---------------------------All-------------------------------\n",
      "total correct/total:1000/10000\n",
      "total accuracy:  0.1\n"
     ]
    }
   ],
   "source": [
    "core.evaluation_matrix(np.array(preds),np.array(expects))"
   ]
  },
  {
   "cell_type": "code",
   "execution_count": 74,
   "metadata": {},
   "outputs": [],
   "source": [
    "import torch\n",
    "import torchvision\n",
    "import torchvision.transforms as transforms"
   ]
  },
  {
   "cell_type": "code",
   "execution_count": 76,
   "metadata": {},
   "outputs": [
    {
     "name": "stdout",
     "output_type": "stream",
     "text": [
      "Files already downloaded and verified\n",
      "Files already downloaded and verified\n"
     ]
    }
   ],
   "source": [
    "transform = transforms.Compose(\n",
    "    [transforms.ToTensor(),\n",
    "     transforms.Normalize((0.5, 0.5, 0.5), (0.5, 0.5, 0.5))])\n",
    "\n",
    "trainset = torchvision.datasets.CIFAR10(root='./data', train=True,\n",
    "                                        download=True, transform=transform)\n",
    "trainloader = torch.utils.data.DataLoader(trainset, batch_size=4,\n",
    "                                          shuffle=True, num_workers=2)\n",
    "\n",
    "testset = torchvision.datasets.CIFAR10(root='./data', train=False,\n",
    "                                       download=True, transform=transform)\n",
    "testloader = torch.utils.data.DataLoader(testset, batch_size=4,\n",
    "                                         shuffle=False, num_workers=2)\n",
    "\n",
    "classes = ('plane', 'car', 'bird', 'cat',\n",
    "           'deer', 'dog', 'frog', 'horse', 'ship', 'truck')"
   ]
  },
  {
   "cell_type": "code",
   "execution_count": 81,
   "metadata": {},
   "outputs": [
    {
     "name": "stdout",
     "output_type": "stream",
     "text": [
      "[1,  2000] loss: 1976.440\n",
      "[1,  4000] loss: 59.830\n",
      "[1,  6000] loss: 17.826\n",
      "[1,  8000] loss: 9.478\n",
      "[1, 10000] loss: 5.936\n",
      "[1, 12000] loss: 5.227\n",
      "[2,  2000] loss: 3.812\n",
      "[2,  4000] loss: 2.746\n",
      "[2,  6000] loss: 2.778\n",
      "[2,  8000] loss: 2.584\n",
      "[2, 10000] loss: 2.968\n",
      "[2, 12000] loss: 2.463\n",
      "Finished Training\n"
     ]
    }
   ],
   "source": [
    "for epoch in range(2):  # loop over the dataset multiple times\n",
    "\n",
    "    running_loss = 0.0\n",
    "    for i, data in enumerate(trainloader, 0):\n",
    "        # get the inputs\n",
    "        inputs, labels = data\n",
    "\n",
    "        # zero the parameter gradients\n",
    "        opt.zero_grad()\n",
    "\n",
    "        # forward + backward + optimize\n",
    "        outputs = m(inputs.to(torch.device('cuda:1')))\n",
    "        loss = loss_fn(outputs, labels.to(torch.device('cuda:1')))\n",
    "        loss.backward()\n",
    "        opt.step()\n",
    "\n",
    "        # print statistics\n",
    "        running_loss += loss.item()\n",
    "        if i % 2000 == 1999:    # print every 2000 mini-batches\n",
    "            print('[%d, %5d] loss: %.3f' %\n",
    "                  (epoch + 1, i + 1, running_loss / 2000))\n",
    "            running_loss = 0.0\n",
    "\n",
    "print('Finished Training')"
   ]
  },
  {
   "cell_type": "code",
   "execution_count": 93,
   "metadata": {},
   "outputs": [
    {
     "name": "stdout",
     "output_type": "stream",
     "text": [
      "Accuracy of plane : 58 %\n",
      "Accuracy of   car : 64 %\n",
      "Accuracy of  bird :  7 %\n",
      "Accuracy of   cat : 28 %\n",
      "Accuracy of  deer : 25 %\n",
      "Accuracy of   dog : 17 %\n",
      "Accuracy of  frog : 62 %\n",
      "Accuracy of horse : 58 %\n",
      "Accuracy of  ship : 32 %\n",
      "Accuracy of truck :  1 %\n"
     ]
    }
   ],
   "source": [
    "class_correct = list(0. for i in range(10))\n",
    "class_total = list(0. for i in range(10))\n",
    "with torch.no_grad():\n",
    "    for data in testloader:\n",
    "        images, labels = data\n",
    "        outputs = m(images.to(torch.device('cuda:1')))\n",
    "        _, predicted = torch.max(outputs, 1)\n",
    "        c = (predicted == labels.to(torch.device('cuda:1'))).squeeze()\n",
    "        for i in range(4):\n",
    "            label = labels[i]\n",
    "            class_correct[label] += c[i].item()\n",
    "            class_total[label] += 1\n",
    "\n",
    "\n",
    "for i in range(10):\n",
    "    print('Accuracy of %5s : %2d %%' % (\n",
    "        classes[i], 100 * class_correct[i] / class_total[i]))"
   ]
  },
  {
   "cell_type": "code",
   "execution_count": 95,
   "metadata": {},
   "outputs": [
    {
     "name": "stdout",
     "output_type": "stream",
     "text": [
      "Accuracy of the network on the 10000 test images: 35 %\n"
     ]
    }
   ],
   "source": [
    "correct = 0\n",
    "total = 0\n",
    "with torch.no_grad():\n",
    "    for data in testloader:\n",
    "        images, labels = data\n",
    "        outputs = m(images.to(torch.device('cuda:1')))\n",
    "        _, predicted = torch.max(outputs.data, 1)\n",
    "        total += labels.size(0)\n",
    "        correct += (predicted == labels.to(torch.device('cuda:1'))).sum().item()\n",
    "\n",
    "print('Accuracy of the network on the 10000 test images: %d %%' % (\n",
    "    100 * correct / total))"
   ]
  }
 ],
 "metadata": {
  "kernelspec": {
   "display_name": "Python 3",
   "language": "python",
   "name": "python3"
  },
  "language_info": {
   "codemirror_mode": {
    "name": "ipython",
    "version": 3
   },
   "file_extension": ".py",
   "mimetype": "text/x-python",
   "name": "python",
   "nbconvert_exporter": "python",
   "pygments_lexer": "ipython3",
   "version": "3.6.5"
  }
 },
 "nbformat": 4,
 "nbformat_minor": 2
}
