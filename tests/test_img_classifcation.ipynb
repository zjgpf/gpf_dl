{
 "cells": [
  {
   "cell_type": "code",
   "execution_count": 1,
   "metadata": {},
   "outputs": [],
   "source": [
    "import pandas as pd\n",
    "import os\n",
    "import sys\n",
    "sys.path.append(os.path.pardir)\n",
    "import core,model\n",
    "import torch.optim as optim\n",
    "import torch.nn.functional as F\n",
    "import torch.nn as nn\n",
    "import torch\n",
    "import numpy as np\n",
    "import pdb\n",
    "import torch.tensor as tensor\n",
    "from matplotlib import pyplot as plt"
   ]
  },
  {
   "cell_type": "code",
   "execution_count": 2,
   "metadata": {},
   "outputs": [],
   "source": [
    "label_index_img_c = {'frog':0,'truck':1,'deer':2,'automobile':3,'bird':4,'horse':5,'ship':6,'cat':7,'airplane':8,'dog':9}\n",
    "train_path = '/data/gpf/tutorial/dl/cnn/cifar/train'\n",
    "test_path = '/data/gpf/tutorial/dl/cnn/cifar/test'"
   ]
  },
  {
   "cell_type": "code",
   "execution_count": 3,
   "metadata": {},
   "outputs": [
    {
     "name": "stdout",
     "output_type": "stream",
     "text": [
      "frog:5000\n",
      "truck:5000\n",
      "deer:5000\n",
      "automobile:5000\n",
      "bird:5000\n",
      "horse:5000\n",
      "ship:5000\n",
      "cat:5000\n",
      "airplane:5000\n",
      "dog:5000\n"
     ]
    }
   ],
   "source": [
    "path_labels_train = core.get_img_path_label_from_path(train_path,label_index_img_c)"
   ]
  },
  {
   "cell_type": "code",
   "execution_count": 4,
   "metadata": {},
   "outputs": [
    {
     "name": "stdout",
     "output_type": "stream",
     "text": [
      "frog:1000\n",
      "truck:1000\n",
      "deer:1000\n",
      "automobile:1000\n",
      "bird:1000\n",
      "horse:1000\n",
      "ship:1000\n",
      "cat:1000\n",
      "airplane:1000\n",
      "dog:1000\n"
     ]
    }
   ],
   "source": [
    "path_labels_test = core.get_img_path_label_from_path(test_path,label_index_img_c)"
   ]
  },
  {
   "cell_type": "code",
   "execution_count": 5,
   "metadata": {},
   "outputs": [],
   "source": [
    "img_paths, labels = zip(*path_labels_train)\n",
    "#dl = core.make_batches_img(np.array(img_paths), np.array(labels).astype(int),bs=64)\n",
    "dl = core.dl_img(np.array(img_paths), np.array(labels).astype(int),bs=64)"
   ]
  },
  {
   "cell_type": "code",
   "execution_count": 9,
   "metadata": {},
   "outputs": [
    {
     "name": "stdout",
     "output_type": "stream",
     "text": [
      "Making batches... batch size: 64,num of batchese: 782\n"
     ]
    }
   ],
   "source": [
    "a = next(iter(dl))"
   ]
  },
  {
   "cell_type": "code",
   "execution_count": 10,
   "metadata": {},
   "outputs": [
    {
     "data": {
      "text/plain": [
       "<matplotlib.image.AxesImage at 0x7efcc4ad9550>"
      ]
     },
     "execution_count": 10,
     "metadata": {},
     "output_type": "execute_result"
    },
    {
     "data": {
      "image/png": "[encoded data removed]",
      "text/plain": [
       "<Figure size 432x288 with 1 Axes>"
      ]
     },
     "metadata": {},
     "output_type": "display_data"
    }
   ],
   "source": [
    "plt.imshow((a[0][0].numpy()*255).astype(int))"
   ]
  },
  {
   "cell_type": "code",
   "execution_count": 14,
   "metadata": {},
   "outputs": [
    {
     "data": {
      "text/plain": [
       "SimpleNet(\n",
       "  (layers): ModuleList(\n",
       "    (0): Linear(in_features=3072, out_features=40, bias=True)\n",
       "    (1): Linear(in_features=40, out_features=10, bias=True)\n",
       "  )\n",
       ")"
      ]
     },
     "execution_count": 14,
     "metadata": {},
     "output_type": "execute_result"
    }
   ],
   "source": [
    "#[32*32*3, 40,10]\n",
    "class SimpleNet(nn.Module):\n",
    "    \n",
    "    def __init__(self, layers):\n",
    "        super().__init__()\n",
    "        self.layers = nn.ModuleList([nn.Linear(layers[i],layers[i+1]) for i in range(len(layers)-1)])\n",
    "        \n",
    "    def forward(self, seq):\n",
    "        bs = seq.size()[0]\n",
    "        X = seq.view(bs,-1)\n",
    "        for layer in self.layers:\n",
    "            X = F.relu(layer(X))\n",
    "        return F.log_softmax(X,dim=-1)\n",
    "    \n",
    "    def get_device(self):\n",
    "        p = next(self.parameters())\n",
    "        device_type = str(p.device.type)\n",
    "        device_index = p.device.index\n",
    "        ret = device_type + ':' + str(device_index) if device_type == 'cuda' else device_type\n",
    "        return torch.device(ret) \n",
    "    \n",
    "\n",
    "m = SimpleNet([32*32*3,40,10]).cuda()\n",
    "m"
   ]
  },
  {
   "cell_type": "code",
   "execution_count": 15,
   "metadata": {},
   "outputs": [],
   "source": [
    "opt = optim.Adam(m.parameters(),lr=0.1)\n",
    "loss_fn = F.nll_loss"
   ]
  },
  {
   "cell_type": "code",
   "execution_count": 17,
   "metadata": {},
   "outputs": [
    {
     "name": "stderr",
     "output_type": "stream",
     "text": [
      "\r",
      "  0%|          | 0/3 [00:00<?, ?it/s]"
     ]
    },
    {
     "name": "stdout",
     "output_type": "stream",
     "text": [
      "model is been trained on cuda:0\n",
      "Making batches... batch size: 64,num of batchese: 782\n"
     ]
    },
    {
     "name": "stderr",
     "output_type": "stream",
     "text": [
      "\r",
      " 33%|███▎      | 1/3 [00:03<00:07,  3.98s/it]"
     ]
    },
    {
     "name": "stdout",
     "output_type": "stream",
     "text": [
      "Epoch: 0, total loss: 1800.6213817596436\n",
      "Making batches... batch size: 64,num of batchese: 782\n"
     ]
    },
    {
     "name": "stderr",
     "output_type": "stream",
     "text": [
      "\r",
      " 67%|██████▋   | 2/3 [00:07<00:03,  3.95s/it]"
     ]
    },
    {
     "name": "stdout",
     "output_type": "stream",
     "text": [
      "Epoch: 1, total loss: 1800.6213817596436\n",
      "Making batches... batch size: 64,num of batchese: 782\n"
     ]
    },
    {
     "name": "stderr",
     "output_type": "stream",
     "text": [
      "\r",
      "100%|██████████| 3/3 [00:11<00:00,  3.91s/it]"
     ]
    },
    {
     "name": "stdout",
     "output_type": "stream",
     "text": [
      "Epoch: 2, total loss: 1800.6213817596436\n",
      "Saving model to /data/gpf/gpf_dl/tests/tmp_torch_model.torch\n"
     ]
    },
    {
     "name": "stderr",
     "output_type": "stream",
     "text": [
      "\n"
     ]
    }
   ],
   "source": [
    "core.fit(m,dl,3,opt,loss_fn)"
   ]
  },
  {
   "cell_type": "code",
   "execution_count": 18,
   "metadata": {},
   "outputs": [],
   "source": [
    "img_paths, labels = zip(*path_labels_test)"
   ]
  },
  {
   "cell_type": "code",
   "execution_count": 19,
   "metadata": {},
   "outputs": [],
   "source": [
    "img_paths, labels = zip(*path_labels_test)\n",
    "dl = core.dl_img(np.array(img_paths), np.array(labels).astype(int),bs=64)"
   ]
  },
  {
   "cell_type": "code",
   "execution_count": 20,
   "metadata": {},
   "outputs": [
    {
     "name": "stdout",
     "output_type": "stream",
     "text": [
      "Making batches... batch size: 64,num of batchese: 157\n"
     ]
    }
   ],
   "source": [
    "imgs,labels = zip(*dl)"
   ]
  },
  {
   "cell_type": "code",
   "execution_count": 22,
   "metadata": {},
   "outputs": [],
   "source": [
    "preds = core.predict_batch_img(m,imgs)"
   ]
  },
  {
   "cell_type": "code",
   "execution_count": 23,
   "metadata": {},
   "outputs": [],
   "source": [
    "expects = []\n",
    "a = [expects.extend(v.tolist()) for v in labels]"
   ]
  },
  {
   "cell_type": "code",
   "execution_count": 24,
   "metadata": {},
   "outputs": [
    {
     "name": "stdout",
     "output_type": "stream",
     "text": [
      "---------------------------0-------------------------------\n",
      "total:  1000\n",
      "correct:  1000\n",
      "accuracy:  1.0\n",
      "---------------------------1-------------------------------\n",
      "total:  1000\n",
      "correct:  0\n",
      "accuracy:  0.0\n",
      "---------------------------2-------------------------------\n",
      "total:  1000\n",
      "correct:  0\n",
      "accuracy:  0.0\n",
      "---------------------------3-------------------------------\n",
      "total:  1000\n",
      "correct:  0\n",
      "accuracy:  0.0\n",
      "---------------------------4-------------------------------\n",
      "total:  1000\n",
      "correct:  0\n",
      "accuracy:  0.0\n",
      "---------------------------5-------------------------------\n",
      "total:  1000\n",
      "correct:  0\n",
      "accuracy:  0.0\n",
      "---------------------------6-------------------------------\n",
      "total:  1000\n",
      "correct:  0\n",
      "accuracy:  0.0\n",
      "---------------------------7-------------------------------\n",
      "total:  1000\n",
      "correct:  0\n",
      "accuracy:  0.0\n",
      "---------------------------8-------------------------------\n",
      "total:  1000\n",
      "correct:  0\n",
      "accuracy:  0.0\n",
      "---------------------------9-------------------------------\n",
      "total:  1000\n",
      "correct:  0\n",
      "accuracy:  0.0\n",
      "---------------------------All-------------------------------\n",
      "total correct/total:1000/10000\n",
      "total accuracy:  0.1\n"
     ]
    }
   ],
   "source": [
    "core.evaluation_matrix(np.array(preds),np.array(expects))"
   ]
  },
  {
   "cell_type": "code",
   "execution_count": 42,
   "metadata": {},
   "outputs": [],
   "source": [
    "def gen(arr):\n",
    "    for v in arr: yield v\n",
    "\n",
    "g = gen([1,2,3])"
   ]
  },
  {
   "cell_type": "code",
   "execution_count": 43,
   "metadata": {},
   "outputs": [
    {
     "name": "stdout",
     "output_type": "stream",
     "text": [
      "1\n",
      "2\n",
      "3\n"
     ]
    }
   ],
   "source": [
    "for v in g: print(v)"
   ]
  },
  {
   "cell_type": "code",
   "execution_count": 44,
   "metadata": {},
   "outputs": [],
   "source": [
    "for v in g: print(v)"
   ]
  },
  {
   "cell_type": "code",
   "execution_count": 45,
   "metadata": {},
   "outputs": [],
   "source": [
    "class gen_c:\n",
    "    def __init__(self, arr):\n",
    "        self.arr = arr\n",
    "    \n",
    "    def __iter__(self):\n",
    "        for v in self.arr: yield v"
   ]
  },
  {
   "cell_type": "code",
   "execution_count": 46,
   "metadata": {},
   "outputs": [],
   "source": [
    "a = gen_c([1,2,3])"
   ]
  },
  {
   "cell_type": "code",
   "execution_count": 47,
   "metadata": {},
   "outputs": [
    {
     "name": "stdout",
     "output_type": "stream",
     "text": [
      "1\n",
      "2\n",
      "3\n"
     ]
    }
   ],
   "source": [
    "for v in a: print(v)"
   ]
  },
  {
   "cell_type": "code",
   "execution_count": 48,
   "metadata": {},
   "outputs": [
    {
     "name": "stdout",
     "output_type": "stream",
     "text": [
      "1\n",
      "2\n",
      "3\n"
     ]
    }
   ],
   "source": [
    "for v in a: print(v)"
   ]
  },
  {
   "cell_type": "code",
   "execution_count": 49,
   "metadata": {},
   "outputs": [
    {
     "data": {
      "text/plain": [
       "True"
      ]
     },
     "execution_count": 49,
     "metadata": {},
     "output_type": "execute_result"
    }
   ],
   "source": [
    "iter(g) is iter(g)"
   ]
  },
  {
   "cell_type": "code",
   "execution_count": 50,
   "metadata": {},
   "outputs": [
    {
     "data": {
      "text/plain": [
       "False"
      ]
     },
     "execution_count": 50,
     "metadata": {},
     "output_type": "execute_result"
    }
   ],
   "source": [
    "iter(a) is iter(a)"
   ]
  },
  {
   "cell_type": "code",
   "execution_count": null,
   "metadata": {},
   "outputs": [],
   "source": []
  }
 ],
 "metadata": {
  "kernelspec": {
   "display_name": "Python 3",
   "language": "python",
   "name": "python3"
  },
  "language_info": {
   "codemirror_mode": {
    "name": "ipython",
    "version": 3
   },
   "file_extension": ".py",
   "mimetype": "text/x-python",
   "name": "python",
   "nbconvert_exporter": "python",
   "pygments_lexer": "ipython3",
   "version": "3.6.5"
  }
 },
 "nbformat": 4,
 "nbformat_minor": 2
}
