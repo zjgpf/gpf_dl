{
 "cells": [
  {
   "cell_type": "code",
   "execution_count": 1,
   "metadata": {},
   "outputs": [],
   "source": [
    "import pandas as pd\n",
    "import os\n",
    "import sys\n",
    "sys.path.append(os.path.pardir)\n",
    "import core,model\n",
    "import torch.optim as optim\n",
    "import torch.nn.functional as F\n",
    "import torch.nn as nn\n",
    "import torch\n",
    "import numpy as np\n",
    "import pdb\n",
    "import torch.tensor as tensor\n",
    "from matplotlib import pyplot as plt\n",
    "torch.cuda.set_device(1)"
   ]
  },
  {
   "cell_type": "code",
   "execution_count": 2,
   "metadata": {},
   "outputs": [],
   "source": [
    "label_index_img_c = {'frog':0,'truck':1,'deer':2,'automobile':3,'bird':4,'horse':5,'ship':6,'cat':7,'airplane':8,'dog':9}\n",
    "train_path = '/data/gpf/tutorial/dl/cnn/cifar/train'\n",
    "test_path = '/data/gpf/tutorial/dl/cnn/cifar/test'"
   ]
  },
  {
   "cell_type": "code",
   "execution_count": 3,
   "metadata": {},
   "outputs": [
    {
     "name": "stdout",
     "output_type": "stream",
     "text": [
      "frog:5000\n",
      "truck:5000\n",
      "deer:5000\n",
      "automobile:5000\n",
      "bird:5000\n",
      "horse:5000\n",
      "ship:5000\n",
      "cat:5000\n",
      "airplane:5000\n",
      "dog:5000\n"
     ]
    }
   ],
   "source": [
    "path_labels_train = core.get_img_path_label_from_path(train_path,label_index_img_c)"
   ]
  },
  {
   "cell_type": "code",
   "execution_count": 4,
   "metadata": {},
   "outputs": [
    {
     "name": "stdout",
     "output_type": "stream",
     "text": [
      "frog:1000\n",
      "truck:1000\n",
      "deer:1000\n",
      "automobile:1000\n",
      "bird:1000\n",
      "horse:1000\n",
      "ship:1000\n",
      "cat:1000\n",
      "airplane:1000\n",
      "dog:1000\n"
     ]
    }
   ],
   "source": [
    "path_labels_test = core.get_img_path_label_from_path(test_path,label_index_img_c)"
   ]
  },
  {
   "cell_type": "code",
   "execution_count": 5,
   "metadata": {},
   "outputs": [
    {
     "data": {
      "text/plain": [
       "SimpleNet(\n",
       "  (layers): ModuleList(\n",
       "    (0): Linear(in_features=3072, out_features=40, bias=True)\n",
       "    (1): Linear(in_features=40, out_features=10, bias=True)\n",
       "  )\n",
       ")"
      ]
     },
     "execution_count": 5,
     "metadata": {},
     "output_type": "execute_result"
    }
   ],
   "source": [
    "m = model.SimpleNet([32*32*3,40,10]).cuda()\n",
    "m"
   ]
  },
  {
   "cell_type": "code",
   "execution_count": 18,
   "metadata": {},
   "outputs": [],
   "source": [
    "opt = optim.SGD(m.parameters(),lr=0.01,momentum=0.9)\n",
    "loss_fn = F.nll_loss"
   ]
  },
  {
   "cell_type": "code",
   "execution_count": 19,
   "metadata": {},
   "outputs": [
    {
     "name": "stderr",
     "output_type": "stream",
     "text": [
      "\r",
      "  0%|          | 0/30 [00:00<?, ?it/s]"
     ]
    },
    {
     "name": "stdout",
     "output_type": "stream",
     "text": [
      "model is been trained on cuda:1\n",
      "Making batches... batch size: 64,num of batchese: 782\n"
     ]
    },
    {
     "name": "stderr",
     "output_type": "stream",
     "text": [
      "\r",
      "  3%|▎         | 1/30 [00:04<02:07,  4.40s/it]"
     ]
    },
    {
     "name": "stdout",
     "output_type": "stream",
     "text": [
      "Epoch: 0, total loss: 935.3970259428024\n",
      "Making batches... batch size: 64,num of batchese: 782\n"
     ]
    },
    {
     "name": "stderr",
     "output_type": "stream",
     "text": [
      "\r",
      "  7%|▋         | 2/30 [00:08<02:03,  4.40s/it]"
     ]
    },
    {
     "name": "stdout",
     "output_type": "stream",
     "text": [
      "Epoch: 1, total loss: 933.6953402161598\n",
      "Making batches... batch size: 64,num of batchese: 782\n"
     ]
    },
    {
     "name": "stderr",
     "output_type": "stream",
     "text": [
      "\r",
      " 10%|█         | 3/30 [00:13<01:59,  4.41s/it]"
     ]
    },
    {
     "name": "stdout",
     "output_type": "stream",
     "text": [
      "Epoch: 2, total loss: 928.0183005332947\n",
      "Making batches... batch size: 64,num of batchese: 782\n"
     ]
    },
    {
     "name": "stderr",
     "output_type": "stream",
     "text": [
      "\r",
      " 13%|█▎        | 4/30 [00:17<01:54,  4.40s/it]"
     ]
    },
    {
     "name": "stdout",
     "output_type": "stream",
     "text": [
      "Epoch: 3, total loss: 917.1577001810074\n",
      "Making batches... batch size: 64,num of batchese: 782\n"
     ]
    },
    {
     "name": "stderr",
     "output_type": "stream",
     "text": [
      "\r",
      " 17%|█▋        | 5/30 [00:22<01:50,  4.40s/it]"
     ]
    },
    {
     "name": "stdout",
     "output_type": "stream",
     "text": [
      "Epoch: 4, total loss: 901.2263393998146\n",
      "Making batches... batch size: 64,num of batchese: 782\n"
     ]
    },
    {
     "name": "stderr",
     "output_type": "stream",
     "text": [
      "\r",
      " 20%|██        | 6/30 [00:26<01:45,  4.40s/it]"
     ]
    },
    {
     "name": "stdout",
     "output_type": "stream",
     "text": [
      "Epoch: 5, total loss: 906.183934032917\n",
      "Making batches... batch size: 64,num of batchese: 782\n"
     ]
    },
    {
     "name": "stderr",
     "output_type": "stream",
     "text": [
      "\r",
      " 23%|██▎       | 7/30 [00:30<01:41,  4.39s/it]"
     ]
    },
    {
     "name": "stdout",
     "output_type": "stream",
     "text": [
      "Epoch: 6, total loss: 902.7278724908829\n",
      "Making batches... batch size: 64,num of batchese: 782\n"
     ]
    },
    {
     "name": "stderr",
     "output_type": "stream",
     "text": [
      "\r",
      " 27%|██▋       | 8/30 [00:35<01:36,  4.39s/it]"
     ]
    },
    {
     "name": "stdout",
     "output_type": "stream",
     "text": [
      "Epoch: 7, total loss: 890.0921330451965\n",
      "Making batches... batch size: 64,num of batchese: 782\n"
     ]
    },
    {
     "name": "stderr",
     "output_type": "stream",
     "text": [
      "\r",
      " 30%|███       | 9/30 [00:39<01:32,  4.39s/it]"
     ]
    },
    {
     "name": "stdout",
     "output_type": "stream",
     "text": [
      "Epoch: 8, total loss: 881.6337075829506\n",
      "Making batches... batch size: 64,num of batchese: 782\n"
     ]
    },
    {
     "name": "stderr",
     "output_type": "stream",
     "text": [
      "\r",
      " 33%|███▎      | 10/30 [00:43<01:27,  4.39s/it]"
     ]
    },
    {
     "name": "stdout",
     "output_type": "stream",
     "text": [
      "Epoch: 9, total loss: 887.3887329697609\n",
      "Making batches... batch size: 64,num of batchese: 782\n"
     ]
    },
    {
     "name": "stderr",
     "output_type": "stream",
     "text": [
      "\r",
      " 37%|███▋      | 11/30 [00:48<01:23,  4.39s/it]"
     ]
    },
    {
     "name": "stdout",
     "output_type": "stream",
     "text": [
      "Epoch: 10, total loss: 890.980981528759\n",
      "Making batches... batch size: 64,num of batchese: 782\n"
     ]
    },
    {
     "name": "stderr",
     "output_type": "stream",
     "text": [
      "\r",
      " 40%|████      | 12/30 [00:52<01:19,  4.39s/it]"
     ]
    },
    {
     "name": "stdout",
     "output_type": "stream",
     "text": [
      "Epoch: 11, total loss: 872.7545489668846\n",
      "Making batches... batch size: 64,num of batchese: 782\n"
     ]
    },
    {
     "name": "stderr",
     "output_type": "stream",
     "text": [
      "\r",
      " 43%|████▎     | 13/30 [00:56<01:14,  4.38s/it]"
     ]
    },
    {
     "name": "stdout",
     "output_type": "stream",
     "text": [
      "Epoch: 12, total loss: 878.1575672626495\n",
      "Making batches... batch size: 64,num of batchese: 782\n"
     ]
    },
    {
     "name": "stderr",
     "output_type": "stream",
     "text": [
      "\r",
      " 47%|████▋     | 14/30 [01:01<01:10,  4.38s/it]"
     ]
    },
    {
     "name": "stdout",
     "output_type": "stream",
     "text": [
      "Epoch: 13, total loss: 871.4202330112457\n",
      "Making batches... batch size: 64,num of batchese: 782\n"
     ]
    },
    {
     "name": "stderr",
     "output_type": "stream",
     "text": [
      "\r",
      " 50%|█████     | 15/30 [01:05<01:05,  4.38s/it]"
     ]
    },
    {
     "name": "stdout",
     "output_type": "stream",
     "text": [
      "Epoch: 14, total loss: 868.8414292931557\n",
      "Making batches... batch size: 64,num of batchese: 782\n"
     ]
    },
    {
     "name": "stderr",
     "output_type": "stream",
     "text": [
      "\r",
      " 53%|█████▎    | 16/30 [01:10<01:01,  4.38s/it]"
     ]
    },
    {
     "name": "stdout",
     "output_type": "stream",
     "text": [
      "Epoch: 15, total loss: 873.0279743671417\n",
      "Making batches... batch size: 64,num of batchese: 782\n"
     ]
    },
    {
     "name": "stderr",
     "output_type": "stream",
     "text": [
      "\r",
      " 57%|█████▋    | 17/30 [01:14<00:56,  4.38s/it]"
     ]
    },
    {
     "name": "stdout",
     "output_type": "stream",
     "text": [
      "Epoch: 16, total loss: 869.6932911276817\n",
      "Making batches... batch size: 64,num of batchese: 782\n"
     ]
    },
    {
     "name": "stderr",
     "output_type": "stream",
     "text": [
      "\r",
      " 60%|██████    | 18/30 [01:18<00:52,  4.38s/it]"
     ]
    },
    {
     "name": "stdout",
     "output_type": "stream",
     "text": [
      "Epoch: 17, total loss: 867.0716359615326\n",
      "Making batches... batch size: 64,num of batchese: 782\n"
     ]
    },
    {
     "name": "stderr",
     "output_type": "stream",
     "text": [
      "\r",
      " 63%|██████▎   | 19/30 [01:23<00:48,  4.38s/it]"
     ]
    },
    {
     "name": "stdout",
     "output_type": "stream",
     "text": [
      "Epoch: 18, total loss: 866.2560398578644\n",
      "Making batches... batch size: 64,num of batchese: 782\n"
     ]
    },
    {
     "name": "stderr",
     "output_type": "stream",
     "text": [
      "\r",
      " 67%|██████▋   | 20/30 [01:27<00:43,  4.38s/it]"
     ]
    },
    {
     "name": "stdout",
     "output_type": "stream",
     "text": [
      "Epoch: 19, total loss: 858.6802384257317\n",
      "Making batches... batch size: 64,num of batchese: 782\n"
     ]
    },
    {
     "name": "stderr",
     "output_type": "stream",
     "text": [
      "\r",
      " 70%|███████   | 21/30 [01:32<00:39,  4.38s/it]"
     ]
    },
    {
     "name": "stdout",
     "output_type": "stream",
     "text": [
      "Epoch: 20, total loss: 863.910514652729\n",
      "Making batches... batch size: 64,num of batchese: 782\n"
     ]
    },
    {
     "name": "stderr",
     "output_type": "stream",
     "text": [
      "\r",
      " 73%|███████▎  | 22/30 [01:36<00:35,  4.38s/it]"
     ]
    },
    {
     "name": "stdout",
     "output_type": "stream",
     "text": [
      "Epoch: 21, total loss: 853.5780237913132\n",
      "Making batches... batch size: 64,num of batchese: 782\n"
     ]
    },
    {
     "name": "stderr",
     "output_type": "stream",
     "text": [
      "\r",
      " 77%|███████▋  | 23/30 [01:40<00:30,  4.38s/it]"
     ]
    },
    {
     "name": "stdout",
     "output_type": "stream",
     "text": [
      "Epoch: 22, total loss: 845.3860969543457\n",
      "Making batches... batch size: 64,num of batchese: 782\n"
     ]
    },
    {
     "name": "stderr",
     "output_type": "stream",
     "text": [
      "\r",
      " 80%|████████  | 24/30 [01:45<00:26,  4.38s/it]"
     ]
    },
    {
     "name": "stdout",
     "output_type": "stream",
     "text": [
      "Epoch: 23, total loss: 849.2141898274422\n",
      "Making batches... batch size: 64,num of batchese: 782\n"
     ]
    },
    {
     "name": "stderr",
     "output_type": "stream",
     "text": [
      "\r",
      " 83%|████████▎ | 25/30 [01:49<00:21,  4.38s/it]"
     ]
    },
    {
     "name": "stdout",
     "output_type": "stream",
     "text": [
      "Epoch: 24, total loss: 854.8348020911217\n",
      "Making batches... batch size: 64,num of batchese: 782\n"
     ]
    },
    {
     "name": "stderr",
     "output_type": "stream",
     "text": [
      "\r",
      " 87%|████████▋ | 26/30 [01:53<00:17,  4.38s/it]"
     ]
    },
    {
     "name": "stdout",
     "output_type": "stream",
     "text": [
      "Epoch: 25, total loss: 852.4597924351692\n",
      "Making batches... batch size: 64,num of batchese: 782\n"
     ]
    },
    {
     "name": "stderr",
     "output_type": "stream",
     "text": [
      "\r",
      " 90%|█████████ | 27/30 [01:58<00:13,  4.38s/it]"
     ]
    },
    {
     "name": "stdout",
     "output_type": "stream",
     "text": [
      "Epoch: 26, total loss: 844.3999802470207\n",
      "Making batches... batch size: 64,num of batchese: 782\n"
     ]
    },
    {
     "name": "stderr",
     "output_type": "stream",
     "text": [
      "\r",
      " 93%|█████████▎| 28/30 [02:02<00:08,  4.38s/it]"
     ]
    },
    {
     "name": "stdout",
     "output_type": "stream",
     "text": [
      "Epoch: 27, total loss: 846.5800987482071\n",
      "Making batches... batch size: 64,num of batchese: 782\n"
     ]
    },
    {
     "name": "stderr",
     "output_type": "stream",
     "text": [
      "\r",
      " 97%|█████████▋| 29/30 [02:07<00:04,  4.38s/it]"
     ]
    },
    {
     "name": "stdout",
     "output_type": "stream",
     "text": [
      "Epoch: 28, total loss: 851.8938454389572\n",
      "Making batches... batch size: 64,num of batchese: 782\n"
     ]
    },
    {
     "name": "stderr",
     "output_type": "stream",
     "text": [
      "\r",
      "100%|██████████| 30/30 [02:11<00:00,  4.38s/it]"
     ]
    },
    {
     "name": "stdout",
     "output_type": "stream",
     "text": [
      "Epoch: 29, total loss: 841.2488782405853\n",
      "Saving model to /data/gpf/gpf_dl/tests/tmp_torch_model.torch\n"
     ]
    },
    {
     "name": "stderr",
     "output_type": "stream",
     "text": [
      "\n"
     ]
    }
   ],
   "source": [
    "img_paths, labels = zip(*path_labels_train)\n",
    "dl = core.dl_img(np.array(img_paths), np.array(labels).astype(int),bs=64)\n",
    "core.fit(m,dl,30,opt,loss_fn)"
   ]
  },
  {
   "cell_type": "code",
   "execution_count": 20,
   "metadata": {},
   "outputs": [
    {
     "name": "stdout",
     "output_type": "stream",
     "text": [
      "Making batches... batch size: 64,num of batchese: 157\n",
      "---------------------------0-------------------------------\n",
      "total:  1000\n",
      "correct:  544\n",
      "accuracy:  0.544\n",
      "---------------------------1-------------------------------\n",
      "total:  1000\n",
      "correct:  467\n",
      "accuracy:  0.467\n",
      "---------------------------2-------------------------------\n",
      "total:  1000\n",
      "correct:  341\n",
      "accuracy:  0.341\n",
      "---------------------------3-------------------------------\n",
      "total:  1000\n",
      "correct:  555\n",
      "accuracy:  0.555\n",
      "---------------------------4-------------------------------\n",
      "total:  1000\n",
      "correct:  248\n",
      "accuracy:  0.248\n",
      "---------------------------5-------------------------------\n",
      "total:  1000\n",
      "correct:  453\n",
      "accuracy:  0.453\n",
      "---------------------------6-------------------------------\n",
      "total:  1000\n",
      "correct:  538\n",
      "accuracy:  0.538\n",
      "---------------------------7-------------------------------\n",
      "total:  1000\n",
      "correct:  324\n",
      "accuracy:  0.324\n",
      "---------------------------8-------------------------------\n",
      "total:  1000\n",
      "correct:  450\n",
      "accuracy:  0.45\n",
      "---------------------------9-------------------------------\n",
      "total:  1000\n",
      "correct:  225\n",
      "accuracy:  0.225\n",
      "---------------------------All-------------------------------\n",
      "total correct/total:4145/10000\n",
      "total accuracy:  0.4145\n"
     ]
    }
   ],
   "source": [
    "img_paths, labels = zip(*path_labels_test)\n",
    "dl = core.dl_img(np.array(img_paths), np.array(labels).astype(int),bs=64)\n",
    "imgs,labels = zip(*dl)\n",
    "\n",
    "preds = core.predict_batch_img(m,imgs)\n",
    "expects = []\n",
    "a = [expects.extend(v.tolist()) for v in labels]\n",
    "core.evaluation_matrix(np.array(preds),np.array(expects))"
   ]
  },
  {
   "cell_type": "code",
   "execution_count": 21,
   "metadata": {},
   "outputs": [
    {
     "data": {
      "text/plain": [
       "ConvNet(\n",
       "  (convlayers): ModuleList(\n",
       "    (0): Conv2d(3, 20, kernel_size=(3, 3), stride=(2, 2))\n",
       "    (1): Conv2d(20, 40, kernel_size=(3, 3), stride=(2, 2))\n",
       "    (2): Conv2d(40, 80, kernel_size=(3, 3), stride=(2, 2))\n",
       "  )\n",
       "  (pool): AdaptiveMaxPool2d(output_size=1)\n",
       "  (output): Linear(in_features=80, out_features=10, bias=True)\n",
       ")"
      ]
     },
     "execution_count": 21,
     "metadata": {},
     "output_type": "execute_result"
    }
   ],
   "source": [
    "conv_m = model.ConvNet([3,20,40,80],10).cuda()\n",
    "conv_m"
   ]
  },
  {
   "cell_type": "code",
   "execution_count": 25,
   "metadata": {},
   "outputs": [],
   "source": [
    "opt = optim.SGD(conv_m.parameters(),lr=0.01,momentum=0.5)\n",
    "loss_fn = F.nll_loss"
   ]
  },
  {
   "cell_type": "code",
   "execution_count": 28,
   "metadata": {},
   "outputs": [
    {
     "name": "stderr",
     "output_type": "stream",
     "text": [
      "\r",
      "  0%|          | 0/30 [00:00<?, ?it/s]"
     ]
    },
    {
     "name": "stdout",
     "output_type": "stream",
     "text": [
      "model is been trained on cuda:1\n",
      "Making batches... batch size: 64,num of batchese: 782\n"
     ]
    },
    {
     "name": "stderr",
     "output_type": "stream",
     "text": [
      "\r",
      "  3%|▎         | 1/30 [00:04<02:22,  4.91s/it]"
     ]
    },
    {
     "name": "stdout",
     "output_type": "stream",
     "text": [
      "Epoch: 0, total loss: 183.50784113258123\n",
      "Making batches... batch size: 64,num of batchese: 782\n"
     ]
    },
    {
     "name": "stderr",
     "output_type": "stream",
     "text": [
      "\r",
      "  7%|▋         | 2/30 [00:09<02:18,  4.94s/it]"
     ]
    },
    {
     "name": "stdout",
     "output_type": "stream",
     "text": [
      "Epoch: 1, total loss: 180.18775211274624\n",
      "Making batches... batch size: 64,num of batchese: 782\n"
     ]
    },
    {
     "name": "stderr",
     "output_type": "stream",
     "text": [
      "\r",
      " 10%|█         | 3/30 [00:14<02:13,  4.93s/it]"
     ]
    },
    {
     "name": "stdout",
     "output_type": "stream",
     "text": [
      "Epoch: 2, total loss: 176.49550599604845\n",
      "Making batches... batch size: 64,num of batchese: 782\n"
     ]
    },
    {
     "name": "stderr",
     "output_type": "stream",
     "text": [
      "\r",
      " 13%|█▎        | 4/30 [00:19<02:08,  4.93s/it]"
     ]
    },
    {
     "name": "stdout",
     "output_type": "stream",
     "text": [
      "Epoch: 3, total loss: 173.24564191699028\n",
      "Making batches... batch size: 64,num of batchese: 782\n"
     ]
    },
    {
     "name": "stderr",
     "output_type": "stream",
     "text": [
      "\r",
      " 17%|█▋        | 5/30 [00:25<02:05,  5.03s/it]"
     ]
    },
    {
     "name": "stdout",
     "output_type": "stream",
     "text": [
      "Epoch: 4, total loss: 169.97317562252283\n",
      "Making batches... batch size: 64,num of batchese: 782\n"
     ]
    },
    {
     "name": "stderr",
     "output_type": "stream",
     "text": [
      "\r",
      " 20%|██        | 6/30 [00:30<02:00,  5.02s/it]"
     ]
    },
    {
     "name": "stdout",
     "output_type": "stream",
     "text": [
      "Epoch: 5, total loss: 166.16618998348713\n",
      "Making batches... batch size: 64,num of batchese: 782\n"
     ]
    },
    {
     "name": "stderr",
     "output_type": "stream",
     "text": [
      "\r",
      " 23%|██▎       | 7/30 [00:35<01:55,  5.00s/it]"
     ]
    },
    {
     "name": "stdout",
     "output_type": "stream",
     "text": [
      "Epoch: 6, total loss: 162.93878998607397\n",
      "Making batches... batch size: 64,num of batchese: 782\n"
     ]
    },
    {
     "name": "stderr",
     "output_type": "stream",
     "text": [
      "\r",
      " 27%|██▋       | 8/30 [00:39<01:49,  5.00s/it]"
     ]
    },
    {
     "name": "stdout",
     "output_type": "stream",
     "text": [
      "Epoch: 7, total loss: 159.23606361448765\n",
      "Making batches... batch size: 64,num of batchese: 782\n"
     ]
    },
    {
     "name": "stderr",
     "output_type": "stream",
     "text": [
      "\r",
      " 30%|███       | 9/30 [00:44<01:44,  4.99s/it]"
     ]
    },
    {
     "name": "stdout",
     "output_type": "stream",
     "text": [
      "Epoch: 8, total loss: 156.79677177220583\n",
      "Making batches... batch size: 64,num of batchese: 782\n"
     ]
    },
    {
     "name": "stderr",
     "output_type": "stream",
     "text": [
      "\r",
      " 33%|███▎      | 10/30 [00:50<01:41,  5.06s/it]"
     ]
    },
    {
     "name": "stdout",
     "output_type": "stream",
     "text": [
      "Epoch: 9, total loss: 153.42202731966972\n",
      "Making batches... batch size: 64,num of batchese: 782\n"
     ]
    },
    {
     "name": "stderr",
     "output_type": "stream",
     "text": [
      "\r",
      " 37%|███▋      | 11/30 [00:55<01:36,  5.07s/it]"
     ]
    },
    {
     "name": "stdout",
     "output_type": "stream",
     "text": [
      "Epoch: 10, total loss: 150.7920216023922\n",
      "Making batches... batch size: 64,num of batchese: 782\n"
     ]
    },
    {
     "name": "stderr",
     "output_type": "stream",
     "text": [
      "\r",
      " 40%|████      | 12/30 [01:00<01:31,  5.06s/it]"
     ]
    },
    {
     "name": "stdout",
     "output_type": "stream",
     "text": [
      "Epoch: 11, total loss: 147.57237208634615\n",
      "Making batches... batch size: 64,num of batchese: 782\n"
     ]
    },
    {
     "name": "stderr",
     "output_type": "stream",
     "text": [
      "\r",
      " 43%|████▎     | 13/30 [01:05<01:25,  5.05s/it]"
     ]
    },
    {
     "name": "stdout",
     "output_type": "stream",
     "text": [
      "Epoch: 12, total loss: 144.63369789719582\n",
      "Making batches... batch size: 64,num of batchese: 782\n"
     ]
    },
    {
     "name": "stderr",
     "output_type": "stream",
     "text": [
      "\r",
      " 47%|████▋     | 14/30 [01:10<01:20,  5.04s/it]"
     ]
    },
    {
     "name": "stdout",
     "output_type": "stream",
     "text": [
      "Epoch: 13, total loss: 141.78148892521858\n",
      "Making batches... batch size: 64,num of batchese: 782\n"
     ]
    },
    {
     "name": "stderr",
     "output_type": "stream",
     "text": [
      "\r",
      " 50%|█████     | 15/30 [01:15<01:15,  5.04s/it]"
     ]
    },
    {
     "name": "stdout",
     "output_type": "stream",
     "text": [
      "Epoch: 14, total loss: 138.49874620884657\n",
      "Making batches... batch size: 64,num of batchese: 782\n"
     ]
    },
    {
     "name": "stderr",
     "output_type": "stream",
     "text": [
      "\r",
      " 53%|█████▎    | 16/30 [01:20<01:10,  5.03s/it]"
     ]
    },
    {
     "name": "stdout",
     "output_type": "stream",
     "text": [
      "Epoch: 15, total loss: 135.82692370563745\n",
      "Making batches... batch size: 64,num of batchese: 782\n"
     ]
    },
    {
     "name": "stderr",
     "output_type": "stream",
     "text": [
      "\r",
      " 57%|█████▋    | 17/30 [01:25<01:05,  5.03s/it]"
     ]
    },
    {
     "name": "stdout",
     "output_type": "stream",
     "text": [
      "Epoch: 16, total loss: 132.60151739418507\n",
      "Making batches... batch size: 64,num of batchese: 782\n"
     ]
    },
    {
     "name": "stderr",
     "output_type": "stream",
     "text": [
      "\r",
      " 60%|██████    | 18/30 [01:30<01:00,  5.02s/it]"
     ]
    },
    {
     "name": "stdout",
     "output_type": "stream",
     "text": [
      "Epoch: 17, total loss: 130.70965382829309\n",
      "Making batches... batch size: 64,num of batchese: 782\n"
     ]
    },
    {
     "name": "stderr",
     "output_type": "stream",
     "text": [
      "\r",
      " 63%|██████▎   | 19/30 [01:35<00:55,  5.02s/it]"
     ]
    },
    {
     "name": "stdout",
     "output_type": "stream",
     "text": [
      "Epoch: 18, total loss: 126.63379041850567\n",
      "Making batches... batch size: 64,num of batchese: 782\n"
     ]
    },
    {
     "name": "stderr",
     "output_type": "stream",
     "text": [
      "\r",
      " 67%|██████▋   | 20/30 [01:40<00:50,  5.01s/it]"
     ]
    },
    {
     "name": "stdout",
     "output_type": "stream",
     "text": [
      "Epoch: 19, total loss: 124.23385425657034\n",
      "Making batches... batch size: 64,num of batchese: 782\n"
     ]
    },
    {
     "name": "stderr",
     "output_type": "stream",
     "text": [
      "\r",
      " 70%|███████   | 21/30 [01:45<00:45,  5.01s/it]"
     ]
    },
    {
     "name": "stdout",
     "output_type": "stream",
     "text": [
      "Epoch: 20, total loss: 122.18454594910145\n",
      "Making batches... batch size: 64,num of batchese: 782\n"
     ]
    },
    {
     "name": "stderr",
     "output_type": "stream",
     "text": [
      "\r",
      " 73%|███████▎  | 22/30 [01:50<00:40,  5.01s/it]"
     ]
    },
    {
     "name": "stdout",
     "output_type": "stream",
     "text": [
      "Epoch: 21, total loss: 119.45770605653524\n",
      "Making batches... batch size: 64,num of batchese: 782\n"
     ]
    },
    {
     "name": "stderr",
     "output_type": "stream",
     "text": [
      "\r",
      " 77%|███████▋  | 23/30 [01:55<00:35,  5.00s/it]"
     ]
    },
    {
     "name": "stdout",
     "output_type": "stream",
     "text": [
      "Epoch: 22, total loss: 117.08549412339926\n",
      "Making batches... batch size: 64,num of batchese: 782\n"
     ]
    },
    {
     "name": "stderr",
     "output_type": "stream",
     "text": [
      "\r",
      " 80%|████████  | 24/30 [02:00<00:30,  5.00s/it]"
     ]
    },
    {
     "name": "stdout",
     "output_type": "stream",
     "text": [
      "Epoch: 23, total loss: 114.7014726176858\n",
      "Making batches... batch size: 64,num of batchese: 782\n"
     ]
    },
    {
     "name": "stderr",
     "output_type": "stream",
     "text": [
      "\r",
      " 83%|████████▎ | 25/30 [02:05<00:25,  5.01s/it]"
     ]
    },
    {
     "name": "stdout",
     "output_type": "stream",
     "text": [
      "Epoch: 24, total loss: 111.82694634050131\n",
      "Making batches... batch size: 64,num of batchese: 782\n"
     ]
    },
    {
     "name": "stderr",
     "output_type": "stream",
     "text": [
      "\r",
      " 87%|████████▋ | 26/30 [02:10<00:20,  5.00s/it]"
     ]
    },
    {
     "name": "stdout",
     "output_type": "stream",
     "text": [
      "Epoch: 25, total loss: 109.44961181282997\n",
      "Making batches... batch size: 64,num of batchese: 782\n"
     ]
    },
    {
     "name": "stderr",
     "output_type": "stream",
     "text": [
      "\r",
      " 90%|█████████ | 27/30 [02:15<00:15,  5.00s/it]"
     ]
    },
    {
     "name": "stdout",
     "output_type": "stream",
     "text": [
      "Epoch: 26, total loss: 107.35070639103651\n",
      "Making batches... batch size: 64,num of batchese: 782\n"
     ]
    },
    {
     "name": "stderr",
     "output_type": "stream",
     "text": [
      "\r",
      " 93%|█████████▎| 28/30 [02:20<00:10,  5.00s/it]"
     ]
    },
    {
     "name": "stdout",
     "output_type": "stream",
     "text": [
      "Epoch: 27, total loss: 104.42036105692387\n",
      "Making batches... batch size: 64,num of batchese: 782\n"
     ]
    },
    {
     "name": "stderr",
     "output_type": "stream",
     "text": [
      "\r",
      " 97%|█████████▋| 29/30 [02:24<00:04,  5.00s/it]"
     ]
    },
    {
     "name": "stdout",
     "output_type": "stream",
     "text": [
      "Epoch: 28, total loss: 102.62185747176409\n",
      "Making batches... batch size: 64,num of batchese: 782\n"
     ]
    },
    {
     "name": "stderr",
     "output_type": "stream",
     "text": [
      "\r",
      "100%|██████████| 30/30 [02:29<00:00,  5.00s/it]"
     ]
    },
    {
     "name": "stdout",
     "output_type": "stream",
     "text": [
      "Epoch: 29, total loss: 100.39600658416748\n",
      "Saving model to /data/gpf/gpf_dl/tests/tmp_torch_model.torch\n"
     ]
    },
    {
     "name": "stderr",
     "output_type": "stream",
     "text": [
      "\n"
     ]
    }
   ],
   "source": [
    "img_paths, labels = zip(*path_labels_train)\n",
    "dl = core.dl_img(np.array(img_paths), np.array(labels).astype(int),bs=64)\n",
    "core.fit(conv_m,dl,30,opt,loss_fn)"
   ]
  },
  {
   "cell_type": "code",
   "execution_count": 29,
   "metadata": {},
   "outputs": [
    {
     "name": "stdout",
     "output_type": "stream",
     "text": [
      "Making batches... batch size: 64,num of batchese: 157\n",
      "---------------------------0-------------------------------\n",
      "total:  1000\n",
      "correct:  601\n",
      "accuracy:  0.601\n",
      "---------------------------1-------------------------------\n",
      "total:  1000\n",
      "correct:  640\n",
      "accuracy:  0.64\n",
      "---------------------------2-------------------------------\n",
      "total:  1000\n",
      "correct:  482\n",
      "accuracy:  0.482\n",
      "---------------------------3-------------------------------\n",
      "total:  1000\n",
      "correct:  707\n",
      "accuracy:  0.707\n",
      "---------------------------4-------------------------------\n",
      "total:  1000\n",
      "correct:  454\n",
      "accuracy:  0.454\n",
      "---------------------------5-------------------------------\n",
      "total:  1000\n",
      "correct:  588\n",
      "accuracy:  0.588\n",
      "---------------------------6-------------------------------\n",
      "total:  1000\n",
      "correct:  698\n",
      "accuracy:  0.698\n",
      "---------------------------7-------------------------------\n",
      "total:  1000\n",
      "correct:  371\n",
      "accuracy:  0.371\n",
      "---------------------------8-------------------------------\n",
      "total:  1000\n",
      "correct:  616\n",
      "accuracy:  0.616\n",
      "---------------------------9-------------------------------\n",
      "total:  1000\n",
      "correct:  466\n",
      "accuracy:  0.466\n",
      "---------------------------All-------------------------------\n",
      "total correct/total:5623/10000\n",
      "total accuracy:  0.5623\n"
     ]
    }
   ],
   "source": [
    "img_paths, labels = zip(*path_labels_test)\n",
    "dl = core.dl_img(np.array(img_paths), np.array(labels).astype(int),bs=64)\n",
    "imgs,labels = zip(*dl)\n",
    "\n",
    "preds = core.predict_batch_img(conv_m,imgs)\n",
    "expects = []\n",
    "a = [expects.extend(v.tolist()) for v in labels]\n",
    "core.evaluation_matrix(np.array(preds),np.array(expects))"
   ]
  },
  {
   "cell_type": "code",
   "execution_count": null,
   "metadata": {},
   "outputs": [],
   "source": []
  }
 ],
 "metadata": {
  "kernelspec": {
   "display_name": "Python 3",
   "language": "python",
   "name": "python3"
  },
  "language_info": {
   "codemirror_mode": {
    "name": "ipython",
    "version": 3
   },
   "file_extension": ".py",
   "mimetype": "text/x-python",
   "name": "python",
   "nbconvert_exporter": "python",
   "pygments_lexer": "ipython3",
   "version": "3.6.5"
  }
 },
 "nbformat": 4,
 "nbformat_minor": 2
}
