{
 "cells": [
  {
   "cell_type": "code",
   "execution_count": 9,
   "metadata": {},
   "outputs": [],
   "source": [
    "import pandas as pd\n",
    "import os\n",
    "import sys\n",
    "sys.path.append(os.path.pardir)\n",
    "import core,model\n",
    "import torch.optim as optim\n",
    "import torch.nn.functional as F\n",
    "import torch"
   ]
  },
  {
   "cell_type": "code",
   "execution_count": 2,
   "metadata": {},
   "outputs": [
    {
     "data": {
      "text/plain": [
       "(59623, 6)"
      ]
     },
     "execution_count": 2,
     "metadata": {},
     "output_type": "execute_result"
    }
   ],
   "source": [
    "df = pd.read_csv('dataset_test.csv')\n",
    "df.shape"
   ]
  },
  {
   "cell_type": "code",
   "execution_count": 3,
   "metadata": {},
   "outputs": [
    {
     "data": {
      "text/plain": [
       "8736"
      ]
     },
     "execution_count": 3,
     "metadata": {},
     "output_type": "execute_result"
    }
   ],
   "source": [
    "word_index, index_word = core.get_word_index('word_dict.pickle')\n",
    "len(word_index)"
   ]
  },
  {
   "cell_type": "code",
   "execution_count": 11,
   "metadata": {},
   "outputs": [
    {
     "data": {
      "text/plain": [
       "SimpleGRU(\n",
       "  (emb): Embedding(8736, 7)\n",
       "  (gru): GRU(7, 128)\n",
       "  (out): Linear(in_features=128, out_features=4, bias=True)\n",
       ")"
      ]
     },
     "execution_count": 11,
     "metadata": {},
     "output_type": "execute_result"
    }
   ],
   "source": [
    "vocal_size = len(word_index)\n",
    "embedding_dim = 7\n",
    "n_hidden = 128\n",
    "n_out = 4\n",
    "\n",
    "m = model.SimpleGRU(vocal_size,embedding_dim,n_hidden,n_out).to(torch.device('cuda:0'))\n",
    "m"
   ]
  },
  {
   "cell_type": "code",
   "execution_count": 5,
   "metadata": {},
   "outputs": [],
   "source": [
    "label_index = {'办公费':0,'业务招待费':1,'福利费':2,'差旅费':3}\n",
    "X = df.x.apply(core.str2arr)\n",
    "y = core.index_labels(df.y1,label_index)"
   ]
  },
  {
   "cell_type": "code",
   "execution_count": 12,
   "metadata": {},
   "outputs": [],
   "source": [
    "opt = optim.SGD(m.parameters(), lr=0.3, momentum=0.5)\n",
    "loss_fn = F.nll_loss"
   ]
  },
  {
   "cell_type": "code",
   "execution_count": 14,
   "metadata": {},
   "outputs": [
    {
     "name": "stderr",
     "output_type": "stream",
     "text": [
      "\n",
      "  0%|          | 0/100 [00:00<?, ?it/s]\u001b[A"
     ]
    },
    {
     "name": "stdout",
     "output_type": "stream",
     "text": [
      "model is been trained on cuda:0\n",
      "min category: 3, num: 7612\n",
      "category: 0, origin_len: 32802, new_len: 7600\n",
      "category: 1, origin_len: 10464, new_len: 7640\n",
      "category: 2, origin_len: 8745, new_len: 7596\n",
      "category: 3, origin_len: 7612, new_len: 7612\n",
      "Making batches... batch size: 512,num of batchese: 60\n",
      "Epoch: 0 Generator: 0, total loss: 54.82690608501434\n",
      "min category: 3, num: 7612\n",
      "category: 0, origin_len: 32802, new_len: 7567\n",
      "category: 1, origin_len: 10464, new_len: 7615\n",
      "category: 2, origin_len: 8745, new_len: 7625\n",
      "category: 3, origin_len: 7612, new_len: 7612\n",
      "Making batches... batch size: 512,num of batchese: 60\n",
      "Epoch: 0 Generator: 1, total loss: 54.4892241358757\n",
      "min category: 3, num: 7612\n",
      "category: 0, origin_len: 32802, new_len: 7663\n",
      "category: 1, origin_len: 10464, new_len: 7631\n",
      "category: 2, origin_len: 8745, new_len: 7652\n",
      "category: 3, origin_len: 7612, new_len: 7612\n",
      "Making batches... batch size: 512,num of batchese: 60\n"
     ]
    },
    {
     "name": "stderr",
     "output_type": "stream",
     "text": [
      "\n",
      "  1%|          | 1/100 [00:02<04:55,  2.99s/it]\u001b[A"
     ]
    },
    {
     "name": "stdout",
     "output_type": "stream",
     "text": [
      "Epoch: 0 Generator: 2, total loss: 53.86135119199753\n",
      "min category: 3, num: 7612\n",
      "category: 0, origin_len: 32802, new_len: 7781\n",
      "category: 1, origin_len: 10464, new_len: 7663\n",
      "category: 2, origin_len: 8745, new_len: 7615\n",
      "category: 3, origin_len: 7612, new_len: 7612\n",
      "Making batches... batch size: 512,num of batchese: 60\n",
      "Epoch: 1 Generator: 0, total loss: 53.46730315685272\n",
      "min category: 3, num: 7612\n",
      "category: 0, origin_len: 32802, new_len: 7569\n",
      "category: 1, origin_len: 10464, new_len: 7609\n",
      "category: 2, origin_len: 8745, new_len: 7594\n",
      "category: 3, origin_len: 7612, new_len: 7612\n",
      "Making batches... batch size: 512,num of batchese: 60\n",
      "Epoch: 1 Generator: 1, total loss: 52.415014803409576\n",
      "min category: 3, num: 7612\n",
      "category: 0, origin_len: 32802, new_len: 7702\n",
      "category: 1, origin_len: 10464, new_len: 7532\n",
      "category: 2, origin_len: 8745, new_len: 7589\n",
      "category: 3, origin_len: 7612, new_len: 7612\n",
      "Making batches... batch size: 512,num of batchese: 60\n"
     ]
    },
    {
     "name": "stderr",
     "output_type": "stream",
     "text": [
      "\n",
      "  2%|▏         | 2/100 [00:05<04:51,  2.97s/it]\u001b[A"
     ]
    },
    {
     "name": "stdout",
     "output_type": "stream",
     "text": [
      "Epoch: 1 Generator: 2, total loss: 51.94185823202133\n",
      "min category: 3, num: 7612\n",
      "category: 0, origin_len: 32802, new_len: 7574\n",
      "category: 1, origin_len: 10464, new_len: 7601\n",
      "category: 2, origin_len: 8745, new_len: 7602\n",
      "category: 3, origin_len: 7612, new_len: 7612\n",
      "Making batches... batch size: 512,num of batchese: 60\n",
      "Epoch: 2 Generator: 0, total loss: 51.264513075351715\n",
      "min category: 3, num: 7612\n",
      "category: 0, origin_len: 32802, new_len: 7543\n",
      "category: 1, origin_len: 10464, new_len: 7637\n",
      "category: 2, origin_len: 8745, new_len: 7587\n",
      "category: 3, origin_len: 7612, new_len: 7612\n",
      "Making batches... batch size: 512,num of batchese: 60\n",
      "Epoch: 2 Generator: 1, total loss: 50.1487438082695\n",
      "min category: 3, num: 7612\n",
      "category: 0, origin_len: 32802, new_len: 7708\n",
      "category: 1, origin_len: 10464, new_len: 7582\n",
      "category: 2, origin_len: 8745, new_len: 7638\n",
      "category: 3, origin_len: 7612, new_len: 7612\n",
      "Making batches... batch size: 512,num of batchese: 60\n"
     ]
    },
    {
     "name": "stderr",
     "output_type": "stream",
     "text": [
      "\n",
      "  3%|▎         | 3/100 [00:08<04:46,  2.95s/it]\u001b[A"
     ]
    },
    {
     "name": "stdout",
     "output_type": "stream",
     "text": [
      "Epoch: 2 Generator: 2, total loss: 49.80211383104324\n",
      "min category: 3, num: 7612\n",
      "category: 0, origin_len: 32802, new_len: 7657\n",
      "category: 1, origin_len: 10464, new_len: 7642\n",
      "category: 2, origin_len: 8745, new_len: 7655\n",
      "category: 3, origin_len: 7612, new_len: 7612\n",
      "Making batches... batch size: 512,num of batchese: 60\n",
      "Epoch: 3 Generator: 0, total loss: 49.558710753917694\n",
      "min category: 3, num: 7612\n",
      "category: 0, origin_len: 32802, new_len: 7602\n",
      "category: 1, origin_len: 10464, new_len: 7557\n",
      "category: 2, origin_len: 8745, new_len: 7631\n",
      "category: 3, origin_len: 7612, new_len: 7612\n",
      "Making batches... batch size: 512,num of batchese: 60\n",
      "Epoch: 3 Generator: 1, total loss: 48.44177269935608\n",
      "min category: 3, num: 7612\n",
      "category: 0, origin_len: 32802, new_len: 7581\n",
      "category: 1, origin_len: 10464, new_len: 7660\n",
      "category: 2, origin_len: 8745, new_len: 7649\n",
      "category: 3, origin_len: 7612, new_len: 7612\n",
      "Making batches... batch size: 512,num of batchese: 60\n"
     ]
    },
    {
     "name": "stderr",
     "output_type": "stream",
     "text": [
      "\n",
      "  4%|▍         | 4/100 [00:11<04:42,  2.94s/it]\u001b[A"
     ]
    },
    {
     "name": "stdout",
     "output_type": "stream",
     "text": [
      "Epoch: 3 Generator: 2, total loss: 47.97664648294449\n",
      "min category: 3, num: 7612\n",
      "category: 0, origin_len: 32802, new_len: 7736\n",
      "category: 1, origin_len: 10464, new_len: 7534\n",
      "category: 2, origin_len: 8745, new_len: 7558\n",
      "category: 3, origin_len: 7612, new_len: 7612\n",
      "Making batches... batch size: 512,num of batchese: 60\n",
      "Epoch: 4 Generator: 0, total loss: 47.441491067409515\n",
      "min category: 3, num: 7612\n",
      "category: 0, origin_len: 32802, new_len: 7679\n",
      "category: 1, origin_len: 10464, new_len: 7715\n",
      "category: 2, origin_len: 8745, new_len: 7602\n",
      "category: 3, origin_len: 7612, new_len: 7612\n",
      "Making batches... batch size: 512,num of batchese: 60\n",
      "Epoch: 4 Generator: 1, total loss: 46.550964176654816\n",
      "min category: 3, num: 7612\n",
      "category: 0, origin_len: 32802, new_len: 7623\n",
      "category: 1, origin_len: 10464, new_len: 7577\n",
      "category: 2, origin_len: 8745, new_len: 7618\n",
      "category: 3, origin_len: 7612, new_len: 7612\n",
      "Making batches... batch size: 512,num of batchese: 60\n"
     ]
    },
    {
     "name": "stderr",
     "output_type": "stream",
     "text": [
      "\n",
      "  5%|▌         | 5/100 [00:14<04:39,  2.94s/it]\u001b[A"
     ]
    },
    {
     "name": "stdout",
     "output_type": "stream",
     "text": [
      "Epoch: 4 Generator: 2, total loss: 45.63574796915054\n",
      "min category: 3, num: 7612\n",
      "category: 0, origin_len: 32802, new_len: 7529\n",
      "category: 1, origin_len: 10464, new_len: 7583\n",
      "category: 2, origin_len: 8745, new_len: 7672\n",
      "category: 3, origin_len: 7612, new_len: 7612\n",
      "Making batches... batch size: 512,num of batchese: 60\n",
      "Epoch: 5 Generator: 0, total loss: 45.0415318608284\n",
      "min category: 3, num: 7612\n",
      "category: 0, origin_len: 32802, new_len: 7558\n",
      "category: 1, origin_len: 10464, new_len: 7624\n",
      "category: 2, origin_len: 8745, new_len: 7576\n",
      "category: 3, origin_len: 7612, new_len: 7612\n",
      "Making batches... batch size: 512,num of batchese: 60\n",
      "Epoch: 5 Generator: 1, total loss: 44.39405542612076\n",
      "min category: 3, num: 7612\n",
      "category: 0, origin_len: 32802, new_len: 7513\n",
      "category: 1, origin_len: 10464, new_len: 7581\n",
      "category: 2, origin_len: 8745, new_len: 7569\n",
      "category: 3, origin_len: 7612, new_len: 7612\n",
      "Making batches... batch size: 512,num of batchese: 60\n"
     ]
    },
    {
     "name": "stderr",
     "output_type": "stream",
     "text": [
      "\n",
      "  6%|▌         | 6/100 [00:17<04:35,  2.93s/it]\u001b[A"
     ]
    },
    {
     "name": "stdout",
     "output_type": "stream",
     "text": [
      "Epoch: 5 Generator: 2, total loss: 44.016224682331085\n",
      "min category: 3, num: 7612\n",
      "category: 0, origin_len: 32802, new_len: 7546\n",
      "category: 1, origin_len: 10464, new_len: 7614\n",
      "category: 2, origin_len: 8745, new_len: 7563\n",
      "category: 3, origin_len: 7612, new_len: 7612\n",
      "Making batches... batch size: 512,num of batchese: 60\n",
      "Epoch: 6 Generator: 0, total loss: 43.31244558095932\n",
      "min category: 3, num: 7612\n",
      "category: 0, origin_len: 32802, new_len: 7544\n",
      "category: 1, origin_len: 10464, new_len: 7649\n",
      "category: 2, origin_len: 8745, new_len: 7615\n",
      "category: 3, origin_len: 7612, new_len: 7612\n",
      "Making batches... batch size: 512,num of batchese: 60\n",
      "Epoch: 6 Generator: 1, total loss: 42.59785360097885\n",
      "min category: 3, num: 7612\n",
      "category: 0, origin_len: 32802, new_len: 7690\n",
      "category: 1, origin_len: 10464, new_len: 7585\n",
      "category: 2, origin_len: 8745, new_len: 7578\n",
      "category: 3, origin_len: 7612, new_len: 7612\n",
      "Making batches... batch size: 512,num of batchese: 60\n"
     ]
    },
    {
     "name": "stderr",
     "output_type": "stream",
     "text": [
      "\n",
      "  7%|▋         | 7/100 [00:20<04:32,  2.93s/it]\u001b[A"
     ]
    },
    {
     "name": "stdout",
     "output_type": "stream",
     "text": [
      "Epoch: 6 Generator: 2, total loss: 42.110489189624786\n",
      "min category: 3, num: 7612\n",
      "category: 0, origin_len: 32802, new_len: 7598\n",
      "category: 1, origin_len: 10464, new_len: 7646\n",
      "category: 2, origin_len: 8745, new_len: 7609\n",
      "category: 3, origin_len: 7612, new_len: 7612\n",
      "Making batches... batch size: 512,num of batchese: 60\n",
      "Epoch: 7 Generator: 0, total loss: 41.70873063802719\n",
      "min category: 3, num: 7612\n",
      "category: 0, origin_len: 32802, new_len: 7636\n",
      "category: 1, origin_len: 10464, new_len: 7569\n",
      "category: 2, origin_len: 8745, new_len: 7658\n",
      "category: 3, origin_len: 7612, new_len: 7612\n",
      "Making batches... batch size: 512,num of batchese: 60\n",
      "Epoch: 7 Generator: 1, total loss: 41.069287061691284\n",
      "min category: 3, num: 7612\n",
      "category: 0, origin_len: 32802, new_len: 7499\n",
      "category: 1, origin_len: 10464, new_len: 7658\n",
      "category: 2, origin_len: 8745, new_len: 7584\n",
      "category: 3, origin_len: 7612, new_len: 7612\n",
      "Making batches... batch size: 512,num of batchese: 60\n"
     ]
    },
    {
     "name": "stderr",
     "output_type": "stream",
     "text": [
      "\n",
      "  8%|▊         | 8/100 [00:23<04:29,  2.93s/it]\u001b[A"
     ]
    },
    {
     "name": "stdout",
     "output_type": "stream",
     "text": [
      "Epoch: 7 Generator: 2, total loss: 40.81855219602585\n",
      "min category: 3, num: 7612\n",
      "category: 0, origin_len: 32802, new_len: 7498\n",
      "category: 1, origin_len: 10464, new_len: 7564\n",
      "category: 2, origin_len: 8745, new_len: 7645\n",
      "category: 3, origin_len: 7612, new_len: 7612\n",
      "Making batches... batch size: 512,num of batchese: 60\n",
      "Epoch: 8 Generator: 0, total loss: 40.07296645641327\n",
      "min category: 3, num: 7612\n",
      "category: 0, origin_len: 32802, new_len: 7547\n",
      "category: 1, origin_len: 10464, new_len: 7518\n",
      "category: 2, origin_len: 8745, new_len: 7618\n",
      "category: 3, origin_len: 7612, new_len: 7612\n",
      "Making batches... batch size: 512,num of batchese: 60\n",
      "Epoch: 8 Generator: 1, total loss: 40.04818505048752\n",
      "min category: 3, num: 7612\n",
      "category: 0, origin_len: 32802, new_len: 7606\n",
      "category: 1, origin_len: 10464, new_len: 7639\n",
      "category: 2, origin_len: 8745, new_len: 7539\n",
      "category: 3, origin_len: 7612, new_len: 7612\n",
      "Making batches... batch size: 512,num of batchese: 60\n"
     ]
    },
    {
     "name": "stderr",
     "output_type": "stream",
     "text": [
      "\n",
      "  9%|▉         | 9/100 [00:26<04:25,  2.92s/it]\u001b[A"
     ]
    },
    {
     "name": "stdout",
     "output_type": "stream",
     "text": [
      "Epoch: 8 Generator: 2, total loss: 39.73426502943039\n",
      "min category: 3, num: 7612\n",
      "category: 0, origin_len: 32802, new_len: 7619\n",
      "category: 1, origin_len: 10464, new_len: 7536\n",
      "category: 2, origin_len: 8745, new_len: 7564\n",
      "category: 3, origin_len: 7612, new_len: 7612\n",
      "Making batches... batch size: 512,num of batchese: 60\n",
      "Epoch: 9 Generator: 0, total loss: 39.202006340026855\n",
      "min category: 3, num: 7612\n",
      "category: 0, origin_len: 32802, new_len: 7531\n",
      "category: 1, origin_len: 10464, new_len: 7662\n",
      "category: 2, origin_len: 8745, new_len: 7601\n",
      "category: 3, origin_len: 7612, new_len: 7612\n",
      "Making batches... batch size: 512,num of batchese: 60\n",
      "Epoch: 9 Generator: 1, total loss: 38.78752762079239\n",
      "min category: 3, num: 7612\n",
      "category: 0, origin_len: 32802, new_len: 7530\n",
      "category: 1, origin_len: 10464, new_len: 7608\n",
      "category: 2, origin_len: 8745, new_len: 7585\n",
      "category: 3, origin_len: 7612, new_len: 7612\n",
      "Making batches... batch size: 512,num of batchese: 60\n"
     ]
    },
    {
     "name": "stderr",
     "output_type": "stream",
     "text": [
      "\n",
      " 10%|█         | 10/100 [00:29<04:22,  2.91s/it]\u001b[A"
     ]
    },
    {
     "name": "stdout",
     "output_type": "stream",
     "text": [
      "Epoch: 9 Generator: 2, total loss: 38.81732276082039\n",
      "min category: 3, num: 7612\n",
      "category: 0, origin_len: 32802, new_len: 7613\n",
      "category: 1, origin_len: 10464, new_len: 7582\n",
      "category: 2, origin_len: 8745, new_len: 7672\n",
      "category: 3, origin_len: 7612, new_len: 7612\n",
      "Making batches... batch size: 512,num of batchese: 60\n",
      "Epoch: 10 Generator: 0, total loss: 38.437640845775604\n",
      "min category: 3, num: 7612\n",
      "category: 0, origin_len: 32802, new_len: 7597\n",
      "category: 1, origin_len: 10464, new_len: 7584\n",
      "category: 2, origin_len: 8745, new_len: 7579\n",
      "category: 3, origin_len: 7612, new_len: 7612\n",
      "Making batches... batch size: 512,num of batchese: 60\n",
      "Epoch: 10 Generator: 1, total loss: 37.646403670310974\n",
      "min category: 3, num: 7612\n",
      "category: 0, origin_len: 32802, new_len: 7591\n",
      "category: 1, origin_len: 10464, new_len: 7646\n",
      "category: 2, origin_len: 8745, new_len: 7592\n",
      "category: 3, origin_len: 7612, new_len: 7612\n",
      "Making batches... batch size: 512,num of batchese: 60\n"
     ]
    },
    {
     "name": "stderr",
     "output_type": "stream",
     "text": [
      "\n",
      " 11%|█         | 11/100 [00:32<04:19,  2.91s/it]\u001b[A"
     ]
    },
    {
     "name": "stdout",
     "output_type": "stream",
     "text": [
      "Epoch: 10 Generator: 2, total loss: 37.688435792922974\n",
      "min category: 3, num: 7612\n",
      "category: 0, origin_len: 32802, new_len: 7593\n",
      "category: 1, origin_len: 10464, new_len: 7634\n",
      "category: 2, origin_len: 8745, new_len: 7618\n",
      "category: 3, origin_len: 7612, new_len: 7612\n",
      "Making batches... batch size: 512,num of batchese: 60\n",
      "Epoch: 11 Generator: 0, total loss: 37.01605302095413\n",
      "min category: 3, num: 7612\n",
      "category: 0, origin_len: 32802, new_len: 7551\n",
      "category: 1, origin_len: 10464, new_len: 7609\n",
      "category: 2, origin_len: 8745, new_len: 7581\n",
      "category: 3, origin_len: 7612, new_len: 7612\n",
      "Making batches... batch size: 512,num of batchese: 60\n",
      "Epoch: 11 Generator: 1, total loss: 37.00423353910446\n",
      "min category: 3, num: 7612\n",
      "category: 0, origin_len: 32802, new_len: 7632\n",
      "category: 1, origin_len: 10464, new_len: 7628\n",
      "category: 2, origin_len: 8745, new_len: 7652\n",
      "category: 3, origin_len: 7612, new_len: 7612\n",
      "Making batches... batch size: 512,num of batchese: 60\n"
     ]
    },
    {
     "name": "stderr",
     "output_type": "stream",
     "text": [
      "\n",
      " 12%|█▏        | 12/100 [00:34<04:16,  2.91s/it]\u001b[A"
     ]
    },
    {
     "name": "stdout",
     "output_type": "stream",
     "text": [
      "Epoch: 11 Generator: 2, total loss: 36.63299435377121\n",
      "min category: 3, num: 7612\n",
      "category: 0, origin_len: 32802, new_len: 7462\n",
      "category: 1, origin_len: 10464, new_len: 7544\n",
      "category: 2, origin_len: 8745, new_len: 7685\n",
      "category: 3, origin_len: 7612, new_len: 7612\n",
      "Making batches... batch size: 512,num of batchese: 60\n",
      "Epoch: 12 Generator: 0, total loss: 36.03702989220619\n",
      "min category: 3, num: 7612\n",
      "category: 0, origin_len: 32802, new_len: 7618\n",
      "category: 1, origin_len: 10464, new_len: 7561\n",
      "category: 2, origin_len: 8745, new_len: 7595\n",
      "category: 3, origin_len: 7612, new_len: 7612\n",
      "Making batches... batch size: 512,num of batchese: 60\n",
      "Epoch: 12 Generator: 1, total loss: 36.00262939929962\n",
      "min category: 3, num: 7612\n",
      "category: 0, origin_len: 32802, new_len: 7731\n",
      "category: 1, origin_len: 10464, new_len: 7623\n",
      "category: 2, origin_len: 8745, new_len: 7594\n",
      "category: 3, origin_len: 7612, new_len: 7612\n",
      "Making batches... batch size: 512,num of batchese: 60\n"
     ]
    },
    {
     "name": "stderr",
     "output_type": "stream",
     "text": [
      "\n",
      " 13%|█▎        | 13/100 [00:37<04:13,  2.91s/it]\u001b[A"
     ]
    },
    {
     "name": "stdout",
     "output_type": "stream",
     "text": [
      "Epoch: 12 Generator: 2, total loss: 35.854943335056305\n",
      "min category: 3, num: 7612\n",
      "category: 0, origin_len: 32802, new_len: 7585\n",
      "category: 1, origin_len: 10464, new_len: 7557\n",
      "category: 2, origin_len: 8745, new_len: 7614\n",
      "category: 3, origin_len: 7612, new_len: 7612\n",
      "Making batches... batch size: 512,num of batchese: 60\n",
      "Epoch: 13 Generator: 0, total loss: 35.779172241687775\n",
      "min category: 3, num: 7612\n",
      "category: 0, origin_len: 32802, new_len: 7792\n",
      "category: 1, origin_len: 10464, new_len: 7671\n",
      "category: 2, origin_len: 8745, new_len: 7636\n",
      "category: 3, origin_len: 7612, new_len: 7612\n",
      "Making batches... batch size: 512,num of batchese: 60\n",
      "Epoch: 13 Generator: 1, total loss: 35.2403310239315\n",
      "min category: 3, num: 7612\n",
      "category: 0, origin_len: 32802, new_len: 7632\n",
      "category: 1, origin_len: 10464, new_len: 7598\n",
      "category: 2, origin_len: 8745, new_len: 7609\n",
      "category: 3, origin_len: 7612, new_len: 7612\n",
      "Making batches... batch size: 512,num of batchese: 60\n"
     ]
    },
    {
     "name": "stderr",
     "output_type": "stream",
     "text": [
      "\n",
      " 14%|█▍        | 14/100 [00:40<04:10,  2.92s/it]\u001b[A"
     ]
    },
    {
     "name": "stdout",
     "output_type": "stream",
     "text": [
      "Epoch: 13 Generator: 2, total loss: 35.04085034132004\n",
      "min category: 3, num: 7612\n",
      "category: 0, origin_len: 32802, new_len: 7377\n",
      "category: 1, origin_len: 10464, new_len: 7641\n",
      "category: 2, origin_len: 8745, new_len: 7628\n",
      "category: 3, origin_len: 7612, new_len: 7612\n",
      "Making batches... batch size: 512,num of batchese: 60\n",
      "Epoch: 14 Generator: 0, total loss: 35.037953317165375\n",
      "min category: 3, num: 7612\n",
      "category: 0, origin_len: 32802, new_len: 7619\n",
      "category: 1, origin_len: 10464, new_len: 7589\n",
      "category: 2, origin_len: 8745, new_len: 7609\n",
      "category: 3, origin_len: 7612, new_len: 7612\n",
      "Making batches... batch size: 512,num of batchese: 60\n",
      "Epoch: 14 Generator: 1, total loss: 34.357770413160324\n",
      "min category: 3, num: 7612\n",
      "category: 0, origin_len: 32802, new_len: 7669\n",
      "category: 1, origin_len: 10464, new_len: 7689\n",
      "category: 2, origin_len: 8745, new_len: 7592\n",
      "category: 3, origin_len: 7612, new_len: 7612\n",
      "Making batches... batch size: 512,num of batchese: 60\n"
     ]
    },
    {
     "name": "stderr",
     "output_type": "stream",
     "text": [
      "\n",
      " 15%|█▌        | 15/100 [00:43<04:07,  2.92s/it]\u001b[A"
     ]
    },
    {
     "name": "stdout",
     "output_type": "stream",
     "text": [
      "Epoch: 14 Generator: 2, total loss: 34.2815346121788\n",
      "min category: 3, num: 7612\n",
      "category: 0, origin_len: 32802, new_len: 7507\n",
      "category: 1, origin_len: 10464, new_len: 7579\n",
      "category: 2, origin_len: 8745, new_len: 7625\n",
      "category: 3, origin_len: 7612, new_len: 7612\n",
      "Making batches... batch size: 512,num of batchese: 60\n",
      "Epoch: 15 Generator: 0, total loss: 33.705550998449326\n",
      "min category: 3, num: 7612\n",
      "category: 0, origin_len: 32802, new_len: 7538\n",
      "category: 1, origin_len: 10464, new_len: 7555\n",
      "category: 2, origin_len: 8745, new_len: 7620\n",
      "category: 3, origin_len: 7612, new_len: 7612\n",
      "Making batches... batch size: 512,num of batchese: 60\n",
      "Epoch: 15 Generator: 1, total loss: 33.4775487780571\n",
      "min category: 3, num: 7612\n",
      "category: 0, origin_len: 32802, new_len: 7720\n",
      "category: 1, origin_len: 10464, new_len: 7589\n",
      "category: 2, origin_len: 8745, new_len: 7564\n",
      "category: 3, origin_len: 7612, new_len: 7612\n",
      "Making batches... batch size: 512,num of batchese: 60\n"
     ]
    },
    {
     "name": "stderr",
     "output_type": "stream",
     "text": [
      "\n",
      " 16%|█▌        | 16/100 [00:46<04:05,  2.92s/it]\u001b[A"
     ]
    },
    {
     "name": "stdout",
     "output_type": "stream",
     "text": [
      "Epoch: 15 Generator: 2, total loss: 33.20947331190109\n",
      "min category: 3, num: 7612\n",
      "category: 0, origin_len: 32802, new_len: 7488\n",
      "category: 1, origin_len: 10464, new_len: 7661\n",
      "category: 2, origin_len: 8745, new_len: 7628\n",
      "category: 3, origin_len: 7612, new_len: 7612\n",
      "Making batches... batch size: 512,num of batchese: 60\n",
      "Epoch: 16 Generator: 0, total loss: 33.15197429060936\n",
      "min category: 3, num: 7612\n",
      "category: 0, origin_len: 32802, new_len: 7649\n",
      "category: 1, origin_len: 10464, new_len: 7573\n",
      "category: 2, origin_len: 8745, new_len: 7584\n",
      "category: 3, origin_len: 7612, new_len: 7612\n",
      "Making batches... batch size: 512,num of batchese: 60\n",
      "Epoch: 16 Generator: 1, total loss: 32.615554451942444\n",
      "min category: 3, num: 7612\n",
      "category: 0, origin_len: 32802, new_len: 7660\n",
      "category: 1, origin_len: 10464, new_len: 7635\n",
      "category: 2, origin_len: 8745, new_len: 7633\n",
      "category: 3, origin_len: 7612, new_len: 7612\n",
      "Making batches... batch size: 512,num of batchese: 60\n"
     ]
    },
    {
     "name": "stderr",
     "output_type": "stream",
     "text": [
      "\n",
      " 17%|█▋        | 17/100 [00:49<04:02,  2.92s/it]\u001b[A"
     ]
    },
    {
     "name": "stdout",
     "output_type": "stream",
     "text": [
      "Epoch: 16 Generator: 2, total loss: 32.38396790623665\n",
      "min category: 3, num: 7612\n",
      "category: 0, origin_len: 32802, new_len: 7601\n",
      "category: 1, origin_len: 10464, new_len: 7654\n",
      "category: 2, origin_len: 8745, new_len: 7607\n",
      "category: 3, origin_len: 7612, new_len: 7612\n",
      "Making batches... batch size: 512,num of batchese: 60\n",
      "Epoch: 17 Generator: 0, total loss: 32.27749416232109\n",
      "min category: 3, num: 7612\n",
      "category: 0, origin_len: 32802, new_len: 7468\n",
      "category: 1, origin_len: 10464, new_len: 7603\n",
      "category: 2, origin_len: 8745, new_len: 7605\n",
      "category: 3, origin_len: 7612, new_len: 7612\n",
      "Making batches... batch size: 512,num of batchese: 60\n",
      "Epoch: 17 Generator: 1, total loss: 32.304127752780914\n",
      "min category: 3, num: 7612\n",
      "category: 0, origin_len: 32802, new_len: 7670\n",
      "category: 1, origin_len: 10464, new_len: 7663\n",
      "category: 2, origin_len: 8745, new_len: 7667\n",
      "category: 3, origin_len: 7612, new_len: 7612\n",
      "Making batches... batch size: 512,num of batchese: 60\n"
     ]
    },
    {
     "name": "stderr",
     "output_type": "stream",
     "text": [
      "\n",
      " 18%|█▊        | 18/100 [00:52<03:59,  2.92s/it]\u001b[A"
     ]
    },
    {
     "name": "stdout",
     "output_type": "stream",
     "text": [
      "Epoch: 17 Generator: 2, total loss: 32.304641634225845\n",
      "min category: 3, num: 7612\n",
      "category: 0, origin_len: 32802, new_len: 7605\n",
      "category: 1, origin_len: 10464, new_len: 7603\n",
      "category: 2, origin_len: 8745, new_len: 7650\n",
      "category: 3, origin_len: 7612, new_len: 7612\n",
      "Making batches... batch size: 512,num of batchese: 60\n",
      "Epoch: 18 Generator: 0, total loss: 31.563621133565903\n",
      "min category: 3, num: 7612\n",
      "category: 0, origin_len: 32802, new_len: 7606\n",
      "category: 1, origin_len: 10464, new_len: 7598\n",
      "category: 2, origin_len: 8745, new_len: 7671\n",
      "category: 3, origin_len: 7612, new_len: 7612\n",
      "Making batches... batch size: 512,num of batchese: 60\n",
      "Epoch: 18 Generator: 1, total loss: 31.042489856481552\n",
      "min category: 3, num: 7612\n",
      "category: 0, origin_len: 32802, new_len: 7639\n",
      "category: 1, origin_len: 10464, new_len: 7578\n",
      "category: 2, origin_len: 8745, new_len: 7618\n",
      "category: 3, origin_len: 7612, new_len: 7612\n",
      "Making batches... batch size: 512,num of batchese: 60\n"
     ]
    },
    {
     "name": "stderr",
     "output_type": "stream",
     "text": [
      "\n",
      " 19%|█▉        | 19/100 [00:55<03:56,  2.92s/it]\u001b[A"
     ]
    },
    {
     "name": "stdout",
     "output_type": "stream",
     "text": [
      "Epoch: 18 Generator: 2, total loss: 30.801926493644714\n",
      "min category: 3, num: 7612\n",
      "category: 0, origin_len: 32802, new_len: 7642\n",
      "category: 1, origin_len: 10464, new_len: 7620\n",
      "category: 2, origin_len: 8745, new_len: 7597\n",
      "category: 3, origin_len: 7612, new_len: 7612\n",
      "Making batches... batch size: 512,num of batchese: 60\n",
      "Epoch: 19 Generator: 0, total loss: 31.14547923207283\n",
      "min category: 3, num: 7612\n",
      "category: 0, origin_len: 32802, new_len: 7518\n",
      "category: 1, origin_len: 10464, new_len: 7589\n",
      "category: 2, origin_len: 8745, new_len: 7627\n",
      "category: 3, origin_len: 7612, new_len: 7612\n",
      "Making batches... batch size: 512,num of batchese: 60\n",
      "Epoch: 19 Generator: 1, total loss: 30.506537526845932\n",
      "min category: 3, num: 7612\n",
      "category: 0, origin_len: 32802, new_len: 7513\n",
      "category: 1, origin_len: 10464, new_len: 7639\n",
      "category: 2, origin_len: 8745, new_len: 7592\n",
      "category: 3, origin_len: 7612, new_len: 7612\n",
      "Making batches... batch size: 512,num of batchese: 60\n"
     ]
    },
    {
     "name": "stderr",
     "output_type": "stream",
     "text": [
      "\n",
      " 20%|██        | 20/100 [00:58<03:53,  2.92s/it]\u001b[A"
     ]
    },
    {
     "name": "stdout",
     "output_type": "stream",
     "text": [
      "Epoch: 19 Generator: 2, total loss: 30.691626489162445\n",
      "min category: 3, num: 7612\n",
      "category: 0, origin_len: 32802, new_len: 7664\n",
      "category: 1, origin_len: 10464, new_len: 7541\n",
      "category: 2, origin_len: 8745, new_len: 7628\n",
      "category: 3, origin_len: 7612, new_len: 7612\n",
      "Making batches... batch size: 512,num of batchese: 60\n",
      "Epoch: 20 Generator: 0, total loss: 30.1738061606884\n",
      "min category: 3, num: 7612\n",
      "category: 0, origin_len: 32802, new_len: 7631\n",
      "category: 1, origin_len: 10464, new_len: 7670\n",
      "category: 2, origin_len: 8745, new_len: 7568\n",
      "category: 3, origin_len: 7612, new_len: 7612\n",
      "Making batches... batch size: 512,num of batchese: 60\n",
      "Epoch: 20 Generator: 1, total loss: 29.876752227544785\n",
      "min category: 3, num: 7612\n",
      "category: 0, origin_len: 32802, new_len: 7591\n",
      "category: 1, origin_len: 10464, new_len: 7578\n",
      "category: 2, origin_len: 8745, new_len: 7564\n",
      "category: 3, origin_len: 7612, new_len: 7612\n",
      "Making batches... batch size: 512,num of batchese: 60\n"
     ]
    },
    {
     "name": "stderr",
     "output_type": "stream",
     "text": [
      "\n",
      " 21%|██        | 21/100 [01:01<03:50,  2.92s/it]\u001b[A"
     ]
    },
    {
     "name": "stdout",
     "output_type": "stream",
     "text": [
      "Epoch: 20 Generator: 2, total loss: 29.698620706796646\n",
      "min category: 3, num: 7612\n",
      "category: 0, origin_len: 32802, new_len: 7518\n",
      "category: 1, origin_len: 10464, new_len: 7592\n",
      "category: 2, origin_len: 8745, new_len: 7608\n",
      "category: 3, origin_len: 7612, new_len: 7612\n",
      "Making batches... batch size: 512,num of batchese: 60\n",
      "Epoch: 21 Generator: 0, total loss: 29.60053390264511\n",
      "min category: 3, num: 7612\n",
      "category: 0, origin_len: 32802, new_len: 7594\n",
      "category: 1, origin_len: 10464, new_len: 7712\n",
      "category: 2, origin_len: 8745, new_len: 7565\n",
      "category: 3, origin_len: 7612, new_len: 7612\n",
      "Making batches... batch size: 512,num of batchese: 60\n",
      "Epoch: 21 Generator: 1, total loss: 29.287210375070572\n",
      "min category: 3, num: 7612\n",
      "category: 0, origin_len: 32802, new_len: 7596\n",
      "category: 1, origin_len: 10464, new_len: 7493\n",
      "category: 2, origin_len: 8745, new_len: 7599\n",
      "category: 3, origin_len: 7612, new_len: 7612\n",
      "Making batches... batch size: 512,num of batchese: 60\n"
     ]
    },
    {
     "name": "stderr",
     "output_type": "stream",
     "text": [
      "\n",
      " 22%|██▏       | 22/100 [01:04<03:47,  2.92s/it]\u001b[A"
     ]
    },
    {
     "name": "stdout",
     "output_type": "stream",
     "text": [
      "Epoch: 21 Generator: 2, total loss: 28.941374480724335\n",
      "min category: 3, num: 7612\n",
      "category: 0, origin_len: 32802, new_len: 7562\n",
      "category: 1, origin_len: 10464, new_len: 7563\n",
      "category: 2, origin_len: 8745, new_len: 7586\n",
      "category: 3, origin_len: 7612, new_len: 7612\n",
      "Making batches... batch size: 512,num of batchese: 60\n",
      "Epoch: 22 Generator: 0, total loss: 29.246831446886063\n",
      "min category: 3, num: 7612\n",
      "category: 0, origin_len: 32802, new_len: 7606\n",
      "category: 1, origin_len: 10464, new_len: 7558\n",
      "category: 2, origin_len: 8745, new_len: 7542\n",
      "category: 3, origin_len: 7612, new_len: 7612\n",
      "Making batches... batch size: 512,num of batchese: 60\n",
      "Epoch: 22 Generator: 1, total loss: 28.763595938682556\n",
      "min category: 3, num: 7612\n",
      "category: 0, origin_len: 32802, new_len: 7747\n",
      "category: 1, origin_len: 10464, new_len: 7510\n",
      "category: 2, origin_len: 8745, new_len: 7636\n",
      "category: 3, origin_len: 7612, new_len: 7612\n",
      "Making batches... batch size: 512,num of batchese: 60\n"
     ]
    },
    {
     "name": "stderr",
     "output_type": "stream",
     "text": [
      "\n",
      " 23%|██▎       | 23/100 [01:07<03:44,  2.92s/it]\u001b[A"
     ]
    },
    {
     "name": "stdout",
     "output_type": "stream",
     "text": [
      "Epoch: 22 Generator: 2, total loss: 28.181120842695236\n",
      "min category: 3, num: 7612\n",
      "category: 0, origin_len: 32802, new_len: 7700\n",
      "category: 1, origin_len: 10464, new_len: 7572\n",
      "category: 2, origin_len: 8745, new_len: 7616\n",
      "category: 3, origin_len: 7612, new_len: 7612\n",
      "Making batches... batch size: 512,num of batchese: 60\n",
      "Epoch: 23 Generator: 0, total loss: 28.385704517364502\n",
      "min category: 3, num: 7612\n",
      "category: 0, origin_len: 32802, new_len: 7590\n",
      "category: 1, origin_len: 10464, new_len: 7603\n",
      "category: 2, origin_len: 8745, new_len: 7556\n",
      "category: 3, origin_len: 7612, new_len: 7612\n",
      "Making batches... batch size: 512,num of batchese: 60\n",
      "Epoch: 23 Generator: 1, total loss: 27.84945720434189\n",
      "min category: 3, num: 7612\n",
      "category: 0, origin_len: 32802, new_len: 7655\n",
      "category: 1, origin_len: 10464, new_len: 7599\n",
      "category: 2, origin_len: 8745, new_len: 7548\n",
      "category: 3, origin_len: 7612, new_len: 7612\n",
      "Making batches... batch size: 512,num of batchese: 60\n"
     ]
    },
    {
     "name": "stderr",
     "output_type": "stream",
     "text": [
      "\n",
      " 24%|██▍       | 24/100 [01:10<03:41,  2.92s/it]\u001b[A"
     ]
    },
    {
     "name": "stdout",
     "output_type": "stream",
     "text": [
      "Epoch: 23 Generator: 2, total loss: 27.790997207164764\n",
      "min category: 3, num: 7612\n",
      "category: 0, origin_len: 32802, new_len: 7442\n",
      "category: 1, origin_len: 10464, new_len: 7567\n",
      "category: 2, origin_len: 8745, new_len: 7612\n",
      "category: 3, origin_len: 7612, new_len: 7612\n",
      "Making batches... batch size: 512,num of batchese: 60\n",
      "Epoch: 24 Generator: 0, total loss: 27.483509361743927\n",
      "min category: 3, num: 7612\n",
      "category: 0, origin_len: 32802, new_len: 7591\n",
      "category: 1, origin_len: 10464, new_len: 7653\n",
      "category: 2, origin_len: 8745, new_len: 7617\n",
      "category: 3, origin_len: 7612, new_len: 7612\n",
      "Making batches... batch size: 512,num of batchese: 60\n",
      "Epoch: 24 Generator: 1, total loss: 27.738367915153503\n",
      "min category: 3, num: 7612\n",
      "category: 0, origin_len: 32802, new_len: 7658\n",
      "category: 1, origin_len: 10464, new_len: 7606\n",
      "category: 2, origin_len: 8745, new_len: 7622\n",
      "category: 3, origin_len: 7612, new_len: 7612\n",
      "Making batches... batch size: 512,num of batchese: 60\n"
     ]
    },
    {
     "name": "stderr",
     "output_type": "stream",
     "text": [
      "\n",
      " 25%|██▌       | 25/100 [01:12<03:38,  2.92s/it]\u001b[A"
     ]
    },
    {
     "name": "stdout",
     "output_type": "stream",
     "text": [
      "Epoch: 24 Generator: 2, total loss: 27.375992864370346\n",
      "min category: 3, num: 7612\n",
      "category: 0, origin_len: 32802, new_len: 7558\n",
      "category: 1, origin_len: 10464, new_len: 7504\n",
      "category: 2, origin_len: 8745, new_len: 7592\n",
      "category: 3, origin_len: 7612, new_len: 7612\n",
      "Making batches... batch size: 512,num of batchese: 60\n",
      "Epoch: 25 Generator: 0, total loss: 27.39062711596489\n",
      "min category: 3, num: 7612\n",
      "category: 0, origin_len: 32802, new_len: 7547\n",
      "category: 1, origin_len: 10464, new_len: 7656\n",
      "category: 2, origin_len: 8745, new_len: 7624\n",
      "category: 3, origin_len: 7612, new_len: 7612\n",
      "Making batches... batch size: 512,num of batchese: 60\n",
      "Epoch: 25 Generator: 1, total loss: 27.3091601729393\n",
      "min category: 3, num: 7612\n",
      "category: 0, origin_len: 32802, new_len: 7640\n",
      "category: 1, origin_len: 10464, new_len: 7639\n",
      "category: 2, origin_len: 8745, new_len: 7637\n",
      "category: 3, origin_len: 7612, new_len: 7612\n",
      "Making batches... batch size: 512,num of batchese: 60\n"
     ]
    },
    {
     "name": "stderr",
     "output_type": "stream",
     "text": [
      "\n",
      " 26%|██▌       | 26/100 [01:15<03:36,  2.92s/it]\u001b[A"
     ]
    },
    {
     "name": "stdout",
     "output_type": "stream",
     "text": [
      "Epoch: 25 Generator: 2, total loss: 27.033645689487457\n",
      "min category: 3, num: 7612\n",
      "category: 0, origin_len: 32802, new_len: 7575\n",
      "category: 1, origin_len: 10464, new_len: 7661\n",
      "category: 2, origin_len: 8745, new_len: 7593\n",
      "category: 3, origin_len: 7612, new_len: 7612\n",
      "Making batches... batch size: 512,num of batchese: 60\n",
      "Epoch: 26 Generator: 0, total loss: 26.93973660469055\n",
      "min category: 3, num: 7612\n",
      "category: 0, origin_len: 32802, new_len: 7579\n",
      "category: 1, origin_len: 10464, new_len: 7591\n",
      "category: 2, origin_len: 8745, new_len: 7571\n",
      "category: 3, origin_len: 7612, new_len: 7612\n",
      "Making batches... batch size: 512,num of batchese: 60\n",
      "Epoch: 26 Generator: 1, total loss: 26.597960889339447\n",
      "min category: 3, num: 7612\n",
      "category: 0, origin_len: 32802, new_len: 7582\n",
      "category: 1, origin_len: 10464, new_len: 7640\n",
      "category: 2, origin_len: 8745, new_len: 7595\n",
      "category: 3, origin_len: 7612, new_len: 7612\n",
      "Making batches... batch size: 512,num of batchese: 60\n"
     ]
    },
    {
     "name": "stderr",
     "output_type": "stream",
     "text": [
      "\n",
      " 27%|██▋       | 27/100 [01:18<03:33,  2.92s/it]\u001b[A"
     ]
    },
    {
     "name": "stdout",
     "output_type": "stream",
     "text": [
      "Epoch: 26 Generator: 2, total loss: 26.38702529668808\n",
      "min category: 3, num: 7612\n",
      "category: 0, origin_len: 32802, new_len: 7544\n",
      "category: 1, origin_len: 10464, new_len: 7613\n",
      "category: 2, origin_len: 8745, new_len: 7584\n",
      "category: 3, origin_len: 7612, new_len: 7612\n",
      "Making batches... batch size: 512,num of batchese: 60\n",
      "Epoch: 27 Generator: 0, total loss: 26.360874354839325\n",
      "min category: 3, num: 7612\n",
      "category: 0, origin_len: 32802, new_len: 7692\n",
      "category: 1, origin_len: 10464, new_len: 7646\n",
      "category: 2, origin_len: 8745, new_len: 7609\n",
      "category: 3, origin_len: 7612, new_len: 7612\n",
      "Making batches... batch size: 512,num of batchese: 60\n",
      "Epoch: 27 Generator: 1, total loss: 26.1289145052433\n",
      "min category: 3, num: 7612\n",
      "category: 0, origin_len: 32802, new_len: 7562\n",
      "category: 1, origin_len: 10464, new_len: 7735\n",
      "category: 2, origin_len: 8745, new_len: 7616\n",
      "category: 3, origin_len: 7612, new_len: 7612\n",
      "Making batches... batch size: 512,num of batchese: 60\n"
     ]
    },
    {
     "name": "stderr",
     "output_type": "stream",
     "text": [
      "\n",
      " 28%|██▊       | 28/100 [01:21<03:30,  2.92s/it]\u001b[A"
     ]
    },
    {
     "name": "stdout",
     "output_type": "stream",
     "text": [
      "Epoch: 27 Generator: 2, total loss: 25.629917830228806\n",
      "min category: 3, num: 7612\n",
      "category: 0, origin_len: 32802, new_len: 7730\n",
      "category: 1, origin_len: 10464, new_len: 7595\n",
      "category: 2, origin_len: 8745, new_len: 7637\n",
      "category: 3, origin_len: 7612, new_len: 7612\n",
      "Making batches... batch size: 512,num of batchese: 60\n",
      "Epoch: 28 Generator: 0, total loss: 25.417108446359634\n",
      "min category: 3, num: 7612\n",
      "category: 0, origin_len: 32802, new_len: 7731\n",
      "category: 1, origin_len: 10464, new_len: 7655\n",
      "category: 2, origin_len: 8745, new_len: 7639\n",
      "category: 3, origin_len: 7612, new_len: 7612\n",
      "Making batches... batch size: 512,num of batchese: 60\n",
      "Epoch: 28 Generator: 1, total loss: 25.449547678232193\n",
      "min category: 3, num: 7612\n",
      "category: 0, origin_len: 32802, new_len: 7713\n",
      "category: 1, origin_len: 10464, new_len: 7554\n",
      "category: 2, origin_len: 8745, new_len: 7648\n",
      "category: 3, origin_len: 7612, new_len: 7612\n",
      "Making batches... batch size: 512,num of batchese: 60\n"
     ]
    },
    {
     "name": "stderr",
     "output_type": "stream",
     "text": [
      "\n",
      " 29%|██▉       | 29/100 [01:24<03:27,  2.92s/it]\u001b[A"
     ]
    },
    {
     "name": "stdout",
     "output_type": "stream",
     "text": [
      "Epoch: 28 Generator: 2, total loss: 25.805389642715454\n",
      "min category: 3, num: 7612\n",
      "category: 0, origin_len: 32802, new_len: 7737\n",
      "category: 1, origin_len: 10464, new_len: 7653\n",
      "category: 2, origin_len: 8745, new_len: 7633\n",
      "category: 3, origin_len: 7612, new_len: 7612\n",
      "Making batches... batch size: 512,num of batchese: 60\n",
      "Epoch: 29 Generator: 0, total loss: 25.16955453157425\n",
      "min category: 3, num: 7612\n",
      "category: 0, origin_len: 32802, new_len: 7590\n",
      "category: 1, origin_len: 10464, new_len: 7734\n",
      "category: 2, origin_len: 8745, new_len: 7610\n",
      "category: 3, origin_len: 7612, new_len: 7612\n",
      "Making batches... batch size: 512,num of batchese: 60\n",
      "Epoch: 29 Generator: 1, total loss: 25.015336245298386\n",
      "min category: 3, num: 7612\n",
      "category: 0, origin_len: 32802, new_len: 7764\n",
      "category: 1, origin_len: 10464, new_len: 7552\n",
      "category: 2, origin_len: 8745, new_len: 7597\n",
      "category: 3, origin_len: 7612, new_len: 7612\n",
      "Making batches... batch size: 512,num of batchese: 60\n"
     ]
    },
    {
     "name": "stderr",
     "output_type": "stream",
     "text": [
      "\n",
      " 30%|███       | 30/100 [01:27<03:24,  2.92s/it]\u001b[A"
     ]
    },
    {
     "name": "stdout",
     "output_type": "stream",
     "text": [
      "Epoch: 29 Generator: 2, total loss: 24.958026349544525\n",
      "min category: 3, num: 7612\n",
      "category: 0, origin_len: 32802, new_len: 7540\n",
      "category: 1, origin_len: 10464, new_len: 7685\n",
      "category: 2, origin_len: 8745, new_len: 7642\n",
      "category: 3, origin_len: 7612, new_len: 7612\n",
      "Making batches... batch size: 512,num of batchese: 60\n",
      "Epoch: 30 Generator: 0, total loss: 24.97359225153923\n",
      "min category: 3, num: 7612\n",
      "category: 0, origin_len: 32802, new_len: 7733\n",
      "category: 1, origin_len: 10464, new_len: 7564\n",
      "category: 2, origin_len: 8745, new_len: 7642\n",
      "category: 3, origin_len: 7612, new_len: 7612\n",
      "Making batches... batch size: 512,num of batchese: 60\n",
      "Epoch: 30 Generator: 1, total loss: 24.670880764722824\n",
      "min category: 3, num: 7612\n",
      "category: 0, origin_len: 32802, new_len: 7694\n",
      "category: 1, origin_len: 10464, new_len: 7631\n",
      "category: 2, origin_len: 8745, new_len: 7651\n",
      "category: 3, origin_len: 7612, new_len: 7612\n",
      "Making batches... batch size: 512,num of batchese: 60\n"
     ]
    },
    {
     "name": "stderr",
     "output_type": "stream",
     "text": [
      "\n",
      " 31%|███       | 31/100 [01:30<03:21,  2.92s/it]\u001b[A"
     ]
    },
    {
     "name": "stdout",
     "output_type": "stream",
     "text": [
      "Epoch: 30 Generator: 2, total loss: 24.631109565496445\n",
      "min category: 3, num: 7612\n",
      "category: 0, origin_len: 32802, new_len: 7475\n",
      "category: 1, origin_len: 10464, new_len: 7638\n",
      "category: 2, origin_len: 8745, new_len: 7604\n",
      "category: 3, origin_len: 7612, new_len: 7612\n",
      "Making batches... batch size: 512,num of batchese: 60\n",
      "Epoch: 31 Generator: 0, total loss: 24.47689461708069\n",
      "min category: 3, num: 7612\n",
      "category: 0, origin_len: 32802, new_len: 7676\n",
      "category: 1, origin_len: 10464, new_len: 7652\n",
      "category: 2, origin_len: 8745, new_len: 7634\n",
      "category: 3, origin_len: 7612, new_len: 7612\n",
      "Making batches... batch size: 512,num of batchese: 60\n",
      "Epoch: 31 Generator: 1, total loss: 24.344883918762207\n",
      "min category: 3, num: 7612\n",
      "category: 0, origin_len: 32802, new_len: 7654\n",
      "category: 1, origin_len: 10464, new_len: 7613\n",
      "category: 2, origin_len: 8745, new_len: 7561\n",
      "category: 3, origin_len: 7612, new_len: 7612\n",
      "Making batches... batch size: 512,num of batchese: 60\n"
     ]
    },
    {
     "name": "stderr",
     "output_type": "stream",
     "text": [
      "\n",
      " 32%|███▏      | 32/100 [01:33<03:18,  2.92s/it]\u001b[A"
     ]
    },
    {
     "name": "stdout",
     "output_type": "stream",
     "text": [
      "Epoch: 31 Generator: 2, total loss: 23.91476023197174\n",
      "min category: 3, num: 7612\n",
      "category: 0, origin_len: 32802, new_len: 7688\n",
      "category: 1, origin_len: 10464, new_len: 7629\n",
      "category: 2, origin_len: 8745, new_len: 7627\n",
      "category: 3, origin_len: 7612, new_len: 7612\n",
      "Making batches... batch size: 512,num of batchese: 60\n",
      "Epoch: 32 Generator: 0, total loss: 24.042769819498062\n",
      "min category: 3, num: 7612\n",
      "category: 0, origin_len: 32802, new_len: 7583\n",
      "category: 1, origin_len: 10464, new_len: 7598\n",
      "category: 2, origin_len: 8745, new_len: 7626\n",
      "category: 3, origin_len: 7612, new_len: 7612\n",
      "Making batches... batch size: 512,num of batchese: 60\n",
      "Epoch: 32 Generator: 1, total loss: 23.76922917366028\n",
      "min category: 3, num: 7612\n",
      "category: 0, origin_len: 32802, new_len: 7639\n",
      "category: 1, origin_len: 10464, new_len: 7705\n",
      "category: 2, origin_len: 8745, new_len: 7642\n",
      "category: 3, origin_len: 7612, new_len: 7612\n",
      "Making batches... batch size: 512,num of batchese: 60\n"
     ]
    },
    {
     "name": "stderr",
     "output_type": "stream",
     "text": [
      "\n",
      " 33%|███▎      | 33/100 [01:36<03:16,  2.93s/it]\u001b[A"
     ]
    },
    {
     "name": "stdout",
     "output_type": "stream",
     "text": [
      "Epoch: 32 Generator: 2, total loss: 23.61176025867462\n",
      "min category: 3, num: 7612\n",
      "category: 0, origin_len: 32802, new_len: 7577\n",
      "category: 1, origin_len: 10464, new_len: 7646\n",
      "category: 2, origin_len: 8745, new_len: 7567\n",
      "category: 3, origin_len: 7612, new_len: 7612\n",
      "Making batches... batch size: 512,num of batchese: 60\n",
      "Epoch: 33 Generator: 0, total loss: 23.419065207242966\n",
      "min category: 3, num: 7612\n",
      "category: 0, origin_len: 32802, new_len: 7682\n",
      "category: 1, origin_len: 10464, new_len: 7657\n",
      "category: 2, origin_len: 8745, new_len: 7565\n",
      "category: 3, origin_len: 7612, new_len: 7612\n",
      "Making batches... batch size: 512,num of batchese: 60\n",
      "Epoch: 33 Generator: 1, total loss: 23.472372353076935\n",
      "min category: 3, num: 7612\n",
      "category: 0, origin_len: 32802, new_len: 7524\n",
      "category: 1, origin_len: 10464, new_len: 7558\n",
      "category: 2, origin_len: 8745, new_len: 7611\n",
      "category: 3, origin_len: 7612, new_len: 7612\n",
      "Making batches... batch size: 512,num of batchese: 60\n"
     ]
    },
    {
     "name": "stderr",
     "output_type": "stream",
     "text": [
      "\n",
      " 34%|███▍      | 34/100 [01:39<03:13,  2.93s/it]\u001b[A"
     ]
    },
    {
     "name": "stdout",
     "output_type": "stream",
     "text": [
      "Epoch: 33 Generator: 2, total loss: 23.296127036213875\n",
      "min category: 3, num: 7612\n",
      "category: 0, origin_len: 32802, new_len: 7571\n",
      "category: 1, origin_len: 10464, new_len: 7631\n",
      "category: 2, origin_len: 8745, new_len: 7577\n",
      "category: 3, origin_len: 7612, new_len: 7612\n",
      "Making batches... batch size: 512,num of batchese: 60\n",
      "Epoch: 34 Generator: 0, total loss: 23.111391365528107\n",
      "min category: 3, num: 7612\n",
      "category: 0, origin_len: 32802, new_len: 7643\n",
      "category: 1, origin_len: 10464, new_len: 7603\n",
      "category: 2, origin_len: 8745, new_len: 7587\n",
      "category: 3, origin_len: 7612, new_len: 7612\n",
      "Making batches... batch size: 512,num of batchese: 60\n",
      "Epoch: 34 Generator: 1, total loss: 22.862406492233276\n",
      "min category: 3, num: 7612\n",
      "category: 0, origin_len: 32802, new_len: 7466\n",
      "category: 1, origin_len: 10464, new_len: 7670\n",
      "category: 2, origin_len: 8745, new_len: 7577\n",
      "category: 3, origin_len: 7612, new_len: 7612\n",
      "Making batches... batch size: 512,num of batchese: 60\n"
     ]
    },
    {
     "name": "stderr",
     "output_type": "stream",
     "text": [
      "\n",
      " 35%|███▌      | 35/100 [01:42<03:10,  2.93s/it]\u001b[A"
     ]
    },
    {
     "name": "stdout",
     "output_type": "stream",
     "text": [
      "Epoch: 34 Generator: 2, total loss: 22.823678821325302\n",
      "min category: 3, num: 7612\n",
      "category: 0, origin_len: 32802, new_len: 7616\n",
      "category: 1, origin_len: 10464, new_len: 7663\n",
      "category: 2, origin_len: 8745, new_len: 7587\n",
      "category: 3, origin_len: 7612, new_len: 7612\n",
      "Making batches... batch size: 512,num of batchese: 60\n",
      "Epoch: 35 Generator: 0, total loss: 22.806192755699158\n",
      "min category: 3, num: 7612\n",
      "category: 0, origin_len: 32802, new_len: 7687\n",
      "category: 1, origin_len: 10464, new_len: 7615\n",
      "category: 2, origin_len: 8745, new_len: 7593\n",
      "category: 3, origin_len: 7612, new_len: 7612\n",
      "Making batches... batch size: 512,num of batchese: 60\n",
      "Epoch: 35 Generator: 1, total loss: 22.50527459383011\n",
      "min category: 3, num: 7612\n",
      "category: 0, origin_len: 32802, new_len: 7631\n",
      "category: 1, origin_len: 10464, new_len: 7622\n",
      "category: 2, origin_len: 8745, new_len: 7645\n",
      "category: 3, origin_len: 7612, new_len: 7612\n",
      "Making batches... batch size: 512,num of batchese: 60\n"
     ]
    },
    {
     "name": "stderr",
     "output_type": "stream",
     "text": [
      "\n",
      " 36%|███▌      | 36/100 [01:45<03:07,  2.93s/it]\u001b[A"
     ]
    },
    {
     "name": "stdout",
     "output_type": "stream",
     "text": [
      "Epoch: 35 Generator: 2, total loss: 22.280762672424316\n",
      "min category: 3, num: 7612\n",
      "category: 0, origin_len: 32802, new_len: 7618\n",
      "category: 1, origin_len: 10464, new_len: 7593\n",
      "category: 2, origin_len: 8745, new_len: 7721\n",
      "category: 3, origin_len: 7612, new_len: 7612\n",
      "Making batches... batch size: 512,num of batchese: 60\n",
      "Epoch: 36 Generator: 0, total loss: 22.330263555049896\n",
      "min category: 3, num: 7612\n",
      "category: 0, origin_len: 32802, new_len: 7648\n",
      "category: 1, origin_len: 10464, new_len: 7528\n",
      "category: 2, origin_len: 8745, new_len: 7605\n",
      "category: 3, origin_len: 7612, new_len: 7612\n",
      "Making batches... batch size: 512,num of batchese: 60\n",
      "Epoch: 36 Generator: 1, total loss: 21.843448609113693\n",
      "min category: 3, num: 7612\n",
      "category: 0, origin_len: 32802, new_len: 7594\n",
      "category: 1, origin_len: 10464, new_len: 7614\n",
      "category: 2, origin_len: 8745, new_len: 7625\n",
      "category: 3, origin_len: 7612, new_len: 7612\n",
      "Making batches... batch size: 512,num of batchese: 60\n"
     ]
    },
    {
     "name": "stderr",
     "output_type": "stream",
     "text": [
      "\n",
      " 37%|███▋      | 37/100 [01:48<03:04,  2.93s/it]\u001b[A"
     ]
    },
    {
     "name": "stdout",
     "output_type": "stream",
     "text": [
      "Epoch: 36 Generator: 2, total loss: 21.64746668934822\n",
      "min category: 3, num: 7612\n",
      "category: 0, origin_len: 32802, new_len: 7507\n",
      "category: 1, origin_len: 10464, new_len: 7617\n",
      "category: 2, origin_len: 8745, new_len: 7629\n",
      "category: 3, origin_len: 7612, new_len: 7612\n",
      "Making batches... batch size: 512,num of batchese: 60\n",
      "Epoch: 37 Generator: 0, total loss: 21.763078689575195\n",
      "min category: 3, num: 7612\n",
      "category: 0, origin_len: 32802, new_len: 7683\n",
      "category: 1, origin_len: 10464, new_len: 7638\n",
      "category: 2, origin_len: 8745, new_len: 7592\n",
      "category: 3, origin_len: 7612, new_len: 7612\n",
      "Making batches... batch size: 512,num of batchese: 60\n",
      "Epoch: 37 Generator: 1, total loss: 21.445219099521637\n",
      "min category: 3, num: 7612\n",
      "category: 0, origin_len: 32802, new_len: 7480\n",
      "category: 1, origin_len: 10464, new_len: 7623\n",
      "category: 2, origin_len: 8745, new_len: 7623\n",
      "category: 3, origin_len: 7612, new_len: 7612\n",
      "Making batches... batch size: 512,num of batchese: 60\n"
     ]
    },
    {
     "name": "stderr",
     "output_type": "stream",
     "text": [
      "\n",
      " 38%|███▊      | 38/100 [01:51<03:01,  2.93s/it]\u001b[A"
     ]
    },
    {
     "name": "stdout",
     "output_type": "stream",
     "text": [
      "Epoch: 37 Generator: 2, total loss: 21.286170691251755\n",
      "min category: 3, num: 7612\n",
      "category: 0, origin_len: 32802, new_len: 7527\n",
      "category: 1, origin_len: 10464, new_len: 7703\n",
      "category: 2, origin_len: 8745, new_len: 7606\n",
      "category: 3, origin_len: 7612, new_len: 7612\n",
      "Making batches... batch size: 512,num of batchese: 60\n",
      "Epoch: 38 Generator: 0, total loss: 21.149557024240494\n",
      "min category: 3, num: 7612\n",
      "category: 0, origin_len: 32802, new_len: 7616\n",
      "category: 1, origin_len: 10464, new_len: 7629\n",
      "category: 2, origin_len: 8745, new_len: 7554\n",
      "category: 3, origin_len: 7612, new_len: 7612\n",
      "Making batches... batch size: 512,num of batchese: 60\n",
      "Epoch: 38 Generator: 1, total loss: 21.062628626823425\n",
      "min category: 3, num: 7612\n",
      "category: 0, origin_len: 32802, new_len: 7608\n",
      "category: 1, origin_len: 10464, new_len: 7637\n",
      "category: 2, origin_len: 8745, new_len: 7642\n",
      "category: 3, origin_len: 7612, new_len: 7612\n",
      "Making batches... batch size: 512,num of batchese: 60\n"
     ]
    },
    {
     "name": "stderr",
     "output_type": "stream",
     "text": [
      "\n",
      " 39%|███▉      | 39/100 [01:54<02:58,  2.93s/it]\u001b[A"
     ]
    },
    {
     "name": "stdout",
     "output_type": "stream",
     "text": [
      "Epoch: 38 Generator: 2, total loss: 21.06839969754219\n",
      "min category: 3, num: 7612\n",
      "category: 0, origin_len: 32802, new_len: 7500\n",
      "category: 1, origin_len: 10464, new_len: 7619\n",
      "category: 2, origin_len: 8745, new_len: 7618\n",
      "category: 3, origin_len: 7612, new_len: 7612\n",
      "Making batches... batch size: 512,num of batchese: 60\n",
      "Epoch: 39 Generator: 0, total loss: 21.12947967648506\n",
      "min category: 3, num: 7612\n",
      "category: 0, origin_len: 32802, new_len: 7503\n",
      "category: 1, origin_len: 10464, new_len: 7583\n",
      "category: 2, origin_len: 8745, new_len: 7602\n",
      "category: 3, origin_len: 7612, new_len: 7612\n",
      "Making batches... batch size: 512,num of batchese: 60\n",
      "Epoch: 39 Generator: 1, total loss: 20.476781368255615\n",
      "min category: 3, num: 7612\n",
      "category: 0, origin_len: 32802, new_len: 7647\n",
      "category: 1, origin_len: 10464, new_len: 7683\n",
      "category: 2, origin_len: 8745, new_len: 7629\n",
      "category: 3, origin_len: 7612, new_len: 7612\n",
      "Making batches... batch size: 512,num of batchese: 60\n"
     ]
    },
    {
     "name": "stderr",
     "output_type": "stream",
     "text": [
      "\n",
      " 40%|████      | 40/100 [01:57<02:55,  2.93s/it]\u001b[A"
     ]
    },
    {
     "name": "stdout",
     "output_type": "stream",
     "text": [
      "Epoch: 39 Generator: 2, total loss: 20.889704316854477\n",
      "min category: 3, num: 7612\n",
      "category: 0, origin_len: 32802, new_len: 7602\n",
      "category: 1, origin_len: 10464, new_len: 7624\n",
      "category: 2, origin_len: 8745, new_len: 7653\n",
      "category: 3, origin_len: 7612, new_len: 7612\n",
      "Making batches... batch size: 512,num of batchese: 60\n",
      "Epoch: 40 Generator: 0, total loss: 20.59343209862709\n",
      "min category: 3, num: 7612\n",
      "category: 0, origin_len: 32802, new_len: 7557\n",
      "category: 1, origin_len: 10464, new_len: 7604\n",
      "category: 2, origin_len: 8745, new_len: 7638\n",
      "category: 3, origin_len: 7612, new_len: 7612\n",
      "Making batches... batch size: 512,num of batchese: 60\n",
      "Epoch: 40 Generator: 1, total loss: 20.12933722138405\n",
      "min category: 3, num: 7612\n",
      "category: 0, origin_len: 32802, new_len: 7759\n",
      "category: 1, origin_len: 10464, new_len: 7600\n",
      "category: 2, origin_len: 8745, new_len: 7606\n",
      "category: 3, origin_len: 7612, new_len: 7612\n",
      "Making batches... batch size: 512,num of batchese: 60\n"
     ]
    },
    {
     "name": "stderr",
     "output_type": "stream",
     "text": [
      "\n",
      " 41%|████      | 41/100 [02:00<02:52,  2.93s/it]\u001b[A"
     ]
    },
    {
     "name": "stdout",
     "output_type": "stream",
     "text": [
      "Epoch: 40 Generator: 2, total loss: 19.875402003526688\n",
      "min category: 3, num: 7612\n",
      "category: 0, origin_len: 32802, new_len: 7560\n",
      "category: 1, origin_len: 10464, new_len: 7545\n",
      "category: 2, origin_len: 8745, new_len: 7581\n",
      "category: 3, origin_len: 7612, new_len: 7612\n",
      "Making batches... batch size: 512,num of batchese: 60\n",
      "Epoch: 41 Generator: 0, total loss: 19.674105376005173\n",
      "min category: 3, num: 7612\n",
      "category: 0, origin_len: 32802, new_len: 7526\n",
      "category: 1, origin_len: 10464, new_len: 7690\n",
      "category: 2, origin_len: 8745, new_len: 7616\n",
      "category: 3, origin_len: 7612, new_len: 7612\n",
      "Making batches... batch size: 512,num of batchese: 60\n",
      "Epoch: 41 Generator: 1, total loss: 20.214840322732925\n",
      "min category: 3, num: 7612\n",
      "category: 0, origin_len: 32802, new_len: 7638\n",
      "category: 1, origin_len: 10464, new_len: 7656\n",
      "category: 2, origin_len: 8745, new_len: 7637\n",
      "category: 3, origin_len: 7612, new_len: 7612\n",
      "Making batches... batch size: 512,num of batchese: 60\n"
     ]
    },
    {
     "name": "stderr",
     "output_type": "stream",
     "text": [
      "\n",
      " 42%|████▏     | 42/100 [02:02<02:49,  2.93s/it]\u001b[A"
     ]
    },
    {
     "name": "stdout",
     "output_type": "stream",
     "text": [
      "Epoch: 41 Generator: 2, total loss: 19.668261170387268\n",
      "min category: 3, num: 7612\n",
      "category: 0, origin_len: 32802, new_len: 7624\n",
      "category: 1, origin_len: 10464, new_len: 7616\n",
      "category: 2, origin_len: 8745, new_len: 7610\n",
      "category: 3, origin_len: 7612, new_len: 7612\n",
      "Making batches... batch size: 512,num of batchese: 60\n",
      "Epoch: 42 Generator: 0, total loss: 19.551888555288315\n",
      "min category: 3, num: 7612\n",
      "category: 0, origin_len: 32802, new_len: 7733\n",
      "category: 1, origin_len: 10464, new_len: 7657\n",
      "category: 2, origin_len: 8745, new_len: 7638\n",
      "category: 3, origin_len: 7612, new_len: 7612\n",
      "Making batches... batch size: 512,num of batchese: 60\n",
      "Epoch: 42 Generator: 1, total loss: 19.539950221776962\n",
      "min category: 3, num: 7612\n",
      "category: 0, origin_len: 32802, new_len: 7592\n",
      "category: 1, origin_len: 10464, new_len: 7563\n",
      "category: 2, origin_len: 8745, new_len: 7580\n",
      "category: 3, origin_len: 7612, new_len: 7612\n",
      "Making batches... batch size: 512,num of batchese: 60\n"
     ]
    },
    {
     "name": "stderr",
     "output_type": "stream",
     "text": [
      "\n",
      " 43%|████▎     | 43/100 [02:05<02:46,  2.93s/it]\u001b[A"
     ]
    },
    {
     "name": "stdout",
     "output_type": "stream",
     "text": [
      "Epoch: 42 Generator: 2, total loss: 19.047779083251953\n",
      "min category: 3, num: 7612\n",
      "category: 0, origin_len: 32802, new_len: 7721\n",
      "category: 1, origin_len: 10464, new_len: 7600\n",
      "category: 2, origin_len: 8745, new_len: 7625\n",
      "category: 3, origin_len: 7612, new_len: 7612\n",
      "Making batches... batch size: 512,num of batchese: 60\n",
      "Epoch: 43 Generator: 0, total loss: 19.13475713133812\n",
      "min category: 3, num: 7612\n",
      "category: 0, origin_len: 32802, new_len: 7611\n",
      "category: 1, origin_len: 10464, new_len: 7691\n",
      "category: 2, origin_len: 8745, new_len: 7631\n",
      "category: 3, origin_len: 7612, new_len: 7612\n",
      "Making batches... batch size: 512,num of batchese: 60\n",
      "Epoch: 43 Generator: 1, total loss: 19.013691648840904\n",
      "min category: 3, num: 7612\n",
      "category: 0, origin_len: 32802, new_len: 7554\n",
      "category: 1, origin_len: 10464, new_len: 7586\n",
      "category: 2, origin_len: 8745, new_len: 7643\n",
      "category: 3, origin_len: 7612, new_len: 7612\n",
      "Making batches... batch size: 512,num of batchese: 60\n"
     ]
    },
    {
     "name": "stderr",
     "output_type": "stream",
     "text": [
      "\n",
      " 44%|████▍     | 44/100 [02:08<02:43,  2.93s/it]\u001b[A"
     ]
    },
    {
     "name": "stdout",
     "output_type": "stream",
     "text": [
      "Epoch: 43 Generator: 2, total loss: 19.05127027630806\n",
      "min category: 3, num: 7612\n",
      "category: 0, origin_len: 32802, new_len: 7670\n",
      "category: 1, origin_len: 10464, new_len: 7689\n",
      "category: 2, origin_len: 8745, new_len: 7606\n",
      "category: 3, origin_len: 7612, new_len: 7612\n",
      "Making batches... batch size: 512,num of batchese: 60\n",
      "Epoch: 44 Generator: 0, total loss: 19.10065394639969\n",
      "min category: 3, num: 7612\n",
      "category: 0, origin_len: 32802, new_len: 7540\n",
      "category: 1, origin_len: 10464, new_len: 7605\n",
      "category: 2, origin_len: 8745, new_len: 7631\n",
      "category: 3, origin_len: 7612, new_len: 7612\n",
      "Making batches... batch size: 512,num of batchese: 60\n",
      "Epoch: 44 Generator: 1, total loss: 18.936658561229706\n",
      "min category: 3, num: 7612\n",
      "category: 0, origin_len: 32802, new_len: 7538\n",
      "category: 1, origin_len: 10464, new_len: 7615\n",
      "category: 2, origin_len: 8745, new_len: 7668\n",
      "category: 3, origin_len: 7612, new_len: 7612\n",
      "Making batches... batch size: 512,num of batchese: 60\n"
     ]
    },
    {
     "name": "stderr",
     "output_type": "stream",
     "text": [
      "\n",
      " 45%|████▌     | 45/100 [02:11<02:41,  2.93s/it]\u001b[A"
     ]
    },
    {
     "name": "stdout",
     "output_type": "stream",
     "text": [
      "Epoch: 44 Generator: 2, total loss: 18.486663967370987\n",
      "min category: 3, num: 7612\n",
      "category: 0, origin_len: 32802, new_len: 7571\n",
      "category: 1, origin_len: 10464, new_len: 7629\n",
      "category: 2, origin_len: 8745, new_len: 7598\n",
      "category: 3, origin_len: 7612, new_len: 7612\n",
      "Making batches... batch size: 512,num of batchese: 60\n",
      "Epoch: 45 Generator: 0, total loss: 18.515735268592834\n",
      "min category: 3, num: 7612\n",
      "category: 0, origin_len: 32802, new_len: 7790\n",
      "category: 1, origin_len: 10464, new_len: 7585\n",
      "category: 2, origin_len: 8745, new_len: 7610\n",
      "category: 3, origin_len: 7612, new_len: 7612\n",
      "Making batches... batch size: 512,num of batchese: 60\n",
      "Epoch: 45 Generator: 1, total loss: 18.382660806179047\n",
      "min category: 3, num: 7612\n",
      "category: 0, origin_len: 32802, new_len: 7546\n",
      "category: 1, origin_len: 10464, new_len: 7512\n",
      "category: 2, origin_len: 8745, new_len: 7591\n",
      "category: 3, origin_len: 7612, new_len: 7612\n",
      "Making batches... batch size: 512,num of batchese: 60\n"
     ]
    },
    {
     "name": "stderr",
     "output_type": "stream",
     "text": [
      "\n",
      " 46%|████▌     | 46/100 [02:14<02:38,  2.93s/it]\u001b[A"
     ]
    },
    {
     "name": "stdout",
     "output_type": "stream",
     "text": [
      "Epoch: 45 Generator: 2, total loss: 18.3056478202343\n",
      "min category: 3, num: 7612\n",
      "category: 0, origin_len: 32802, new_len: 7636\n",
      "category: 1, origin_len: 10464, new_len: 7616\n",
      "category: 2, origin_len: 8745, new_len: 7584\n",
      "category: 3, origin_len: 7612, new_len: 7612\n",
      "Making batches... batch size: 512,num of batchese: 60\n",
      "Epoch: 46 Generator: 0, total loss: 18.35668694972992\n",
      "min category: 3, num: 7612\n",
      "category: 0, origin_len: 32802, new_len: 7636\n",
      "category: 1, origin_len: 10464, new_len: 7628\n",
      "category: 2, origin_len: 8745, new_len: 7584\n",
      "category: 3, origin_len: 7612, new_len: 7612\n",
      "Making batches... batch size: 512,num of batchese: 60\n",
      "Epoch: 46 Generator: 1, total loss: 17.926537424325943\n",
      "min category: 3, num: 7612\n",
      "category: 0, origin_len: 32802, new_len: 7599\n",
      "category: 1, origin_len: 10464, new_len: 7643\n",
      "category: 2, origin_len: 8745, new_len: 7625\n",
      "category: 3, origin_len: 7612, new_len: 7612\n",
      "Making batches... batch size: 512,num of batchese: 60\n"
     ]
    },
    {
     "name": "stderr",
     "output_type": "stream",
     "text": [
      "\n",
      " 47%|████▋     | 47/100 [02:17<02:35,  2.93s/it]\u001b[A"
     ]
    },
    {
     "name": "stdout",
     "output_type": "stream",
     "text": [
      "Epoch: 46 Generator: 2, total loss: 17.741506069898605\n",
      "min category: 3, num: 7612\n",
      "category: 0, origin_len: 32802, new_len: 7452\n",
      "category: 1, origin_len: 10464, new_len: 7687\n",
      "category: 2, origin_len: 8745, new_len: 7627\n",
      "category: 3, origin_len: 7612, new_len: 7612\n",
      "Making batches... batch size: 512,num of batchese: 60\n",
      "Epoch: 47 Generator: 0, total loss: 18.240680053830147\n",
      "min category: 3, num: 7612\n",
      "category: 0, origin_len: 32802, new_len: 7629\n",
      "category: 1, origin_len: 10464, new_len: 7647\n",
      "category: 2, origin_len: 8745, new_len: 7672\n",
      "category: 3, origin_len: 7612, new_len: 7612\n",
      "Making batches... batch size: 512,num of batchese: 60\n",
      "Epoch: 47 Generator: 1, total loss: 18.111480578780174\n",
      "min category: 3, num: 7612\n",
      "category: 0, origin_len: 32802, new_len: 7560\n",
      "category: 1, origin_len: 10464, new_len: 7602\n",
      "category: 2, origin_len: 8745, new_len: 7612\n",
      "category: 3, origin_len: 7612, new_len: 7612\n",
      "Making batches... batch size: 512,num of batchese: 60\n"
     ]
    },
    {
     "name": "stderr",
     "output_type": "stream",
     "text": [
      "\n",
      " 48%|████▊     | 48/100 [02:20<02:32,  2.93s/it]\u001b[A"
     ]
    },
    {
     "name": "stdout",
     "output_type": "stream",
     "text": [
      "Epoch: 47 Generator: 2, total loss: 17.423715010285378\n",
      "min category: 3, num: 7612\n",
      "category: 0, origin_len: 32802, new_len: 7577\n",
      "category: 1, origin_len: 10464, new_len: 7588\n",
      "category: 2, origin_len: 8745, new_len: 7629\n",
      "category: 3, origin_len: 7612, new_len: 7612\n",
      "Making batches... batch size: 512,num of batchese: 60\n",
      "Epoch: 48 Generator: 0, total loss: 17.470662638545036\n",
      "min category: 3, num: 7612\n",
      "category: 0, origin_len: 32802, new_len: 7684\n",
      "category: 1, origin_len: 10464, new_len: 7574\n",
      "category: 2, origin_len: 8745, new_len: 7632\n",
      "category: 3, origin_len: 7612, new_len: 7612\n",
      "Making batches... batch size: 512,num of batchese: 60\n",
      "Epoch: 48 Generator: 1, total loss: 16.8119048923254\n",
      "min category: 3, num: 7612\n",
      "category: 0, origin_len: 32802, new_len: 7604\n",
      "category: 1, origin_len: 10464, new_len: 7583\n",
      "category: 2, origin_len: 8745, new_len: 7596\n",
      "category: 3, origin_len: 7612, new_len: 7612\n",
      "Making batches... batch size: 512,num of batchese: 60\n"
     ]
    },
    {
     "name": "stderr",
     "output_type": "stream",
     "text": [
      "\n",
      " 49%|████▉     | 49/100 [02:23<02:29,  2.93s/it]\u001b[A"
     ]
    },
    {
     "name": "stdout",
     "output_type": "stream",
     "text": [
      "Epoch: 48 Generator: 2, total loss: 17.034442752599716\n",
      "min category: 3, num: 7612\n",
      "category: 0, origin_len: 32802, new_len: 7516\n",
      "category: 1, origin_len: 10464, new_len: 7547\n",
      "category: 2, origin_len: 8745, new_len: 7582\n",
      "category: 3, origin_len: 7612, new_len: 7612\n",
      "Making batches... batch size: 512,num of batchese: 60\n",
      "Epoch: 49 Generator: 0, total loss: 16.957165777683258\n",
      "min category: 3, num: 7612\n",
      "category: 0, origin_len: 32802, new_len: 7660\n",
      "category: 1, origin_len: 10464, new_len: 7642\n",
      "category: 2, origin_len: 8745, new_len: 7613\n",
      "category: 3, origin_len: 7612, new_len: 7612\n",
      "Making batches... batch size: 512,num of batchese: 60\n",
      "Epoch: 49 Generator: 1, total loss: 16.93507957458496\n",
      "min category: 3, num: 7612\n",
      "category: 0, origin_len: 32802, new_len: 7605\n",
      "category: 1, origin_len: 10464, new_len: 7659\n",
      "category: 2, origin_len: 8745, new_len: 7660\n",
      "category: 3, origin_len: 7612, new_len: 7612\n",
      "Making batches... batch size: 512,num of batchese: 60\n"
     ]
    },
    {
     "name": "stderr",
     "output_type": "stream",
     "text": [
      "\n",
      " 50%|█████     | 50/100 [02:26<02:26,  2.93s/it]\u001b[A"
     ]
    },
    {
     "name": "stdout",
     "output_type": "stream",
     "text": [
      "Epoch: 49 Generator: 2, total loss: 16.728983491659164\n",
      "min category: 3, num: 7612\n",
      "category: 0, origin_len: 32802, new_len: 7729\n",
      "category: 1, origin_len: 10464, new_len: 7662\n",
      "category: 2, origin_len: 8745, new_len: 7624\n",
      "category: 3, origin_len: 7612, new_len: 7612\n",
      "Making batches... batch size: 512,num of batchese: 60\n",
      "Epoch: 50 Generator: 0, total loss: 16.620259881019592\n",
      "min category: 3, num: 7612\n",
      "category: 0, origin_len: 32802, new_len: 7607\n",
      "category: 1, origin_len: 10464, new_len: 7479\n",
      "category: 2, origin_len: 8745, new_len: 7636\n",
      "category: 3, origin_len: 7612, new_len: 7612\n",
      "Making batches... batch size: 512,num of batchese: 60\n",
      "Epoch: 50 Generator: 1, total loss: 16.441601023077965\n",
      "min category: 3, num: 7612\n",
      "category: 0, origin_len: 32802, new_len: 7611\n",
      "category: 1, origin_len: 10464, new_len: 7620\n",
      "category: 2, origin_len: 8745, new_len: 7581\n",
      "category: 3, origin_len: 7612, new_len: 7612\n",
      "Making batches... batch size: 512,num of batchese: 60\n"
     ]
    },
    {
     "name": "stderr",
     "output_type": "stream",
     "text": [
      "\n",
      " 51%|█████     | 51/100 [02:29<02:23,  2.93s/it]\u001b[A"
     ]
    },
    {
     "name": "stdout",
     "output_type": "stream",
     "text": [
      "Epoch: 50 Generator: 2, total loss: 17.020073503255844\n",
      "min category: 3, num: 7612\n",
      "category: 0, origin_len: 32802, new_len: 7630\n",
      "category: 1, origin_len: 10464, new_len: 7653\n",
      "category: 2, origin_len: 8745, new_len: 7621\n",
      "category: 3, origin_len: 7612, new_len: 7612\n",
      "Making batches... batch size: 512,num of batchese: 60\n",
      "Epoch: 51 Generator: 0, total loss: 16.317080423235893\n",
      "min category: 3, num: 7612\n",
      "category: 0, origin_len: 32802, new_len: 7562\n",
      "category: 1, origin_len: 10464, new_len: 7633\n",
      "category: 2, origin_len: 8745, new_len: 7639\n",
      "category: 3, origin_len: 7612, new_len: 7612\n",
      "Making batches... batch size: 512,num of batchese: 60\n",
      "Epoch: 51 Generator: 1, total loss: 16.230871975421906\n",
      "min category: 3, num: 7612\n",
      "category: 0, origin_len: 32802, new_len: 7546\n",
      "category: 1, origin_len: 10464, new_len: 7604\n",
      "category: 2, origin_len: 8745, new_len: 7583\n",
      "category: 3, origin_len: 7612, new_len: 7612\n",
      "Making batches... batch size: 512,num of batchese: 60\n"
     ]
    },
    {
     "name": "stderr",
     "output_type": "stream",
     "text": [
      "\n",
      " 52%|█████▏    | 52/100 [02:32<02:20,  2.93s/it]\u001b[A"
     ]
    },
    {
     "name": "stdout",
     "output_type": "stream",
     "text": [
      "Epoch: 51 Generator: 2, total loss: 15.883448407053947\n",
      "min category: 3, num: 7612\n",
      "category: 0, origin_len: 32802, new_len: 7551\n",
      "category: 1, origin_len: 10464, new_len: 7626\n",
      "category: 2, origin_len: 8745, new_len: 7647\n",
      "category: 3, origin_len: 7612, new_len: 7612\n",
      "Making batches... batch size: 512,num of batchese: 60\n",
      "Epoch: 52 Generator: 0, total loss: 16.0695688277483\n",
      "min category: 3, num: 7612\n",
      "category: 0, origin_len: 32802, new_len: 7726\n",
      "category: 1, origin_len: 10464, new_len: 7677\n",
      "category: 2, origin_len: 8745, new_len: 7620\n",
      "category: 3, origin_len: 7612, new_len: 7612\n",
      "Making batches... batch size: 512,num of batchese: 60\n",
      "Epoch: 52 Generator: 1, total loss: 15.998569265007973\n",
      "min category: 3, num: 7612\n",
      "category: 0, origin_len: 32802, new_len: 7629\n",
      "category: 1, origin_len: 10464, new_len: 7651\n",
      "category: 2, origin_len: 8745, new_len: 7624\n",
      "category: 3, origin_len: 7612, new_len: 7612\n",
      "Making batches... batch size: 512,num of batchese: 60\n"
     ]
    },
    {
     "name": "stderr",
     "output_type": "stream",
     "text": [
      "\n",
      " 53%|█████▎    | 53/100 [02:35<02:17,  2.93s/it]\u001b[A"
     ]
    },
    {
     "name": "stdout",
     "output_type": "stream",
     "text": [
      "Epoch: 52 Generator: 2, total loss: 15.580719351768494\n",
      "min category: 3, num: 7612\n",
      "category: 0, origin_len: 32802, new_len: 7637\n",
      "category: 1, origin_len: 10464, new_len: 7574\n",
      "category: 2, origin_len: 8745, new_len: 7618\n",
      "category: 3, origin_len: 7612, new_len: 7612\n",
      "Making batches... batch size: 512,num of batchese: 60\n",
      "Epoch: 53 Generator: 0, total loss: 15.59164410829544\n",
      "min category: 3, num: 7612\n",
      "category: 0, origin_len: 32802, new_len: 7577\n",
      "category: 1, origin_len: 10464, new_len: 7567\n",
      "category: 2, origin_len: 8745, new_len: 7604\n",
      "category: 3, origin_len: 7612, new_len: 7612\n",
      "Making batches... batch size: 512,num of batchese: 60\n",
      "Epoch: 53 Generator: 1, total loss: 15.284423843026161\n",
      "min category: 3, num: 7612\n",
      "category: 0, origin_len: 32802, new_len: 7548\n",
      "category: 1, origin_len: 10464, new_len: 7544\n",
      "category: 2, origin_len: 8745, new_len: 7586\n",
      "category: 3, origin_len: 7612, new_len: 7612\n",
      "Making batches... batch size: 512,num of batchese: 60\n"
     ]
    },
    {
     "name": "stderr",
     "output_type": "stream",
     "text": [
      "\n",
      " 54%|█████▍    | 54/100 [02:38<02:14,  2.93s/it]\u001b[A"
     ]
    },
    {
     "name": "stdout",
     "output_type": "stream",
     "text": [
      "Epoch: 53 Generator: 2, total loss: 15.404816284775734\n",
      "min category: 3, num: 7612\n",
      "category: 0, origin_len: 32802, new_len: 7502\n",
      "category: 1, origin_len: 10464, new_len: 7598\n",
      "category: 2, origin_len: 8745, new_len: 7633\n",
      "category: 3, origin_len: 7612, new_len: 7612\n",
      "Making batches... batch size: 512,num of batchese: 60\n",
      "Epoch: 54 Generator: 0, total loss: 14.98912499845028\n",
      "min category: 3, num: 7612\n",
      "category: 0, origin_len: 32802, new_len: 7720\n",
      "category: 1, origin_len: 10464, new_len: 7596\n",
      "category: 2, origin_len: 8745, new_len: 7630\n",
      "category: 3, origin_len: 7612, new_len: 7612\n",
      "Making batches... batch size: 512,num of batchese: 60\n",
      "Epoch: 54 Generator: 1, total loss: 14.934813037514687\n",
      "min category: 3, num: 7612\n",
      "category: 0, origin_len: 32802, new_len: 7608\n",
      "category: 1, origin_len: 10464, new_len: 7600\n",
      "category: 2, origin_len: 8745, new_len: 7584\n",
      "category: 3, origin_len: 7612, new_len: 7612\n",
      "Making batches... batch size: 512,num of batchese: 60\n"
     ]
    },
    {
     "name": "stderr",
     "output_type": "stream",
     "text": [
      "\n",
      " 55%|█████▌    | 55/100 [02:41<02:11,  2.93s/it]\u001b[A"
     ]
    },
    {
     "name": "stdout",
     "output_type": "stream",
     "text": [
      "Epoch: 54 Generator: 2, total loss: 14.881673723459244\n",
      "min category: 3, num: 7612\n",
      "category: 0, origin_len: 32802, new_len: 7698\n",
      "category: 1, origin_len: 10464, new_len: 7567\n",
      "category: 2, origin_len: 8745, new_len: 7545\n",
      "category: 3, origin_len: 7612, new_len: 7612\n",
      "Making batches... batch size: 512,num of batchese: 60\n",
      "Epoch: 55 Generator: 0, total loss: 15.133629992604256\n",
      "min category: 3, num: 7612\n",
      "category: 0, origin_len: 32802, new_len: 7552\n",
      "category: 1, origin_len: 10464, new_len: 7649\n",
      "category: 2, origin_len: 8745, new_len: 7651\n",
      "category: 3, origin_len: 7612, new_len: 7612\n",
      "Making batches... batch size: 512,num of batchese: 60\n",
      "Epoch: 55 Generator: 1, total loss: 14.841367065906525\n",
      "min category: 3, num: 7612\n",
      "category: 0, origin_len: 32802, new_len: 7577\n",
      "category: 1, origin_len: 10464, new_len: 7600\n",
      "category: 2, origin_len: 8745, new_len: 7622\n",
      "category: 3, origin_len: 7612, new_len: 7612\n",
      "Making batches... batch size: 512,num of batchese: 60\n"
     ]
    },
    {
     "name": "stderr",
     "output_type": "stream",
     "text": [
      "\n",
      " 56%|█████▌    | 56/100 [02:43<02:08,  2.93s/it]\u001b[A"
     ]
    },
    {
     "name": "stdout",
     "output_type": "stream",
     "text": [
      "Epoch: 55 Generator: 2, total loss: 14.334293141961098\n",
      "min category: 3, num: 7612\n",
      "category: 0, origin_len: 32802, new_len: 7539\n",
      "category: 1, origin_len: 10464, new_len: 7588\n",
      "category: 2, origin_len: 8745, new_len: 7592\n",
      "category: 3, origin_len: 7612, new_len: 7612\n",
      "Making batches... batch size: 512,num of batchese: 60\n",
      "Epoch: 56 Generator: 0, total loss: 14.26988972723484\n",
      "min category: 3, num: 7612\n",
      "category: 0, origin_len: 32802, new_len: 7641\n",
      "category: 1, origin_len: 10464, new_len: 7641\n",
      "category: 2, origin_len: 8745, new_len: 7574\n",
      "category: 3, origin_len: 7612, new_len: 7612\n",
      "Making batches... batch size: 512,num of batchese: 60\n",
      "Epoch: 56 Generator: 1, total loss: 14.693630516529083\n",
      "min category: 3, num: 7612\n",
      "category: 0, origin_len: 32802, new_len: 7569\n",
      "category: 1, origin_len: 10464, new_len: 7689\n",
      "category: 2, origin_len: 8745, new_len: 7640\n",
      "category: 3, origin_len: 7612, new_len: 7612\n",
      "Making batches... batch size: 512,num of batchese: 60\n"
     ]
    },
    {
     "name": "stderr",
     "output_type": "stream",
     "text": [
      "\n",
      " 57%|█████▋    | 57/100 [02:46<02:05,  2.93s/it]\u001b[A"
     ]
    },
    {
     "name": "stdout",
     "output_type": "stream",
     "text": [
      "Epoch: 56 Generator: 2, total loss: 14.29511770606041\n",
      "min category: 3, num: 7612\n",
      "category: 0, origin_len: 32802, new_len: 7638\n",
      "category: 1, origin_len: 10464, new_len: 7588\n",
      "category: 2, origin_len: 8745, new_len: 7665\n",
      "category: 3, origin_len: 7612, new_len: 7612\n",
      "Making batches... batch size: 512,num of batchese: 60\n",
      "Epoch: 57 Generator: 0, total loss: 14.278403103351593\n",
      "min category: 3, num: 7612\n",
      "category: 0, origin_len: 32802, new_len: 7705\n",
      "category: 1, origin_len: 10464, new_len: 7599\n",
      "category: 2, origin_len: 8745, new_len: 7597\n",
      "category: 3, origin_len: 7612, new_len: 7612\n",
      "Making batches... batch size: 512,num of batchese: 60\n",
      "Epoch: 57 Generator: 1, total loss: 14.327989533543587\n",
      "min category: 3, num: 7612\n",
      "category: 0, origin_len: 32802, new_len: 7669\n",
      "category: 1, origin_len: 10464, new_len: 7596\n",
      "category: 2, origin_len: 8745, new_len: 7597\n",
      "category: 3, origin_len: 7612, new_len: 7612\n",
      "Making batches... batch size: 512,num of batchese: 60\n"
     ]
    },
    {
     "name": "stderr",
     "output_type": "stream",
     "text": [
      "\n",
      " 58%|█████▊    | 58/100 [02:49<02:02,  2.93s/it]\u001b[A"
     ]
    },
    {
     "name": "stdout",
     "output_type": "stream",
     "text": [
      "Epoch: 57 Generator: 2, total loss: 14.130084246397018\n",
      "min category: 3, num: 7612\n",
      "category: 0, origin_len: 32802, new_len: 7632\n",
      "category: 1, origin_len: 10464, new_len: 7636\n",
      "category: 2, origin_len: 8745, new_len: 7629\n",
      "category: 3, origin_len: 7612, new_len: 7612\n",
      "Making batches... batch size: 512,num of batchese: 60\n",
      "Epoch: 58 Generator: 0, total loss: 14.230655148625374\n",
      "min category: 3, num: 7612\n",
      "category: 0, origin_len: 32802, new_len: 7544\n",
      "category: 1, origin_len: 10464, new_len: 7681\n",
      "category: 2, origin_len: 8745, new_len: 7670\n",
      "category: 3, origin_len: 7612, new_len: 7612\n",
      "Making batches... batch size: 512,num of batchese: 60\n",
      "Epoch: 58 Generator: 1, total loss: 13.87439101934433\n",
      "min category: 3, num: 7612\n",
      "category: 0, origin_len: 32802, new_len: 7497\n",
      "category: 1, origin_len: 10464, new_len: 7645\n",
      "category: 2, origin_len: 8745, new_len: 7650\n",
      "category: 3, origin_len: 7612, new_len: 7612\n",
      "Making batches... batch size: 512,num of batchese: 60\n"
     ]
    },
    {
     "name": "stderr",
     "output_type": "stream",
     "text": [
      "\n",
      " 59%|█████▉    | 59/100 [02:52<01:59,  2.93s/it]\u001b[A"
     ]
    },
    {
     "name": "stdout",
     "output_type": "stream",
     "text": [
      "Epoch: 58 Generator: 2, total loss: 13.892227083444595\n",
      "min category: 3, num: 7612\n",
      "category: 0, origin_len: 32802, new_len: 7588\n",
      "category: 1, origin_len: 10464, new_len: 7528\n",
      "category: 2, origin_len: 8745, new_len: 7601\n",
      "category: 3, origin_len: 7612, new_len: 7612\n",
      "Making batches... batch size: 512,num of batchese: 60\n",
      "Epoch: 59 Generator: 0, total loss: 13.681248426437378\n",
      "min category: 3, num: 7612\n",
      "category: 0, origin_len: 32802, new_len: 7676\n",
      "category: 1, origin_len: 10464, new_len: 7579\n",
      "category: 2, origin_len: 8745, new_len: 7578\n",
      "category: 3, origin_len: 7612, new_len: 7612\n",
      "Making batches... batch size: 512,num of batchese: 60\n",
      "Epoch: 59 Generator: 1, total loss: 14.211967334151268\n",
      "min category: 3, num: 7612\n",
      "category: 0, origin_len: 32802, new_len: 7625\n",
      "category: 1, origin_len: 10464, new_len: 7573\n",
      "category: 2, origin_len: 8745, new_len: 7639\n",
      "category: 3, origin_len: 7612, new_len: 7612\n",
      "Making batches... batch size: 512,num of batchese: 60\n"
     ]
    },
    {
     "name": "stderr",
     "output_type": "stream",
     "text": [
      "\n",
      " 60%|██████    | 60/100 [02:55<01:57,  2.93s/it]\u001b[A"
     ]
    },
    {
     "name": "stdout",
     "output_type": "stream",
     "text": [
      "Epoch: 59 Generator: 2, total loss: 13.914728865027428\n",
      "min category: 3, num: 7612\n",
      "category: 0, origin_len: 32802, new_len: 7581\n",
      "category: 1, origin_len: 10464, new_len: 7608\n",
      "category: 2, origin_len: 8745, new_len: 7591\n",
      "category: 3, origin_len: 7612, new_len: 7612\n",
      "Making batches... batch size: 512,num of batchese: 60\n",
      "Epoch: 60 Generator: 0, total loss: 13.383357763290405\n",
      "min category: 3, num: 7612\n",
      "category: 0, origin_len: 32802, new_len: 7626\n",
      "category: 1, origin_len: 10464, new_len: 7582\n",
      "category: 2, origin_len: 8745, new_len: 7601\n",
      "category: 3, origin_len: 7612, new_len: 7612\n",
      "Making batches... batch size: 512,num of batchese: 60\n",
      "Epoch: 60 Generator: 1, total loss: 13.634894654154778\n",
      "min category: 3, num: 7612\n",
      "category: 0, origin_len: 32802, new_len: 7726\n",
      "category: 1, origin_len: 10464, new_len: 7655\n",
      "category: 2, origin_len: 8745, new_len: 7566\n",
      "category: 3, origin_len: 7612, new_len: 7612\n",
      "Making batches... batch size: 512,num of batchese: 60\n"
     ]
    },
    {
     "name": "stderr",
     "output_type": "stream",
     "text": [
      "\n",
      " 61%|██████    | 61/100 [02:58<01:54,  2.93s/it]\u001b[A"
     ]
    },
    {
     "name": "stdout",
     "output_type": "stream",
     "text": [
      "Epoch: 60 Generator: 2, total loss: 13.546524211764336\n",
      "min category: 3, num: 7612\n",
      "category: 0, origin_len: 32802, new_len: 7668\n",
      "category: 1, origin_len: 10464, new_len: 7652\n",
      "category: 2, origin_len: 8745, new_len: 7616\n",
      "category: 3, origin_len: 7612, new_len: 7612\n",
      "Making batches... batch size: 512,num of batchese: 60\n",
      "Epoch: 61 Generator: 0, total loss: 13.176713466644287\n",
      "min category: 3, num: 7612\n",
      "category: 0, origin_len: 32802, new_len: 7422\n",
      "category: 1, origin_len: 10464, new_len: 7652\n",
      "category: 2, origin_len: 8745, new_len: 7577\n",
      "category: 3, origin_len: 7612, new_len: 7612\n",
      "Making batches... batch size: 512,num of batchese: 60\n",
      "Epoch: 61 Generator: 1, total loss: 13.301802426576614\n",
      "min category: 3, num: 7612\n",
      "category: 0, origin_len: 32802, new_len: 7628\n",
      "category: 1, origin_len: 10464, new_len: 7605\n",
      "category: 2, origin_len: 8745, new_len: 7644\n",
      "category: 3, origin_len: 7612, new_len: 7612\n",
      "Making batches... batch size: 512,num of batchese: 60\n"
     ]
    },
    {
     "name": "stderr",
     "output_type": "stream",
     "text": [
      "\n",
      " 62%|██████▏   | 62/100 [03:01<01:51,  2.93s/it]\u001b[A"
     ]
    },
    {
     "name": "stdout",
     "output_type": "stream",
     "text": [
      "Epoch: 61 Generator: 2, total loss: 13.264474004507065\n",
      "min category: 3, num: 7612\n",
      "category: 0, origin_len: 32802, new_len: 7655\n",
      "category: 1, origin_len: 10464, new_len: 7662\n",
      "category: 2, origin_len: 8745, new_len: 7650\n",
      "category: 3, origin_len: 7612, new_len: 7612\n",
      "Making batches... batch size: 512,num of batchese: 60\n",
      "Epoch: 62 Generator: 0, total loss: 12.670198783278465\n",
      "min category: 3, num: 7612\n",
      "category: 0, origin_len: 32802, new_len: 7666\n",
      "category: 1, origin_len: 10464, new_len: 7668\n",
      "category: 2, origin_len: 8745, new_len: 7630\n",
      "category: 3, origin_len: 7612, new_len: 7612\n",
      "Making batches... batch size: 512,num of batchese: 60\n",
      "Epoch: 62 Generator: 1, total loss: 13.190873131155968\n",
      "min category: 3, num: 7612\n",
      "category: 0, origin_len: 32802, new_len: 7577\n",
      "category: 1, origin_len: 10464, new_len: 7671\n",
      "category: 2, origin_len: 8745, new_len: 7632\n",
      "category: 3, origin_len: 7612, new_len: 7612\n",
      "Making batches... batch size: 512,num of batchese: 60\n"
     ]
    },
    {
     "name": "stderr",
     "output_type": "stream",
     "text": [
      "\n",
      " 63%|██████▎   | 63/100 [03:04<01:48,  2.93s/it]\u001b[A"
     ]
    },
    {
     "name": "stdout",
     "output_type": "stream",
     "text": [
      "Epoch: 62 Generator: 2, total loss: 13.16125950217247\n",
      "min category: 3, num: 7612\n",
      "category: 0, origin_len: 32802, new_len: 7507\n",
      "category: 1, origin_len: 10464, new_len: 7657\n",
      "category: 2, origin_len: 8745, new_len: 7612\n",
      "category: 3, origin_len: 7612, new_len: 7612\n",
      "Making batches... batch size: 512,num of batchese: 60\n",
      "Epoch: 63 Generator: 0, total loss: 12.924163103103638\n",
      "min category: 3, num: 7612\n",
      "category: 0, origin_len: 32802, new_len: 7595\n",
      "category: 1, origin_len: 10464, new_len: 7571\n",
      "category: 2, origin_len: 8745, new_len: 7606\n",
      "category: 3, origin_len: 7612, new_len: 7612\n",
      "Making batches... batch size: 512,num of batchese: 60\n",
      "Epoch: 63 Generator: 1, total loss: 12.668565481901169\n",
      "min category: 3, num: 7612\n",
      "category: 0, origin_len: 32802, new_len: 7612\n",
      "category: 1, origin_len: 10464, new_len: 7628\n",
      "category: 2, origin_len: 8745, new_len: 7663\n",
      "category: 3, origin_len: 7612, new_len: 7612\n",
      "Making batches... batch size: 512,num of batchese: 60\n"
     ]
    },
    {
     "name": "stderr",
     "output_type": "stream",
     "text": [
      "\n",
      " 64%|██████▍   | 64/100 [03:07<01:45,  2.93s/it]\u001b[A"
     ]
    },
    {
     "name": "stdout",
     "output_type": "stream",
     "text": [
      "Epoch: 63 Generator: 2, total loss: 12.469389364123344\n",
      "min category: 3, num: 7612\n",
      "category: 0, origin_len: 32802, new_len: 7739\n",
      "category: 1, origin_len: 10464, new_len: 7583\n",
      "category: 2, origin_len: 8745, new_len: 7612\n",
      "category: 3, origin_len: 7612, new_len: 7612\n",
      "Making batches... batch size: 512,num of batchese: 60\n",
      "Epoch: 64 Generator: 0, total loss: 12.415714517235756\n",
      "min category: 3, num: 7612\n",
      "category: 0, origin_len: 32802, new_len: 7638\n",
      "category: 1, origin_len: 10464, new_len: 7631\n",
      "category: 2, origin_len: 8745, new_len: 7630\n",
      "category: 3, origin_len: 7612, new_len: 7612\n",
      "Making batches... batch size: 512,num of batchese: 60\n",
      "Epoch: 64 Generator: 1, total loss: 12.251692071557045\n",
      "min category: 3, num: 7612\n",
      "category: 0, origin_len: 32802, new_len: 7587\n",
      "category: 1, origin_len: 10464, new_len: 7571\n",
      "category: 2, origin_len: 8745, new_len: 7607\n",
      "category: 3, origin_len: 7612, new_len: 7612\n",
      "Making batches... batch size: 512,num of batchese: 60\n"
     ]
    },
    {
     "name": "stderr",
     "output_type": "stream",
     "text": [
      "\n",
      " 65%|██████▌   | 65/100 [03:10<01:42,  2.93s/it]\u001b[A"
     ]
    },
    {
     "name": "stdout",
     "output_type": "stream",
     "text": [
      "Epoch: 64 Generator: 2, total loss: 12.099856600165367\n",
      "min category: 3, num: 7612\n",
      "category: 0, origin_len: 32802, new_len: 7612\n",
      "category: 1, origin_len: 10464, new_len: 7631\n",
      "category: 2, origin_len: 8745, new_len: 7670\n",
      "category: 3, origin_len: 7612, new_len: 7612\n",
      "Making batches... batch size: 512,num of batchese: 60\n",
      "Epoch: 65 Generator: 0, total loss: 12.625304743647575\n",
      "min category: 3, num: 7612\n",
      "category: 0, origin_len: 32802, new_len: 7556\n",
      "category: 1, origin_len: 10464, new_len: 7571\n",
      "category: 2, origin_len: 8745, new_len: 7545\n",
      "category: 3, origin_len: 7612, new_len: 7612\n",
      "Making batches... batch size: 512,num of batchese: 60\n",
      "Epoch: 65 Generator: 1, total loss: 12.287651985883713\n",
      "min category: 3, num: 7612\n",
      "category: 0, origin_len: 32802, new_len: 7581\n",
      "category: 1, origin_len: 10464, new_len: 7632\n",
      "category: 2, origin_len: 8745, new_len: 7582\n",
      "category: 3, origin_len: 7612, new_len: 7612\n",
      "Making batches... batch size: 512,num of batchese: 60\n"
     ]
    },
    {
     "name": "stderr",
     "output_type": "stream",
     "text": [
      "\n",
      " 66%|██████▌   | 66/100 [03:13<01:39,  2.93s/it]\u001b[A"
     ]
    },
    {
     "name": "stdout",
     "output_type": "stream",
     "text": [
      "Epoch: 65 Generator: 2, total loss: 13.164044171571732\n",
      "min category: 3, num: 7612\n",
      "category: 0, origin_len: 32802, new_len: 7640\n",
      "category: 1, origin_len: 10464, new_len: 7637\n",
      "category: 2, origin_len: 8745, new_len: 7654\n",
      "category: 3, origin_len: 7612, new_len: 7612\n",
      "Making batches... batch size: 512,num of batchese: 60\n",
      "Epoch: 66 Generator: 0, total loss: 12.121463939547539\n",
      "min category: 3, num: 7612\n",
      "category: 0, origin_len: 32802, new_len: 7613\n",
      "category: 1, origin_len: 10464, new_len: 7628\n",
      "category: 2, origin_len: 8745, new_len: 7635\n",
      "category: 3, origin_len: 7612, new_len: 7612\n",
      "Making batches... batch size: 512,num of batchese: 60\n",
      "Epoch: 66 Generator: 1, total loss: 12.114009141921997\n",
      "min category: 3, num: 7612\n",
      "category: 0, origin_len: 32802, new_len: 7543\n",
      "category: 1, origin_len: 10464, new_len: 7572\n",
      "category: 2, origin_len: 8745, new_len: 7605\n",
      "category: 3, origin_len: 7612, new_len: 7612\n",
      "Making batches... batch size: 512,num of batchese: 60\n"
     ]
    },
    {
     "name": "stderr",
     "output_type": "stream",
     "text": [
      "\n",
      " 67%|██████▋   | 67/100 [03:16<01:36,  2.93s/it]\u001b[A"
     ]
    },
    {
     "name": "stdout",
     "output_type": "stream",
     "text": [
      "Epoch: 66 Generator: 2, total loss: 11.910567373037338\n",
      "min category: 3, num: 7612\n",
      "category: 0, origin_len: 32802, new_len: 7561\n",
      "category: 1, origin_len: 10464, new_len: 7587\n",
      "category: 2, origin_len: 8745, new_len: 7606\n",
      "category: 3, origin_len: 7612, new_len: 7612\n",
      "Making batches... batch size: 512,num of batchese: 60\n",
      "Epoch: 67 Generator: 0, total loss: 11.667642697691917\n",
      "min category: 3, num: 7612\n",
      "category: 0, origin_len: 32802, new_len: 7626\n",
      "category: 1, origin_len: 10464, new_len: 7566\n",
      "category: 2, origin_len: 8745, new_len: 7618\n",
      "category: 3, origin_len: 7612, new_len: 7612\n",
      "Making batches... batch size: 512,num of batchese: 60\n",
      "Epoch: 67 Generator: 1, total loss: 11.626143842935562\n",
      "min category: 3, num: 7612\n",
      "category: 0, origin_len: 32802, new_len: 7606\n",
      "category: 1, origin_len: 10464, new_len: 7676\n",
      "category: 2, origin_len: 8745, new_len: 7580\n",
      "category: 3, origin_len: 7612, new_len: 7612\n",
      "Making batches... batch size: 512,num of batchese: 60\n"
     ]
    },
    {
     "name": "stderr",
     "output_type": "stream",
     "text": [
      "\n",
      " 68%|██████▊   | 68/100 [03:18<01:33,  2.93s/it]\u001b[A"
     ]
    },
    {
     "name": "stdout",
     "output_type": "stream",
     "text": [
      "Epoch: 67 Generator: 2, total loss: 11.724117778241634\n",
      "min category: 3, num: 7612\n",
      "category: 0, origin_len: 32802, new_len: 7670\n",
      "category: 1, origin_len: 10464, new_len: 7614\n",
      "category: 2, origin_len: 8745, new_len: 7633\n",
      "category: 3, origin_len: 7612, new_len: 7612\n",
      "Making batches... batch size: 512,num of batchese: 60\n",
      "Epoch: 68 Generator: 0, total loss: 11.545391619205475\n",
      "min category: 3, num: 7612\n",
      "category: 0, origin_len: 32802, new_len: 7662\n",
      "category: 1, origin_len: 10464, new_len: 7683\n",
      "category: 2, origin_len: 8745, new_len: 7646\n",
      "category: 3, origin_len: 7612, new_len: 7612\n",
      "Making batches... batch size: 512,num of batchese: 60\n",
      "Epoch: 68 Generator: 1, total loss: 11.856182843446732\n",
      "min category: 3, num: 7612\n",
      "category: 0, origin_len: 32802, new_len: 7661\n",
      "category: 1, origin_len: 10464, new_len: 7611\n",
      "category: 2, origin_len: 8745, new_len: 7587\n",
      "category: 3, origin_len: 7612, new_len: 7612\n",
      "Making batches... batch size: 512,num of batchese: 60\n"
     ]
    },
    {
     "name": "stderr",
     "output_type": "stream",
     "text": [
      "\n",
      " 69%|██████▉   | 69/100 [03:21<01:30,  2.93s/it]\u001b[A"
     ]
    },
    {
     "name": "stdout",
     "output_type": "stream",
     "text": [
      "Epoch: 68 Generator: 2, total loss: 11.411067739129066\n",
      "min category: 3, num: 7612\n",
      "category: 0, origin_len: 32802, new_len: 7634\n",
      "category: 1, origin_len: 10464, new_len: 7625\n",
      "category: 2, origin_len: 8745, new_len: 7616\n",
      "category: 3, origin_len: 7612, new_len: 7612\n",
      "Making batches... batch size: 512,num of batchese: 60\n",
      "Epoch: 69 Generator: 0, total loss: 11.337066948413849\n",
      "min category: 3, num: 7612\n",
      "category: 0, origin_len: 32802, new_len: 7439\n",
      "category: 1, origin_len: 10464, new_len: 7659\n",
      "category: 2, origin_len: 8745, new_len: 7593\n",
      "category: 3, origin_len: 7612, new_len: 7612\n",
      "Making batches... batch size: 512,num of batchese: 60\n",
      "Epoch: 69 Generator: 1, total loss: 11.281672939658165\n",
      "min category: 3, num: 7612\n",
      "category: 0, origin_len: 32802, new_len: 7640\n",
      "category: 1, origin_len: 10464, new_len: 7573\n",
      "category: 2, origin_len: 8745, new_len: 7585\n",
      "category: 3, origin_len: 7612, new_len: 7612\n",
      "Making batches... batch size: 512,num of batchese: 60\n"
     ]
    },
    {
     "name": "stderr",
     "output_type": "stream",
     "text": [
      "\n",
      " 70%|███████   | 70/100 [03:24<01:27,  2.93s/it]\u001b[A"
     ]
    },
    {
     "name": "stdout",
     "output_type": "stream",
     "text": [
      "Epoch: 69 Generator: 2, total loss: 11.280679285526276\n",
      "min category: 3, num: 7612\n",
      "category: 0, origin_len: 32802, new_len: 7502\n",
      "category: 1, origin_len: 10464, new_len: 7587\n",
      "category: 2, origin_len: 8745, new_len: 7582\n",
      "category: 3, origin_len: 7612, new_len: 7612\n",
      "Making batches... batch size: 512,num of batchese: 60\n",
      "Epoch: 70 Generator: 0, total loss: 11.096643164753914\n",
      "min category: 3, num: 7612\n",
      "category: 0, origin_len: 32802, new_len: 7604\n",
      "category: 1, origin_len: 10464, new_len: 7589\n",
      "category: 2, origin_len: 8745, new_len: 7629\n",
      "category: 3, origin_len: 7612, new_len: 7612\n",
      "Making batches... batch size: 512,num of batchese: 60\n",
      "Epoch: 70 Generator: 1, total loss: 11.783641993999481\n",
      "min category: 3, num: 7612\n",
      "category: 0, origin_len: 32802, new_len: 7661\n",
      "category: 1, origin_len: 10464, new_len: 7652\n",
      "category: 2, origin_len: 8745, new_len: 7607\n",
      "category: 3, origin_len: 7612, new_len: 7612\n",
      "Making batches... batch size: 512,num of batchese: 60\n"
     ]
    },
    {
     "name": "stderr",
     "output_type": "stream",
     "text": [
      "\n",
      " 71%|███████   | 71/100 [03:27<01:24,  2.93s/it]\u001b[A"
     ]
    },
    {
     "name": "stdout",
     "output_type": "stream",
     "text": [
      "Epoch: 70 Generator: 2, total loss: 10.911778017878532\n",
      "min category: 3, num: 7612\n",
      "category: 0, origin_len: 32802, new_len: 7647\n",
      "category: 1, origin_len: 10464, new_len: 7551\n",
      "category: 2, origin_len: 8745, new_len: 7619\n",
      "category: 3, origin_len: 7612, new_len: 7612\n",
      "Making batches... batch size: 512,num of batchese: 60\n",
      "Epoch: 71 Generator: 0, total loss: 10.729280948638916\n",
      "min category: 3, num: 7612\n",
      "category: 0, origin_len: 32802, new_len: 7519\n",
      "category: 1, origin_len: 10464, new_len: 7646\n",
      "category: 2, origin_len: 8745, new_len: 7623\n",
      "category: 3, origin_len: 7612, new_len: 7612\n",
      "Making batches... batch size: 512,num of batchese: 60\n",
      "Epoch: 71 Generator: 1, total loss: 10.639612928032875\n",
      "min category: 3, num: 7612\n",
      "category: 0, origin_len: 32802, new_len: 7586\n",
      "category: 1, origin_len: 10464, new_len: 7548\n",
      "category: 2, origin_len: 8745, new_len: 7568\n",
      "category: 3, origin_len: 7612, new_len: 7612\n",
      "Making batches... batch size: 512,num of batchese: 60\n"
     ]
    },
    {
     "name": "stderr",
     "output_type": "stream",
     "text": [
      "\n",
      " 72%|███████▏  | 72/100 [03:30<01:21,  2.93s/it]\u001b[A"
     ]
    },
    {
     "name": "stdout",
     "output_type": "stream",
     "text": [
      "Epoch: 71 Generator: 2, total loss: 10.943340808153152\n",
      "min category: 3, num: 7612\n",
      "category: 0, origin_len: 32802, new_len: 7617\n",
      "category: 1, origin_len: 10464, new_len: 7633\n",
      "category: 2, origin_len: 8745, new_len: 7612\n",
      "category: 3, origin_len: 7612, new_len: 7612\n",
      "Making batches... batch size: 512,num of batchese: 60\n",
      "Epoch: 72 Generator: 0, total loss: 10.67212226241827\n",
      "min category: 3, num: 7612\n",
      "category: 0, origin_len: 32802, new_len: 7710\n",
      "category: 1, origin_len: 10464, new_len: 7618\n",
      "category: 2, origin_len: 8745, new_len: 7647\n",
      "category: 3, origin_len: 7612, new_len: 7612\n",
      "Making batches... batch size: 512,num of batchese: 60\n",
      "Epoch: 72 Generator: 1, total loss: 10.57720996439457\n",
      "min category: 3, num: 7612\n",
      "category: 0, origin_len: 32802, new_len: 7456\n",
      "category: 1, origin_len: 10464, new_len: 7569\n",
      "category: 2, origin_len: 8745, new_len: 7610\n",
      "category: 3, origin_len: 7612, new_len: 7612\n",
      "Making batches... batch size: 512,num of batchese: 60\n"
     ]
    },
    {
     "name": "stderr",
     "output_type": "stream",
     "text": [
      "\n",
      " 73%|███████▎  | 73/100 [03:33<01:19,  2.93s/it]\u001b[A"
     ]
    },
    {
     "name": "stdout",
     "output_type": "stream",
     "text": [
      "Epoch: 72 Generator: 2, total loss: 10.920241385698318\n",
      "min category: 3, num: 7612\n",
      "category: 0, origin_len: 32802, new_len: 7557\n",
      "category: 1, origin_len: 10464, new_len: 7642\n",
      "category: 2, origin_len: 8745, new_len: 7660\n",
      "category: 3, origin_len: 7612, new_len: 7612\n",
      "Making batches... batch size: 512,num of batchese: 60\n",
      "Epoch: 73 Generator: 0, total loss: 11.964455395936966\n",
      "min category: 3, num: 7612\n",
      "category: 0, origin_len: 32802, new_len: 7576\n",
      "category: 1, origin_len: 10464, new_len: 7603\n",
      "category: 2, origin_len: 8745, new_len: 7626\n",
      "category: 3, origin_len: 7612, new_len: 7612\n",
      "Making batches... batch size: 512,num of batchese: 60\n",
      "Epoch: 73 Generator: 1, total loss: 11.089525669813156\n",
      "min category: 3, num: 7612\n",
      "category: 0, origin_len: 32802, new_len: 7595\n",
      "category: 1, origin_len: 10464, new_len: 7620\n",
      "category: 2, origin_len: 8745, new_len: 7578\n",
      "category: 3, origin_len: 7612, new_len: 7612\n",
      "Making batches... batch size: 512,num of batchese: 60\n"
     ]
    },
    {
     "name": "stderr",
     "output_type": "stream",
     "text": [
      "\n",
      " 74%|███████▍  | 74/100 [03:36<01:16,  2.93s/it]\u001b[A"
     ]
    },
    {
     "name": "stdout",
     "output_type": "stream",
     "text": [
      "Epoch: 73 Generator: 2, total loss: 10.281645968556404\n",
      "min category: 3, num: 7612\n",
      "category: 0, origin_len: 32802, new_len: 7712\n",
      "category: 1, origin_len: 10464, new_len: 7589\n",
      "category: 2, origin_len: 8745, new_len: 7598\n",
      "category: 3, origin_len: 7612, new_len: 7612\n",
      "Making batches... batch size: 512,num of batchese: 60\n",
      "Epoch: 74 Generator: 0, total loss: 10.230643786489964\n",
      "min category: 3, num: 7612\n",
      "category: 0, origin_len: 32802, new_len: 7549\n",
      "category: 1, origin_len: 10464, new_len: 7675\n",
      "category: 2, origin_len: 8745, new_len: 7630\n",
      "category: 3, origin_len: 7612, new_len: 7612\n",
      "Making batches... batch size: 512,num of batchese: 60\n",
      "Epoch: 74 Generator: 1, total loss: 10.154224008321762\n",
      "min category: 3, num: 7612\n",
      "category: 0, origin_len: 32802, new_len: 7671\n",
      "category: 1, origin_len: 10464, new_len: 7673\n",
      "category: 2, origin_len: 8745, new_len: 7650\n",
      "category: 3, origin_len: 7612, new_len: 7612\n",
      "Making batches... batch size: 512,num of batchese: 60\n"
     ]
    },
    {
     "name": "stderr",
     "output_type": "stream",
     "text": [
      "\n",
      " 75%|███████▌  | 75/100 [03:39<01:13,  2.93s/it]\u001b[A"
     ]
    },
    {
     "name": "stdout",
     "output_type": "stream",
     "text": [
      "Epoch: 74 Generator: 2, total loss: 10.501788653433323\n",
      "min category: 3, num: 7612\n",
      "category: 0, origin_len: 32802, new_len: 7500\n",
      "category: 1, origin_len: 10464, new_len: 7625\n",
      "category: 2, origin_len: 8745, new_len: 7614\n",
      "category: 3, origin_len: 7612, new_len: 7612\n",
      "Making batches... batch size: 512,num of batchese: 60\n",
      "Epoch: 75 Generator: 0, total loss: 10.590988025069237\n",
      "min category: 3, num: 7612\n",
      "category: 0, origin_len: 32802, new_len: 7469\n",
      "category: 1, origin_len: 10464, new_len: 7566\n",
      "category: 2, origin_len: 8745, new_len: 7526\n",
      "category: 3, origin_len: 7612, new_len: 7612\n",
      "Making batches... batch size: 512,num of batchese: 59\n",
      "Epoch: 75 Generator: 1, total loss: 10.24629782140255\n",
      "min category: 3, num: 7612\n",
      "category: 0, origin_len: 32802, new_len: 7630\n",
      "category: 1, origin_len: 10464, new_len: 7508\n",
      "category: 2, origin_len: 8745, new_len: 7638\n",
      "category: 3, origin_len: 7612, new_len: 7612\n",
      "Making batches... batch size: 512,num of batchese: 60\n"
     ]
    },
    {
     "name": "stderr",
     "output_type": "stream",
     "text": [
      "\n",
      " 76%|███████▌  | 76/100 [03:42<01:10,  2.93s/it]\u001b[A"
     ]
    },
    {
     "name": "stdout",
     "output_type": "stream",
     "text": [
      "Epoch: 75 Generator: 2, total loss: 10.198204644024372\n",
      "min category: 3, num: 7612\n",
      "category: 0, origin_len: 32802, new_len: 7571\n",
      "category: 1, origin_len: 10464, new_len: 7534\n",
      "category: 2, origin_len: 8745, new_len: 7643\n",
      "category: 3, origin_len: 7612, new_len: 7612\n",
      "Making batches... batch size: 512,num of batchese: 60\n",
      "Epoch: 76 Generator: 0, total loss: 10.036534570157528\n",
      "min category: 3, num: 7612\n",
      "category: 0, origin_len: 32802, new_len: 7623\n",
      "category: 1, origin_len: 10464, new_len: 7731\n",
      "category: 2, origin_len: 8745, new_len: 7594\n",
      "category: 3, origin_len: 7612, new_len: 7612\n",
      "Making batches... batch size: 512,num of batchese: 60\n",
      "Epoch: 76 Generator: 1, total loss: 10.389538548886776\n",
      "min category: 3, num: 7612\n",
      "category: 0, origin_len: 32802, new_len: 7624\n",
      "category: 1, origin_len: 10464, new_len: 7657\n",
      "category: 2, origin_len: 8745, new_len: 7611\n",
      "category: 3, origin_len: 7612, new_len: 7612\n",
      "Making batches... batch size: 512,num of batchese: 60\n"
     ]
    },
    {
     "name": "stderr",
     "output_type": "stream",
     "text": [
      "\n",
      " 77%|███████▋  | 77/100 [03:45<01:07,  2.93s/it]\u001b[A"
     ]
    },
    {
     "name": "stdout",
     "output_type": "stream",
     "text": [
      "Epoch: 76 Generator: 2, total loss: 9.883618675172329\n",
      "min category: 3, num: 7612\n",
      "category: 0, origin_len: 32802, new_len: 7590\n",
      "category: 1, origin_len: 10464, new_len: 7593\n",
      "category: 2, origin_len: 8745, new_len: 7603\n",
      "category: 3, origin_len: 7612, new_len: 7612\n",
      "Making batches... batch size: 512,num of batchese: 60\n",
      "Epoch: 77 Generator: 0, total loss: 9.69994056224823\n",
      "min category: 3, num: 7612\n",
      "category: 0, origin_len: 32802, new_len: 7744\n",
      "category: 1, origin_len: 10464, new_len: 7599\n",
      "category: 2, origin_len: 8745, new_len: 7614\n",
      "category: 3, origin_len: 7612, new_len: 7612\n",
      "Making batches... batch size: 512,num of batchese: 60\n",
      "Epoch: 77 Generator: 1, total loss: 10.424451097846031\n",
      "min category: 3, num: 7612\n",
      "category: 0, origin_len: 32802, new_len: 7690\n",
      "category: 1, origin_len: 10464, new_len: 7574\n",
      "category: 2, origin_len: 8745, new_len: 7543\n",
      "category: 3, origin_len: 7612, new_len: 7612\n",
      "Making batches... batch size: 512,num of batchese: 60\n"
     ]
    },
    {
     "name": "stderr",
     "output_type": "stream",
     "text": [
      "\n",
      " 78%|███████▊  | 78/100 [03:48<01:04,  2.93s/it]\u001b[A"
     ]
    },
    {
     "name": "stdout",
     "output_type": "stream",
     "text": [
      "Epoch: 77 Generator: 2, total loss: 9.957027979195118\n",
      "min category: 3, num: 7612\n",
      "category: 0, origin_len: 32802, new_len: 7572\n",
      "category: 1, origin_len: 10464, new_len: 7681\n",
      "category: 2, origin_len: 8745, new_len: 7606\n",
      "category: 3, origin_len: 7612, new_len: 7612\n",
      "Making batches... batch size: 512,num of batchese: 60\n",
      "Epoch: 78 Generator: 0, total loss: 9.537077382206917\n",
      "min category: 3, num: 7612\n",
      "category: 0, origin_len: 32802, new_len: 7634\n",
      "category: 1, origin_len: 10464, new_len: 7586\n",
      "category: 2, origin_len: 8745, new_len: 7650\n",
      "category: 3, origin_len: 7612, new_len: 7612\n",
      "Making batches... batch size: 512,num of batchese: 60\n",
      "Epoch: 78 Generator: 1, total loss: 10.026291884481907\n",
      "min category: 3, num: 7612\n",
      "category: 0, origin_len: 32802, new_len: 7538\n",
      "category: 1, origin_len: 10464, new_len: 7581\n",
      "category: 2, origin_len: 8745, new_len: 7650\n",
      "category: 3, origin_len: 7612, new_len: 7612\n",
      "Making batches... batch size: 512,num of batchese: 60\n"
     ]
    },
    {
     "name": "stderr",
     "output_type": "stream",
     "text": [
      "\n",
      " 79%|███████▉  | 79/100 [03:51<01:01,  2.93s/it]\u001b[A"
     ]
    },
    {
     "name": "stdout",
     "output_type": "stream",
     "text": [
      "Epoch: 78 Generator: 2, total loss: 9.851053267717361\n",
      "min category: 3, num: 7612\n",
      "category: 0, origin_len: 32802, new_len: 7734\n",
      "category: 1, origin_len: 10464, new_len: 7614\n",
      "category: 2, origin_len: 8745, new_len: 7678\n",
      "category: 3, origin_len: 7612, new_len: 7612\n",
      "Making batches... batch size: 512,num of batchese: 60\n",
      "Epoch: 79 Generator: 0, total loss: 9.374234676361084\n",
      "min category: 3, num: 7612\n",
      "category: 0, origin_len: 32802, new_len: 7585\n",
      "category: 1, origin_len: 10464, new_len: 7665\n",
      "category: 2, origin_len: 8745, new_len: 7602\n",
      "category: 3, origin_len: 7612, new_len: 7612\n",
      "Making batches... batch size: 512,num of batchese: 60\n",
      "Epoch: 79 Generator: 1, total loss: 9.904742404818535\n",
      "min category: 3, num: 7612\n",
      "category: 0, origin_len: 32802, new_len: 7456\n",
      "category: 1, origin_len: 10464, new_len: 7636\n",
      "category: 2, origin_len: 8745, new_len: 7634\n",
      "category: 3, origin_len: 7612, new_len: 7612\n",
      "Making batches... batch size: 512,num of batchese: 60\n"
     ]
    },
    {
     "name": "stderr",
     "output_type": "stream",
     "text": [
      "\n",
      " 80%|████████  | 80/100 [03:54<00:58,  2.93s/it]\u001b[A"
     ]
    },
    {
     "name": "stdout",
     "output_type": "stream",
     "text": [
      "Epoch: 79 Generator: 2, total loss: 9.574828915297985\n",
      "min category: 3, num: 7612\n",
      "category: 0, origin_len: 32802, new_len: 7470\n",
      "category: 1, origin_len: 10464, new_len: 7669\n",
      "category: 2, origin_len: 8745, new_len: 7717\n",
      "category: 3, origin_len: 7612, new_len: 7612\n",
      "Making batches... batch size: 512,num of batchese: 60\n",
      "Epoch: 80 Generator: 0, total loss: 9.514243707060814\n",
      "min category: 3, num: 7612\n",
      "category: 0, origin_len: 32802, new_len: 7539\n",
      "category: 1, origin_len: 10464, new_len: 7599\n",
      "category: 2, origin_len: 8745, new_len: 7585\n",
      "category: 3, origin_len: 7612, new_len: 7612\n",
      "Making batches... batch size: 512,num of batchese: 60\n",
      "Epoch: 80 Generator: 1, total loss: 9.347788617014885\n",
      "min category: 3, num: 7612\n",
      "category: 0, origin_len: 32802, new_len: 7638\n",
      "category: 1, origin_len: 10464, new_len: 7611\n",
      "category: 2, origin_len: 8745, new_len: 7610\n",
      "category: 3, origin_len: 7612, new_len: 7612\n",
      "Making batches... batch size: 512,num of batchese: 60\n"
     ]
    },
    {
     "name": "stderr",
     "output_type": "stream",
     "text": [
      "\n",
      " 81%|████████  | 81/100 [03:57<00:55,  2.93s/it]\u001b[A"
     ]
    },
    {
     "name": "stdout",
     "output_type": "stream",
     "text": [
      "Epoch: 80 Generator: 2, total loss: 9.641262747347355\n",
      "min category: 3, num: 7612\n",
      "category: 0, origin_len: 32802, new_len: 7690\n",
      "category: 1, origin_len: 10464, new_len: 7640\n",
      "category: 2, origin_len: 8745, new_len: 7546\n",
      "category: 3, origin_len: 7612, new_len: 7612\n",
      "Making batches... batch size: 512,num of batchese: 60\n",
      "Epoch: 81 Generator: 0, total loss: 9.651642560958862\n",
      "min category: 3, num: 7612\n",
      "category: 0, origin_len: 32802, new_len: 7710\n",
      "category: 1, origin_len: 10464, new_len: 7557\n",
      "category: 2, origin_len: 8745, new_len: 7613\n",
      "category: 3, origin_len: 7612, new_len: 7612\n",
      "Making batches... batch size: 512,num of batchese: 60\n",
      "Epoch: 81 Generator: 1, total loss: 9.318290688097477\n",
      "min category: 3, num: 7612\n",
      "category: 0, origin_len: 32802, new_len: 7548\n",
      "category: 1, origin_len: 10464, new_len: 7622\n",
      "category: 2, origin_len: 8745, new_len: 7658\n",
      "category: 3, origin_len: 7612, new_len: 7612\n",
      "Making batches... batch size: 512,num of batchese: 60\n"
     ]
    },
    {
     "name": "stderr",
     "output_type": "stream",
     "text": [
      "\n",
      " 82%|████████▏ | 82/100 [04:00<00:52,  2.93s/it]\u001b[A"
     ]
    },
    {
     "name": "stdout",
     "output_type": "stream",
     "text": [
      "Epoch: 81 Generator: 2, total loss: 9.059796519577503\n",
      "min category: 3, num: 7612\n",
      "category: 0, origin_len: 32802, new_len: 7763\n",
      "category: 1, origin_len: 10464, new_len: 7617\n",
      "category: 2, origin_len: 8745, new_len: 7580\n",
      "category: 3, origin_len: 7612, new_len: 7612\n",
      "Making batches... batch size: 512,num of batchese: 60\n",
      "Epoch: 82 Generator: 0, total loss: 9.307530529797077\n",
      "min category: 3, num: 7612\n",
      "category: 0, origin_len: 32802, new_len: 7820\n",
      "category: 1, origin_len: 10464, new_len: 7707\n",
      "category: 2, origin_len: 8745, new_len: 7590\n",
      "category: 3, origin_len: 7612, new_len: 7612\n",
      "Making batches... batch size: 512,num of batchese: 61\n",
      "Epoch: 82 Generator: 1, total loss: 9.28198330104351\n",
      "min category: 3, num: 7612\n",
      "category: 0, origin_len: 32802, new_len: 7567\n",
      "category: 1, origin_len: 10464, new_len: 7637\n",
      "category: 2, origin_len: 8745, new_len: 7681\n",
      "category: 3, origin_len: 7612, new_len: 7612\n",
      "Making batches... batch size: 512,num of batchese: 60\n"
     ]
    },
    {
     "name": "stderr",
     "output_type": "stream",
     "text": [
      "\n",
      " 83%|████████▎ | 83/100 [04:03<00:49,  2.93s/it]\u001b[A"
     ]
    },
    {
     "name": "stdout",
     "output_type": "stream",
     "text": [
      "Epoch: 82 Generator: 2, total loss: 14.02329009771347\n",
      "min category: 3, num: 7612\n",
      "category: 0, origin_len: 32802, new_len: 7626\n",
      "category: 1, origin_len: 10464, new_len: 7636\n",
      "category: 2, origin_len: 8745, new_len: 7638\n",
      "category: 3, origin_len: 7612, new_len: 7612\n",
      "Making batches... batch size: 512,num of batchese: 60\n",
      "Epoch: 83 Generator: 0, total loss: 9.986412025988102\n",
      "min category: 3, num: 7612\n",
      "category: 0, origin_len: 32802, new_len: 7693\n",
      "category: 1, origin_len: 10464, new_len: 7584\n",
      "category: 2, origin_len: 8745, new_len: 7613\n",
      "category: 3, origin_len: 7612, new_len: 7612\n",
      "Making batches... batch size: 512,num of batchese: 60\n",
      "Epoch: 83 Generator: 1, total loss: 9.522059954702854\n",
      "min category: 3, num: 7612\n",
      "category: 0, origin_len: 32802, new_len: 7678\n",
      "category: 1, origin_len: 10464, new_len: 7545\n",
      "category: 2, origin_len: 8745, new_len: 7592\n",
      "category: 3, origin_len: 7612, new_len: 7612\n",
      "Making batches... batch size: 512,num of batchese: 60\n"
     ]
    },
    {
     "name": "stderr",
     "output_type": "stream",
     "text": [
      "\n",
      " 84%|████████▍ | 84/100 [04:05<00:46,  2.93s/it]\u001b[A"
     ]
    },
    {
     "name": "stdout",
     "output_type": "stream",
     "text": [
      "Epoch: 83 Generator: 2, total loss: 8.762873262166977\n",
      "min category: 3, num: 7612\n",
      "category: 0, origin_len: 32802, new_len: 7575\n",
      "category: 1, origin_len: 10464, new_len: 7629\n",
      "category: 2, origin_len: 8745, new_len: 7679\n",
      "category: 3, origin_len: 7612, new_len: 7612\n",
      "Making batches... batch size: 512,num of batchese: 60\n",
      "Epoch: 84 Generator: 0, total loss: 8.712045386433601\n",
      "min category: 3, num: 7612\n",
      "category: 0, origin_len: 32802, new_len: 7734\n",
      "category: 1, origin_len: 10464, new_len: 7556\n",
      "category: 2, origin_len: 8745, new_len: 7621\n",
      "category: 3, origin_len: 7612, new_len: 7612\n",
      "Making batches... batch size: 512,num of batchese: 60\n",
      "Epoch: 84 Generator: 1, total loss: 9.032638601958752\n",
      "min category: 3, num: 7612\n",
      "category: 0, origin_len: 32802, new_len: 7618\n",
      "category: 1, origin_len: 10464, new_len: 7709\n",
      "category: 2, origin_len: 8745, new_len: 7581\n",
      "category: 3, origin_len: 7612, new_len: 7612\n",
      "Making batches... batch size: 512,num of batchese: 60\n"
     ]
    },
    {
     "name": "stderr",
     "output_type": "stream",
     "text": [
      "\n",
      " 85%|████████▌ | 85/100 [04:08<00:43,  2.93s/it]\u001b[A"
     ]
    },
    {
     "name": "stdout",
     "output_type": "stream",
     "text": [
      "Epoch: 84 Generator: 2, total loss: 8.689445659518242\n",
      "min category: 3, num: 7612\n",
      "category: 0, origin_len: 32802, new_len: 7721\n",
      "category: 1, origin_len: 10464, new_len: 7665\n",
      "category: 2, origin_len: 8745, new_len: 7605\n",
      "category: 3, origin_len: 7612, new_len: 7612\n",
      "Making batches... batch size: 512,num of batchese: 60\n",
      "Epoch: 85 Generator: 0, total loss: 9.182095788419247\n",
      "min category: 3, num: 7612\n",
      "category: 0, origin_len: 32802, new_len: 7638\n",
      "category: 1, origin_len: 10464, new_len: 7606\n",
      "category: 2, origin_len: 8745, new_len: 7629\n",
      "category: 3, origin_len: 7612, new_len: 7612\n",
      "Making batches... batch size: 512,num of batchese: 60\n",
      "Epoch: 85 Generator: 1, total loss: 8.838345661759377\n",
      "min category: 3, num: 7612\n",
      "category: 0, origin_len: 32802, new_len: 7697\n",
      "category: 1, origin_len: 10464, new_len: 7647\n",
      "category: 2, origin_len: 8745, new_len: 7637\n",
      "category: 3, origin_len: 7612, new_len: 7612\n",
      "Making batches... batch size: 512,num of batchese: 60\n"
     ]
    },
    {
     "name": "stderr",
     "output_type": "stream",
     "text": [
      "\n",
      " 86%|████████▌ | 86/100 [04:11<00:41,  2.93s/it]\u001b[A"
     ]
    },
    {
     "name": "stdout",
     "output_type": "stream",
     "text": [
      "Epoch: 85 Generator: 2, total loss: 8.930649913847446\n",
      "min category: 3, num: 7612\n",
      "category: 0, origin_len: 32802, new_len: 7610\n",
      "category: 1, origin_len: 10464, new_len: 7538\n",
      "category: 2, origin_len: 8745, new_len: 7624\n",
      "category: 3, origin_len: 7612, new_len: 7612\n",
      "Making batches... batch size: 512,num of batchese: 60\n",
      "Epoch: 86 Generator: 0, total loss: 8.838605530560017\n",
      "min category: 3, num: 7612\n",
      "category: 0, origin_len: 32802, new_len: 7669\n",
      "category: 1, origin_len: 10464, new_len: 7680\n",
      "category: 2, origin_len: 8745, new_len: 7612\n",
      "category: 3, origin_len: 7612, new_len: 7612\n",
      "Making batches... batch size: 512,num of batchese: 60\n",
      "Epoch: 86 Generator: 1, total loss: 8.420994713902473\n",
      "min category: 3, num: 7612\n",
      "category: 0, origin_len: 32802, new_len: 7546\n",
      "category: 1, origin_len: 10464, new_len: 7634\n",
      "category: 2, origin_len: 8745, new_len: 7595\n",
      "category: 3, origin_len: 7612, new_len: 7612\n",
      "Making batches... batch size: 512,num of batchese: 60\n"
     ]
    },
    {
     "name": "stderr",
     "output_type": "stream",
     "text": [
      "\n",
      " 87%|████████▋ | 87/100 [04:14<00:38,  2.93s/it]\u001b[A"
     ]
    },
    {
     "name": "stdout",
     "output_type": "stream",
     "text": [
      "Epoch: 86 Generator: 2, total loss: 8.441651158034801\n",
      "min category: 3, num: 7612\n",
      "category: 0, origin_len: 32802, new_len: 7704\n",
      "category: 1, origin_len: 10464, new_len: 7609\n",
      "category: 2, origin_len: 8745, new_len: 7564\n",
      "category: 3, origin_len: 7612, new_len: 7612\n",
      "Making batches... batch size: 512,num of batchese: 60\n",
      "Epoch: 87 Generator: 0, total loss: 8.210397876799107\n",
      "min category: 3, num: 7612\n",
      "category: 0, origin_len: 32802, new_len: 7552\n",
      "category: 1, origin_len: 10464, new_len: 7547\n",
      "category: 2, origin_len: 8745, new_len: 7530\n",
      "category: 3, origin_len: 7612, new_len: 7612\n",
      "Making batches... batch size: 512,num of batchese: 60\n",
      "Epoch: 87 Generator: 1, total loss: 8.084013499319553\n",
      "min category: 3, num: 7612\n",
      "category: 0, origin_len: 32802, new_len: 7662\n",
      "category: 1, origin_len: 10464, new_len: 7627\n",
      "category: 2, origin_len: 8745, new_len: 7595\n",
      "category: 3, origin_len: 7612, new_len: 7612\n",
      "Making batches... batch size: 512,num of batchese: 60\n"
     ]
    },
    {
     "name": "stderr",
     "output_type": "stream",
     "text": [
      "\n",
      " 88%|████████▊ | 88/100 [04:17<00:35,  2.93s/it]\u001b[A"
     ]
    },
    {
     "name": "stdout",
     "output_type": "stream",
     "text": [
      "Epoch: 87 Generator: 2, total loss: 8.358298152685165\n",
      "min category: 3, num: 7612\n",
      "category: 0, origin_len: 32802, new_len: 7584\n",
      "category: 1, origin_len: 10464, new_len: 7602\n",
      "category: 2, origin_len: 8745, new_len: 7619\n",
      "category: 3, origin_len: 7612, new_len: 7612\n",
      "Making batches... batch size: 512,num of batchese: 60\n",
      "Epoch: 88 Generator: 0, total loss: 9.080711141228676\n",
      "min category: 3, num: 7612\n",
      "category: 0, origin_len: 32802, new_len: 7618\n",
      "category: 1, origin_len: 10464, new_len: 7637\n",
      "category: 2, origin_len: 8745, new_len: 7569\n",
      "category: 3, origin_len: 7612, new_len: 7612\n",
      "Making batches... batch size: 512,num of batchese: 60\n",
      "Epoch: 88 Generator: 1, total loss: 10.080172263085842\n",
      "min category: 3, num: 7612\n",
      "category: 0, origin_len: 32802, new_len: 7587\n",
      "category: 1, origin_len: 10464, new_len: 7610\n",
      "category: 2, origin_len: 8745, new_len: 7623\n",
      "category: 3, origin_len: 7612, new_len: 7612\n",
      "Making batches... batch size: 512,num of batchese: 60\n"
     ]
    },
    {
     "name": "stderr",
     "output_type": "stream",
     "text": [
      "\n",
      " 89%|████████▉ | 89/100 [04:20<00:32,  2.93s/it]\u001b[A"
     ]
    },
    {
     "name": "stdout",
     "output_type": "stream",
     "text": [
      "Epoch: 88 Generator: 2, total loss: 8.912912584841251\n",
      "min category: 3, num: 7612\n",
      "category: 0, origin_len: 32802, new_len: 7529\n",
      "category: 1, origin_len: 10464, new_len: 7630\n",
      "category: 2, origin_len: 8745, new_len: 7624\n",
      "category: 3, origin_len: 7612, new_len: 7612\n",
      "Making batches... batch size: 512,num of batchese: 60\n",
      "Epoch: 89 Generator: 0, total loss: 8.299845069646835\n",
      "min category: 3, num: 7612\n",
      "category: 0, origin_len: 32802, new_len: 7739\n",
      "category: 1, origin_len: 10464, new_len: 7631\n",
      "category: 2, origin_len: 8745, new_len: 7677\n",
      "category: 3, origin_len: 7612, new_len: 7612\n",
      "Making batches... batch size: 512,num of batchese: 60\n",
      "Epoch: 89 Generator: 1, total loss: 7.980034984648228\n",
      "min category: 3, num: 7612\n",
      "category: 0, origin_len: 32802, new_len: 7741\n",
      "category: 1, origin_len: 10464, new_len: 7623\n",
      "category: 2, origin_len: 8745, new_len: 7645\n",
      "category: 3, origin_len: 7612, new_len: 7612\n",
      "Making batches... batch size: 512,num of batchese: 60\n"
     ]
    },
    {
     "name": "stderr",
     "output_type": "stream",
     "text": [
      "\n",
      " 90%|█████████ | 90/100 [04:23<00:29,  2.93s/it]\u001b[A"
     ]
    },
    {
     "name": "stdout",
     "output_type": "stream",
     "text": [
      "Epoch: 89 Generator: 2, total loss: 8.010426551103592\n",
      "min category: 3, num: 7612\n",
      "category: 0, origin_len: 32802, new_len: 7716\n",
      "category: 1, origin_len: 10464, new_len: 7700\n",
      "category: 2, origin_len: 8745, new_len: 7554\n",
      "category: 3, origin_len: 7612, new_len: 7612\n",
      "Making batches... batch size: 512,num of batchese: 60\n",
      "Epoch: 90 Generator: 0, total loss: 7.828952915966511\n",
      "min category: 3, num: 7612\n",
      "category: 0, origin_len: 32802, new_len: 7462\n",
      "category: 1, origin_len: 10464, new_len: 7597\n",
      "category: 2, origin_len: 8745, new_len: 7573\n",
      "category: 3, origin_len: 7612, new_len: 7612\n",
      "Making batches... batch size: 512,num of batchese: 60\n",
      "Epoch: 90 Generator: 1, total loss: 8.448472410440445\n",
      "min category: 3, num: 7612\n",
      "category: 0, origin_len: 32802, new_len: 7617\n",
      "category: 1, origin_len: 10464, new_len: 7656\n",
      "category: 2, origin_len: 8745, new_len: 7646\n",
      "category: 3, origin_len: 7612, new_len: 7612\n",
      "Making batches... batch size: 512,num of batchese: 60\n"
     ]
    },
    {
     "name": "stderr",
     "output_type": "stream",
     "text": [
      "\n",
      " 91%|█████████ | 91/100 [04:26<00:26,  2.93s/it]\u001b[A"
     ]
    },
    {
     "name": "stdout",
     "output_type": "stream",
     "text": [
      "Epoch: 90 Generator: 2, total loss: 8.537571124732494\n",
      "min category: 3, num: 7612\n",
      "category: 0, origin_len: 32802, new_len: 7685\n",
      "category: 1, origin_len: 10464, new_len: 7607\n",
      "category: 2, origin_len: 8745, new_len: 7612\n",
      "category: 3, origin_len: 7612, new_len: 7612\n",
      "Making batches... batch size: 512,num of batchese: 60\n",
      "Epoch: 91 Generator: 0, total loss: 7.757307164371014\n",
      "min category: 3, num: 7612\n",
      "category: 0, origin_len: 32802, new_len: 7616\n",
      "category: 1, origin_len: 10464, new_len: 7637\n",
      "category: 2, origin_len: 8745, new_len: 7686\n",
      "category: 3, origin_len: 7612, new_len: 7612\n",
      "Making batches... batch size: 512,num of batchese: 60\n",
      "Epoch: 91 Generator: 1, total loss: 7.838813364505768\n",
      "min category: 3, num: 7612\n",
      "category: 0, origin_len: 32802, new_len: 7594\n",
      "category: 1, origin_len: 10464, new_len: 7635\n",
      "category: 2, origin_len: 8745, new_len: 7570\n",
      "category: 3, origin_len: 7612, new_len: 7612\n",
      "Making batches... batch size: 512,num of batchese: 60\n"
     ]
    },
    {
     "name": "stderr",
     "output_type": "stream",
     "text": [
      "\n",
      " 92%|█████████▏| 92/100 [04:29<00:23,  2.93s/it]\u001b[A"
     ]
    },
    {
     "name": "stdout",
     "output_type": "stream",
     "text": [
      "Epoch: 91 Generator: 2, total loss: 7.818550914525986\n",
      "min category: 3, num: 7612\n",
      "category: 0, origin_len: 32802, new_len: 7576\n",
      "category: 1, origin_len: 10464, new_len: 7657\n",
      "category: 2, origin_len: 8745, new_len: 7671\n",
      "category: 3, origin_len: 7612, new_len: 7612\n",
      "Making batches... batch size: 512,num of batchese: 60\n",
      "Epoch: 92 Generator: 0, total loss: 8.04900947958231\n",
      "min category: 3, num: 7612\n",
      "category: 0, origin_len: 32802, new_len: 7665\n",
      "category: 1, origin_len: 10464, new_len: 7612\n",
      "category: 2, origin_len: 8745, new_len: 7624\n",
      "category: 3, origin_len: 7612, new_len: 7612\n",
      "Making batches... batch size: 512,num of batchese: 60\n",
      "Epoch: 92 Generator: 1, total loss: 8.01284296065569\n",
      "min category: 3, num: 7612\n",
      "category: 0, origin_len: 32802, new_len: 7497\n",
      "category: 1, origin_len: 10464, new_len: 7634\n",
      "category: 2, origin_len: 8745, new_len: 7617\n",
      "category: 3, origin_len: 7612, new_len: 7612\n",
      "Making batches... batch size: 512,num of batchese: 60\n"
     ]
    },
    {
     "name": "stderr",
     "output_type": "stream",
     "text": [
      "\n",
      " 93%|█████████▎| 93/100 [04:32<00:20,  2.93s/it]\u001b[A"
     ]
    },
    {
     "name": "stdout",
     "output_type": "stream",
     "text": [
      "Epoch: 92 Generator: 2, total loss: 7.955309875309467\n",
      "min category: 3, num: 7612\n",
      "category: 0, origin_len: 32802, new_len: 7610\n",
      "category: 1, origin_len: 10464, new_len: 7551\n",
      "category: 2, origin_len: 8745, new_len: 7600\n",
      "category: 3, origin_len: 7612, new_len: 7612\n",
      "Making batches... batch size: 512,num of batchese: 60\n",
      "Epoch: 93 Generator: 0, total loss: 9.146986313164234\n",
      "min category: 3, num: 7612\n",
      "category: 0, origin_len: 32802, new_len: 7604\n",
      "category: 1, origin_len: 10464, new_len: 7689\n",
      "category: 2, origin_len: 8745, new_len: 7618\n",
      "category: 3, origin_len: 7612, new_len: 7612\n",
      "Making batches... batch size: 512,num of batchese: 60\n",
      "Epoch: 93 Generator: 1, total loss: 8.426653169095516\n",
      "min category: 3, num: 7612\n",
      "category: 0, origin_len: 32802, new_len: 7636\n",
      "category: 1, origin_len: 10464, new_len: 7580\n",
      "category: 2, origin_len: 8745, new_len: 7566\n",
      "category: 3, origin_len: 7612, new_len: 7612\n",
      "Making batches... batch size: 512,num of batchese: 60\n"
     ]
    },
    {
     "name": "stderr",
     "output_type": "stream",
     "text": [
      "\n",
      " 94%|█████████▍| 94/100 [04:35<00:17,  2.93s/it]\u001b[A"
     ]
    },
    {
     "name": "stdout",
     "output_type": "stream",
     "text": [
      "Epoch: 93 Generator: 2, total loss: 8.320375420153141\n",
      "min category: 3, num: 7612\n",
      "category: 0, origin_len: 32802, new_len: 7506\n",
      "category: 1, origin_len: 10464, new_len: 7543\n",
      "category: 2, origin_len: 8745, new_len: 7599\n",
      "category: 3, origin_len: 7612, new_len: 7612\n",
      "Making batches... batch size: 512,num of batchese: 60\n",
      "Epoch: 94 Generator: 0, total loss: 8.772132448852062\n",
      "min category: 3, num: 7612\n",
      "category: 0, origin_len: 32802, new_len: 7717\n",
      "category: 1, origin_len: 10464, new_len: 7580\n",
      "category: 2, origin_len: 8745, new_len: 7602\n",
      "category: 3, origin_len: 7612, new_len: 7612\n",
      "Making batches... batch size: 512,num of batchese: 60\n",
      "Epoch: 94 Generator: 1, total loss: 8.43189001083374\n",
      "min category: 3, num: 7612\n",
      "category: 0, origin_len: 32802, new_len: 7743\n",
      "category: 1, origin_len: 10464, new_len: 7607\n",
      "category: 2, origin_len: 8745, new_len: 7570\n",
      "category: 3, origin_len: 7612, new_len: 7612\n",
      "Making batches... batch size: 512,num of batchese: 60\n"
     ]
    },
    {
     "name": "stderr",
     "output_type": "stream",
     "text": [
      "\n",
      " 95%|█████████▌| 95/100 [04:38<00:14,  2.93s/it]\u001b[A"
     ]
    },
    {
     "name": "stdout",
     "output_type": "stream",
     "text": [
      "Epoch: 94 Generator: 2, total loss: 8.020062908530235\n",
      "min category: 3, num: 7612\n",
      "category: 0, origin_len: 32802, new_len: 7735\n",
      "category: 1, origin_len: 10464, new_len: 7485\n",
      "category: 2, origin_len: 8745, new_len: 7654\n",
      "category: 3, origin_len: 7612, new_len: 7612\n",
      "Making batches... batch size: 512,num of batchese: 60\n",
      "Epoch: 95 Generator: 0, total loss: 7.250612765550613\n",
      "min category: 3, num: 7612\n",
      "category: 0, origin_len: 32802, new_len: 7672\n",
      "category: 1, origin_len: 10464, new_len: 7560\n",
      "category: 2, origin_len: 8745, new_len: 7579\n",
      "category: 3, origin_len: 7612, new_len: 7612\n",
      "Making batches... batch size: 512,num of batchese: 60\n",
      "Epoch: 95 Generator: 1, total loss: 7.415256842970848\n",
      "min category: 3, num: 7612\n",
      "category: 0, origin_len: 32802, new_len: 7672\n",
      "category: 1, origin_len: 10464, new_len: 7650\n",
      "category: 2, origin_len: 8745, new_len: 7638\n",
      "category: 3, origin_len: 7612, new_len: 7612\n",
      "Making batches... batch size: 512,num of batchese: 60\n"
     ]
    },
    {
     "name": "stderr",
     "output_type": "stream",
     "text": [
      "\n",
      " 96%|█████████▌| 96/100 [04:41<00:11,  2.93s/it]\u001b[A"
     ]
    },
    {
     "name": "stdout",
     "output_type": "stream",
     "text": [
      "Epoch: 95 Generator: 2, total loss: 7.618558764457703\n",
      "min category: 3, num: 7612\n",
      "category: 0, origin_len: 32802, new_len: 7541\n",
      "category: 1, origin_len: 10464, new_len: 7615\n",
      "category: 2, origin_len: 8745, new_len: 7656\n",
      "category: 3, origin_len: 7612, new_len: 7612\n",
      "Making batches... batch size: 512,num of batchese: 60\n",
      "Epoch: 96 Generator: 0, total loss: 7.753758177161217\n",
      "min category: 3, num: 7612\n",
      "category: 0, origin_len: 32802, new_len: 7513\n",
      "category: 1, origin_len: 10464, new_len: 7579\n",
      "category: 2, origin_len: 8745, new_len: 7665\n",
      "category: 3, origin_len: 7612, new_len: 7612\n",
      "Making batches... batch size: 512,num of batchese: 60\n",
      "Epoch: 96 Generator: 1, total loss: 8.50784557312727\n",
      "min category: 3, num: 7612\n",
      "category: 0, origin_len: 32802, new_len: 7515\n",
      "category: 1, origin_len: 10464, new_len: 7570\n",
      "category: 2, origin_len: 8745, new_len: 7601\n",
      "category: 3, origin_len: 7612, new_len: 7612\n",
      "Making batches... batch size: 512,num of batchese: 60\n"
     ]
    },
    {
     "name": "stderr",
     "output_type": "stream",
     "text": [
      "\n",
      " 97%|█████████▋| 97/100 [04:44<00:08,  2.93s/it]\u001b[A"
     ]
    },
    {
     "name": "stdout",
     "output_type": "stream",
     "text": [
      "Epoch: 96 Generator: 2, total loss: 8.520309522747993\n",
      "min category: 3, num: 7612\n",
      "category: 0, origin_len: 32802, new_len: 7678\n",
      "category: 1, origin_len: 10464, new_len: 7643\n",
      "category: 2, origin_len: 8745, new_len: 7580\n",
      "category: 3, origin_len: 7612, new_len: 7612\n",
      "Making batches... batch size: 512,num of batchese: 60\n",
      "Epoch: 97 Generator: 0, total loss: 7.784209102392197\n",
      "min category: 3, num: 7612\n",
      "category: 0, origin_len: 32802, new_len: 7453\n",
      "category: 1, origin_len: 10464, new_len: 7557\n",
      "category: 2, origin_len: 8745, new_len: 7669\n",
      "category: 3, origin_len: 7612, new_len: 7612\n",
      "Making batches... batch size: 512,num of batchese: 60\n",
      "Epoch: 97 Generator: 1, total loss: 7.344971716403961\n",
      "min category: 3, num: 7612\n",
      "category: 0, origin_len: 32802, new_len: 7572\n",
      "category: 1, origin_len: 10464, new_len: 7678\n",
      "category: 2, origin_len: 8745, new_len: 7612\n",
      "category: 3, origin_len: 7612, new_len: 7612\n",
      "Making batches... batch size: 512,num of batchese: 60\n"
     ]
    },
    {
     "name": "stderr",
     "output_type": "stream",
     "text": [
      "\n",
      " 98%|█████████▊| 98/100 [04:47<00:05,  2.93s/it]\u001b[A"
     ]
    },
    {
     "name": "stdout",
     "output_type": "stream",
     "text": [
      "Epoch: 97 Generator: 2, total loss: 7.968517184257507\n",
      "min category: 3, num: 7612\n",
      "category: 0, origin_len: 32802, new_len: 7513\n",
      "category: 1, origin_len: 10464, new_len: 7611\n",
      "category: 2, origin_len: 8745, new_len: 7609\n",
      "category: 3, origin_len: 7612, new_len: 7612\n",
      "Making batches... batch size: 512,num of batchese: 60\n",
      "Epoch: 98 Generator: 0, total loss: 7.644534587860107\n",
      "min category: 3, num: 7612\n",
      "category: 0, origin_len: 32802, new_len: 7738\n",
      "category: 1, origin_len: 10464, new_len: 7696\n",
      "category: 2, origin_len: 8745, new_len: 7600\n",
      "category: 3, origin_len: 7612, new_len: 7612\n",
      "Making batches... batch size: 512,num of batchese: 60\n",
      "Epoch: 98 Generator: 1, total loss: 7.352965623140335\n",
      "min category: 3, num: 7612\n",
      "category: 0, origin_len: 32802, new_len: 7690\n",
      "category: 1, origin_len: 10464, new_len: 7585\n",
      "category: 2, origin_len: 8745, new_len: 7659\n",
      "category: 3, origin_len: 7612, new_len: 7612\n",
      "Making batches... batch size: 512,num of batchese: 60\n"
     ]
    },
    {
     "name": "stderr",
     "output_type": "stream",
     "text": [
      "\n",
      " 99%|█████████▉| 99/100 [04:50<00:02,  2.93s/it]\u001b[A"
     ]
    },
    {
     "name": "stdout",
     "output_type": "stream",
     "text": [
      "Epoch: 98 Generator: 2, total loss: 6.829152248799801\n",
      "min category: 3, num: 7612\n",
      "category: 0, origin_len: 32802, new_len: 7530\n",
      "category: 1, origin_len: 10464, new_len: 7616\n",
      "category: 2, origin_len: 8745, new_len: 7608\n",
      "category: 3, origin_len: 7612, new_len: 7612\n",
      "Making batches... batch size: 512,num of batchese: 60\n",
      "Epoch: 99 Generator: 0, total loss: 7.193499252200127\n",
      "min category: 3, num: 7612\n",
      "category: 0, origin_len: 32802, new_len: 7576\n",
      "category: 1, origin_len: 10464, new_len: 7554\n",
      "category: 2, origin_len: 8745, new_len: 7640\n",
      "category: 3, origin_len: 7612, new_len: 7612\n",
      "Making batches... batch size: 512,num of batchese: 60\n",
      "Epoch: 99 Generator: 1, total loss: 6.837481454014778\n",
      "min category: 3, num: 7612\n",
      "category: 0, origin_len: 32802, new_len: 7594\n",
      "category: 1, origin_len: 10464, new_len: 7584\n",
      "category: 2, origin_len: 8745, new_len: 7543\n",
      "category: 3, origin_len: 7612, new_len: 7612\n",
      "Making batches... batch size: 512,num of batchese: 60\n"
     ]
    },
    {
     "name": "stderr",
     "output_type": "stream",
     "text": [
      "\n",
      "100%|██████████| 100/100 [04:53<00:00,  2.93s/it]\u001b[A\n",
      "\u001b[A"
     ]
    },
    {
     "name": "stdout",
     "output_type": "stream",
     "text": [
      "Epoch: 99 Generator: 2, total loss: 7.630185157060623\n",
      "Saving model to /data/gpf/gpf_dl/tests/tmp_torch_model.torch\n"
     ]
    }
   ],
   "source": [
    "core.fit(m, X,y, 100, opt, loss_fn)"
   ]
  },
  {
   "cell_type": "code",
   "execution_count": null,
   "metadata": {},
   "outputs": [],
   "source": []
  }
 ],
 "metadata": {
  "kernelspec": {
   "display_name": "Python 3",
   "language": "python",
   "name": "python3"
  },
  "language_info": {
   "codemirror_mode": {
    "name": "ipython",
    "version": 3
   },
   "file_extension": ".py",
   "mimetype": "text/x-python",
   "name": "python",
   "nbconvert_exporter": "python",
   "pygments_lexer": "ipython3",
   "version": "3.6.5"
  }
 },
 "nbformat": 4,
 "nbformat_minor": 2
}
