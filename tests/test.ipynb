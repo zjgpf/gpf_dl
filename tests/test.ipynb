{
 "cells": [
  {
   "cell_type": "code",
   "execution_count": 1,
   "metadata": {},
   "outputs": [],
   "source": [
    "import pandas as pd\n",
    "import os\n",
    "import sys\n",
    "sys.path.append(os.path.pardir)\n",
    "import core,model\n",
    "import torch.optim as optim\n",
    "import torch.nn.functional as F"
   ]
  },
  {
   "cell_type": "code",
   "execution_count": 2,
   "metadata": {},
   "outputs": [
    {
     "data": {
      "text/html": [
       "<div>\n",
       "<style scoped>\n",
       "    .dataframe tbody tr th:only-of-type {\n",
       "        vertical-align: middle;\n",
       "    }\n",
       "\n",
       "    .dataframe tbody tr th {\n",
       "        vertical-align: top;\n",
       "    }\n",
       "\n",
       "    .dataframe thead th {\n",
       "        text-align: right;\n",
       "    }\n",
       "</style>\n",
       "<table border=\"1\" class=\"dataframe\">\n",
       "  <thead>\n",
       "    <tr style=\"text-align: right;\">\n",
       "      <th></th>\n",
       "      <th>item</th>\n",
       "      <th>ledger</th>\n",
       "      <th>payer</th>\n",
       "      <th>resource_id</th>\n",
       "      <th>y1</th>\n",
       "      <th>x</th>\n",
       "    </tr>\n",
       "  </thead>\n",
       "  <tbody>\n",
       "    <tr>\n",
       "      <th>0</th>\n",
       "      <td>收派服务费</td>\n",
       "      <td>管理费用 - 差旅费</td>\n",
       "      <td>楚信环保科技（上海）有限公司</td>\n",
       "      <td>5a3093b2b875b6a3080a9a84</td>\n",
       "      <td>差旅费</td>\n",
       "      <td>[3581, 70, 7, 10, 6, 11, 4, 3, 138, 16]</td>\n",
       "    </tr>\n",
       "    <tr>\n",
       "      <th>1</th>\n",
       "      <td>*企业管理服务*公摊电费</td>\n",
       "      <td>管理费用 - 办公费</td>\n",
       "      <td>厦门市凯尔奇科技有限公司</td>\n",
       "      <td>5a9e054e0a6caace0636cd10</td>\n",
       "      <td>办公费</td>\n",
       "      <td>[212, 2839, 2402, 7, 4, 3, 2, 54, 30, 5, 2, 78...</td>\n",
       "    </tr>\n",
       "    <tr>\n",
       "      <th>2</th>\n",
       "      <td>*餐饮服务*会务费</td>\n",
       "      <td>管理费用 - 差旅费</td>\n",
       "      <td>南宁市葆德节能科技有限公司</td>\n",
       "      <td>5b83682c75de769f2217cfe2</td>\n",
       "      <td>差旅费</td>\n",
       "      <td>[17, 1591, 475, 328, 7, 4, 3, 2, 8, 5, 2, 894]</td>\n",
       "    </tr>\n",
       "    <tr>\n",
       "      <th>3</th>\n",
       "      <td>*乳制品*蓝臻婴儿配方奶粉1段</td>\n",
       "      <td>管理费用 - 办公费</td>\n",
       "      <td>上海缘曌实业有限公司</td>\n",
       "      <td>5aa1e88fd25fc0b6761b7db2</td>\n",
       "      <td>办公费</td>\n",
       "      <td>[6, 361, 50, 4, 3, 2, 116, 2, 1, 574, 1201, 94...</td>\n",
       "    </tr>\n",
       "    <tr>\n",
       "      <th>4</th>\n",
       "      <td>*焙烤食品*I意W巧碎可可曲奇</td>\n",
       "      <td>管理费用 - 办公费</td>\n",
       "      <td>福州市大正文化发展有限公司</td>\n",
       "      <td>5a9de633d1a45fc706caba1f</td>\n",
       "      <td>办公费</td>\n",
       "      <td>[654, 145, 589, 26, 42, 4, 3, 2, 56, 18, 2, 16...</td>\n",
       "    </tr>\n",
       "  </tbody>\n",
       "</table>\n",
       "</div>"
      ],
      "text/plain": [
       "              item      ledger           payer               resource_id   y1  \\\n",
       "0            收派服务费  管理费用 - 差旅费  楚信环保科技（上海）有限公司  5a3093b2b875b6a3080a9a84  差旅费   \n",
       "1     *企业管理服务*公摊电费  管理费用 - 办公费    厦门市凯尔奇科技有限公司  5a9e054e0a6caace0636cd10  办公费   \n",
       "2        *餐饮服务*会务费  管理费用 - 差旅费   南宁市葆德节能科技有限公司  5b83682c75de769f2217cfe2  差旅费   \n",
       "3  *乳制品*蓝臻婴儿配方奶粉1段  管理费用 - 办公费      上海缘曌实业有限公司  5aa1e88fd25fc0b6761b7db2  办公费   \n",
       "4  *焙烤食品*I意W巧碎可可曲奇  管理费用 - 办公费   福州市大正文化发展有限公司  5a9de633d1a45fc706caba1f  办公费   \n",
       "\n",
       "                                                   x  \n",
       "0            [3581, 70, 7, 10, 6, 11, 4, 3, 138, 16]  \n",
       "1  [212, 2839, 2402, 7, 4, 3, 2, 54, 30, 5, 2, 78...  \n",
       "2     [17, 1591, 475, 328, 7, 4, 3, 2, 8, 5, 2, 894]  \n",
       "3  [6, 361, 50, 4, 3, 2, 116, 2, 1, 574, 1201, 94...  \n",
       "4  [654, 145, 589, 26, 42, 4, 3, 2, 56, 18, 2, 16...  "
      ]
     },
     "execution_count": 2,
     "metadata": {},
     "output_type": "execute_result"
    }
   ],
   "source": [
    "df = pd.read_csv('dataset_test.csv')\n",
    "df.head()"
   ]
  },
  {
   "cell_type": "code",
   "execution_count": 3,
   "metadata": {},
   "outputs": [
    {
     "data": {
      "text/plain": [
       "8736"
      ]
     },
     "execution_count": 3,
     "metadata": {},
     "output_type": "execute_result"
    }
   ],
   "source": [
    "word_index, index_word = core.get_word_index('word_dict.pickle')\n",
    "len(word_index)"
   ]
  },
  {
   "cell_type": "code",
   "execution_count": 4,
   "metadata": {},
   "outputs": [
    {
     "data": {
      "text/plain": [
       "SimpleGRU(\n",
       "  (emb): Embedding(8736, 7)\n",
       "  (gru): GRU(7, 128)\n",
       "  (out): Linear(in_features=128, out_features=4, bias=True)\n",
       ")"
      ]
     },
     "execution_count": 4,
     "metadata": {},
     "output_type": "execute_result"
    }
   ],
   "source": [
    "vocal_size = len(word_index)\n",
    "embedding_dim = 7\n",
    "n_hidden = 128\n",
    "n_out = 4\n",
    "\n",
    "m = model.SimpleGRU(vocal_size,embedding_dim,n_hidden,n_out)\n",
    "m"
   ]
  },
  {
   "cell_type": "code",
   "execution_count": 5,
   "metadata": {},
   "outputs": [],
   "source": [
    "label_index = {'办公费':0,'业务招待费':1,'福利费':2,'差旅费':3}\n",
    "X = df.x.apply(core.str2arr)\n",
    "y = core.index_labels(df.y1,label_index)\n",
    "data = core.make_batches_ud(X,y)"
   ]
  },
  {
   "cell_type": "code",
   "execution_count": 6,
   "metadata": {},
   "outputs": [
    {
     "data": {
      "text/plain": [
       "True"
      ]
     },
     "execution_count": 6,
     "metadata": {},
     "output_type": "execute_result"
    }
   ],
   "source": [
    "iter(data) is iter(data)"
   ]
  },
  {
   "cell_type": "code",
   "execution_count": 8,
   "metadata": {},
   "outputs": [],
   "source": [
    "opt = optim.SGD(m.parameters(), lr=0.3, momentum=0.5)\n",
    "loss_fn = F.nll_loss"
   ]
  },
  {
   "cell_type": "code",
   "execution_count": null,
   "metadata": {},
   "outputs": [],
   "source": [
    "core.fit(model, data, opt, loss_fn)"
   ]
  }
 ],
 "metadata": {
  "kernelspec": {
   "display_name": "Python 3",
   "language": "python",
   "name": "python3"
  },
  "language_info": {
   "codemirror_mode": {
    "name": "ipython",
    "version": 3
   },
   "file_extension": ".py",
   "mimetype": "text/x-python",
   "name": "python",
   "nbconvert_exporter": "python",
   "pygments_lexer": "ipython3",
   "version": "3.6.5"
  }
 },
 "nbformat": 4,
 "nbformat_minor": 2
}
