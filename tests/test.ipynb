{
 "cells": [
  {
   "cell_type": "code",
   "execution_count": 6,
   "metadata": {},
   "outputs": [],
   "source": [
    "import pandas as pd\n",
    "import os\n",
    "import sys\n",
    "sys.path.append(os.path.pardir)\n",
    "import core,model\n",
    "import torch.optim as optim\n",
    "import torch.nn.functional as F\n",
    "import torch\n",
    "import numpy as np"
   ]
  },
  {
   "cell_type": "code",
   "execution_count": 2,
   "metadata": {},
   "outputs": [],
   "source": [
    "df_train = pd.read_csv('dataset_train.csv')\n",
    "df_test = pd.read_csv('dataset_test.csv')\n",
    "label_index = {'办公费':0,'业务招待费':1,'福利费':2,'差旅费':3}\n",
    "index_label = {v:k for k,v in label_index.items()}"
   ]
  },
  {
   "cell_type": "code",
   "execution_count": 3,
   "metadata": {},
   "outputs": [
    {
     "data": {
      "text/plain": [
       "8736"
      ]
     },
     "execution_count": 3,
     "metadata": {},
     "output_type": "execute_result"
    }
   ],
   "source": [
    "word_index, index_word = core.get_word_index('word_dict.pickle')\n",
    "len(word_index)"
   ]
  },
  {
   "cell_type": "code",
   "execution_count": 36,
   "metadata": {},
   "outputs": [
    {
     "name": "stdout",
     "output_type": "stream",
     "text": [
      "loading model from /data/gpf/gpf_dl/tests/mc_979.torch\n"
     ]
    }
   ],
   "source": [
    "vocal_size = len(word_index)\n",
    "embedding_dim = 7\n",
    "n_hidden = 128\n",
    "n_out = 4\n",
    "\n",
    "m = core.load_model('mc_979.torch').to(torch.device('cuda:0'))"
   ]
  },
  {
   "cell_type": "code",
   "execution_count": 31,
   "metadata": {},
   "outputs": [],
   "source": [
    "X = df_train.x.apply(core.str2arr)\n",
    "y = core.index_labels(df_train.y1,label_index)"
   ]
  },
  {
   "cell_type": "code",
   "execution_count": 32,
   "metadata": {},
   "outputs": [],
   "source": [
    "opt = optim.SGD(m.parameters(), lr=0.01, momentum=0.9)\n",
    "loss_fn = F.nll_loss"
   ]
  },
  {
   "cell_type": "code",
   "execution_count": 33,
   "metadata": {},
   "outputs": [
    {
     "name": "stderr",
     "output_type": "stream",
     "text": [
      "\r",
      "  0%|          | 0/10 [00:00<?, ?it/s]"
     ]
    },
    {
     "name": "stdout",
     "output_type": "stream",
     "text": [
      "model is been trained on cuda:0\n",
      "min category: 3, num: 7612\n",
      "category: 0, origin_len: 32802, new_len: 7616\n",
      "category: 1, origin_len: 10464, new_len: 7609\n",
      "category: 2, origin_len: 8745, new_len: 7677\n",
      "category: 3, origin_len: 7612, new_len: 7612\n",
      "Making batches... batch size: 512,num of batchese: 60\n",
      "Epoch: 0 Generator: 0, total loss: 3.5491292253136635\n",
      "min category: 3, num: 7612\n",
      "category: 0, origin_len: 32802, new_len: 7613\n",
      "category: 1, origin_len: 10464, new_len: 7619\n",
      "category: 2, origin_len: 8745, new_len: 7641\n",
      "category: 3, origin_len: 7612, new_len: 7612\n",
      "Making batches... batch size: 512,num of batchese: 60\n",
      "Epoch: 0 Generator: 1, total loss: 3.5560380034148693\n",
      "min category: 3, num: 7612\n",
      "category: 0, origin_len: 32802, new_len: 7475\n",
      "category: 1, origin_len: 10464, new_len: 7556\n",
      "category: 2, origin_len: 8745, new_len: 7612\n",
      "category: 3, origin_len: 7612, new_len: 7612\n",
      "Making batches... batch size: 512,num of batchese: 60\n"
     ]
    },
    {
     "name": "stderr",
     "output_type": "stream",
     "text": [
      "\r",
      " 10%|█         | 1/10 [00:02<00:26,  2.99s/it]"
     ]
    },
    {
     "name": "stdout",
     "output_type": "stream",
     "text": [
      "Epoch: 0 Generator: 2, total loss: 3.6168525982648134\n",
      "min category: 3, num: 7612\n",
      "category: 0, origin_len: 32802, new_len: 7656\n",
      "category: 1, origin_len: 10464, new_len: 7667\n",
      "category: 2, origin_len: 8745, new_len: 7655\n",
      "category: 3, origin_len: 7612, new_len: 7612\n",
      "Making batches... batch size: 512,num of batchese: 60\n",
      "Epoch: 1 Generator: 0, total loss: 3.7855353131890297\n",
      "min category: 3, num: 7612\n",
      "category: 0, origin_len: 32802, new_len: 7672\n",
      "category: 1, origin_len: 10464, new_len: 7549\n",
      "category: 2, origin_len: 8745, new_len: 7584\n",
      "category: 3, origin_len: 7612, new_len: 7612\n",
      "Making batches... batch size: 512,num of batchese: 60\n",
      "Epoch: 1 Generator: 1, total loss: 3.5425845831632614\n",
      "min category: 3, num: 7612\n",
      "category: 0, origin_len: 32802, new_len: 7614\n",
      "category: 1, origin_len: 10464, new_len: 7547\n",
      "category: 2, origin_len: 8745, new_len: 7582\n",
      "category: 3, origin_len: 7612, new_len: 7612\n",
      "Making batches... batch size: 512,num of batchese: 60\n"
     ]
    },
    {
     "name": "stderr",
     "output_type": "stream",
     "text": [
      "\r",
      " 20%|██        | 2/10 [00:05<00:23,  2.96s/it]"
     ]
    },
    {
     "name": "stdout",
     "output_type": "stream",
     "text": [
      "Epoch: 1 Generator: 2, total loss: 3.4483485091477633\n",
      "min category: 3, num: 7612\n",
      "category: 0, origin_len: 32802, new_len: 7656\n",
      "category: 1, origin_len: 10464, new_len: 7624\n",
      "category: 2, origin_len: 8745, new_len: 7615\n",
      "category: 3, origin_len: 7612, new_len: 7612\n",
      "Making batches... batch size: 512,num of batchese: 60\n",
      "Epoch: 2 Generator: 0, total loss: 3.604293443262577\n",
      "min category: 3, num: 7612\n",
      "category: 0, origin_len: 32802, new_len: 7613\n",
      "category: 1, origin_len: 10464, new_len: 7580\n",
      "category: 2, origin_len: 8745, new_len: 7583\n",
      "category: 3, origin_len: 7612, new_len: 7612\n",
      "Making batches... batch size: 512,num of batchese: 60\n",
      "Epoch: 2 Generator: 1, total loss: 3.542484372854233\n",
      "min category: 3, num: 7612\n",
      "category: 0, origin_len: 32802, new_len: 7596\n",
      "category: 1, origin_len: 10464, new_len: 7526\n",
      "category: 2, origin_len: 8745, new_len: 7590\n",
      "category: 3, origin_len: 7612, new_len: 7612\n",
      "Making batches... batch size: 512,num of batchese: 60\n"
     ]
    },
    {
     "name": "stderr",
     "output_type": "stream",
     "text": [
      "\r",
      " 30%|███       | 3/10 [00:08<00:20,  2.94s/it]"
     ]
    },
    {
     "name": "stdout",
     "output_type": "stream",
     "text": [
      "Epoch: 2 Generator: 2, total loss: 3.5409152917563915\n",
      "min category: 3, num: 7612\n",
      "category: 0, origin_len: 32802, new_len: 7646\n",
      "category: 1, origin_len: 10464, new_len: 7596\n",
      "category: 2, origin_len: 8745, new_len: 7617\n",
      "category: 3, origin_len: 7612, new_len: 7612\n",
      "Making batches... batch size: 512,num of batchese: 60\n",
      "Epoch: 3 Generator: 0, total loss: 3.6167401634156704\n",
      "min category: 3, num: 7612\n",
      "category: 0, origin_len: 32802, new_len: 7495\n",
      "category: 1, origin_len: 10464, new_len: 7638\n",
      "category: 2, origin_len: 8745, new_len: 7598\n",
      "category: 3, origin_len: 7612, new_len: 7612\n",
      "Making batches... batch size: 512,num of batchese: 60\n",
      "Epoch: 3 Generator: 1, total loss: 3.599942918866873\n",
      "min category: 3, num: 7612\n",
      "category: 0, origin_len: 32802, new_len: 7555\n",
      "category: 1, origin_len: 10464, new_len: 7640\n",
      "category: 2, origin_len: 8745, new_len: 7603\n",
      "category: 3, origin_len: 7612, new_len: 7612\n",
      "Making batches... batch size: 512,num of batchese: 60\n"
     ]
    },
    {
     "name": "stderr",
     "output_type": "stream",
     "text": [
      "\r",
      " 40%|████      | 4/10 [00:11<00:17,  2.94s/it]"
     ]
    },
    {
     "name": "stdout",
     "output_type": "stream",
     "text": [
      "Epoch: 3 Generator: 2, total loss: 3.619648903608322\n",
      "min category: 3, num: 7612\n",
      "category: 0, origin_len: 32802, new_len: 7610\n",
      "category: 1, origin_len: 10464, new_len: 7567\n",
      "category: 2, origin_len: 8745, new_len: 7605\n",
      "category: 3, origin_len: 7612, new_len: 7612\n",
      "Making batches... batch size: 512,num of batchese: 60\n",
      "Epoch: 4 Generator: 0, total loss: 3.4063370563089848\n",
      "min category: 3, num: 7612\n",
      "category: 0, origin_len: 32802, new_len: 7645\n",
      "category: 1, origin_len: 10464, new_len: 7611\n",
      "category: 2, origin_len: 8745, new_len: 7579\n",
      "category: 3, origin_len: 7612, new_len: 7612\n",
      "Making batches... batch size: 512,num of batchese: 60\n",
      "Epoch: 4 Generator: 1, total loss: 3.5394977927207947\n",
      "min category: 3, num: 7612\n",
      "category: 0, origin_len: 32802, new_len: 7603\n",
      "category: 1, origin_len: 10464, new_len: 7595\n",
      "category: 2, origin_len: 8745, new_len: 7619\n",
      "category: 3, origin_len: 7612, new_len: 7612\n",
      "Making batches... batch size: 512,num of batchese: 60\n"
     ]
    },
    {
     "name": "stderr",
     "output_type": "stream",
     "text": [
      "\r",
      " 50%|█████     | 5/10 [00:14<00:14,  2.94s/it]"
     ]
    },
    {
     "name": "stdout",
     "output_type": "stream",
     "text": [
      "Epoch: 4 Generator: 2, total loss: 3.675633803009987\n",
      "min category: 3, num: 7612\n",
      "category: 0, origin_len: 32802, new_len: 7713\n",
      "category: 1, origin_len: 10464, new_len: 7625\n",
      "category: 2, origin_len: 8745, new_len: 7586\n",
      "category: 3, origin_len: 7612, new_len: 7612\n",
      "Making batches... batch size: 512,num of batchese: 60\n",
      "Epoch: 5 Generator: 0, total loss: 3.502330906689167\n",
      "min category: 3, num: 7612\n",
      "category: 0, origin_len: 32802, new_len: 7693\n",
      "category: 1, origin_len: 10464, new_len: 7628\n",
      "category: 2, origin_len: 8745, new_len: 7628\n",
      "category: 3, origin_len: 7612, new_len: 7612\n",
      "Making batches... batch size: 512,num of batchese: 60\n",
      "Epoch: 5 Generator: 1, total loss: 3.5612341053783894\n",
      "min category: 3, num: 7612\n",
      "category: 0, origin_len: 32802, new_len: 7686\n",
      "category: 1, origin_len: 10464, new_len: 7618\n",
      "category: 2, origin_len: 8745, new_len: 7600\n",
      "category: 3, origin_len: 7612, new_len: 7612\n",
      "Making batches... batch size: 512,num of batchese: 60\n"
     ]
    },
    {
     "name": "stderr",
     "output_type": "stream",
     "text": [
      "\r",
      " 60%|██████    | 6/10 [00:17<00:11,  2.94s/it]"
     ]
    },
    {
     "name": "stdout",
     "output_type": "stream",
     "text": [
      "Epoch: 5 Generator: 2, total loss: 3.5418633706867695\n",
      "min category: 3, num: 7612\n",
      "category: 0, origin_len: 32802, new_len: 7590\n",
      "category: 1, origin_len: 10464, new_len: 7587\n",
      "category: 2, origin_len: 8745, new_len: 7578\n",
      "category: 3, origin_len: 7612, new_len: 7612\n",
      "Making batches... batch size: 512,num of batchese: 60\n",
      "Epoch: 6 Generator: 0, total loss: 3.4403167068958282\n",
      "min category: 3, num: 7612\n",
      "category: 0, origin_len: 32802, new_len: 7602\n",
      "category: 1, origin_len: 10464, new_len: 7606\n",
      "category: 2, origin_len: 8745, new_len: 7628\n",
      "category: 3, origin_len: 7612, new_len: 7612\n",
      "Making batches... batch size: 512,num of batchese: 60\n",
      "Epoch: 6 Generator: 1, total loss: 3.518800139427185\n",
      "min category: 3, num: 7612\n",
      "category: 0, origin_len: 32802, new_len: 7557\n",
      "category: 1, origin_len: 10464, new_len: 7656\n",
      "category: 2, origin_len: 8745, new_len: 7614\n",
      "category: 3, origin_len: 7612, new_len: 7612\n",
      "Making batches... batch size: 512,num of batchese: 60\n"
     ]
    },
    {
     "name": "stderr",
     "output_type": "stream",
     "text": [
      "\r",
      " 70%|███████   | 7/10 [00:20<00:08,  2.94s/it]"
     ]
    },
    {
     "name": "stdout",
     "output_type": "stream",
     "text": [
      "Epoch: 6 Generator: 2, total loss: 3.6842684522271156\n",
      "min category: 3, num: 7612\n",
      "category: 0, origin_len: 32802, new_len: 7586\n",
      "category: 1, origin_len: 10464, new_len: 7643\n",
      "category: 2, origin_len: 8745, new_len: 7618\n",
      "category: 3, origin_len: 7612, new_len: 7612\n",
      "Making batches... batch size: 512,num of batchese: 60\n",
      "Epoch: 7 Generator: 0, total loss: 3.6253732703626156\n",
      "min category: 3, num: 7612\n",
      "category: 0, origin_len: 32802, new_len: 7584\n",
      "category: 1, origin_len: 10464, new_len: 7629\n",
      "category: 2, origin_len: 8745, new_len: 7602\n",
      "category: 3, origin_len: 7612, new_len: 7612\n",
      "Making batches... batch size: 512,num of batchese: 60\n",
      "Epoch: 7 Generator: 1, total loss: 3.5811107009649277\n",
      "min category: 3, num: 7612\n",
      "category: 0, origin_len: 32802, new_len: 7616\n",
      "category: 1, origin_len: 10464, new_len: 7630\n",
      "category: 2, origin_len: 8745, new_len: 7664\n",
      "category: 3, origin_len: 7612, new_len: 7612\n",
      "Making batches... batch size: 512,num of batchese: 60\n"
     ]
    },
    {
     "name": "stderr",
     "output_type": "stream",
     "text": [
      "\r",
      " 80%|████████  | 8/10 [00:23<00:05,  2.94s/it]"
     ]
    },
    {
     "name": "stdout",
     "output_type": "stream",
     "text": [
      "Epoch: 7 Generator: 2, total loss: 3.517952863126993\n",
      "min category: 3, num: 7612\n",
      "category: 0, origin_len: 32802, new_len: 7625\n",
      "category: 1, origin_len: 10464, new_len: 7614\n",
      "category: 2, origin_len: 8745, new_len: 7574\n",
      "category: 3, origin_len: 7612, new_len: 7612\n",
      "Making batches... batch size: 512,num of batchese: 60\n",
      "Epoch: 8 Generator: 0, total loss: 3.5639339461922646\n",
      "min category: 3, num: 7612\n",
      "category: 0, origin_len: 32802, new_len: 7579\n",
      "category: 1, origin_len: 10464, new_len: 7683\n",
      "category: 2, origin_len: 8745, new_len: 7675\n",
      "category: 3, origin_len: 7612, new_len: 7612\n",
      "Making batches... batch size: 512,num of batchese: 60\n",
      "Epoch: 8 Generator: 1, total loss: 3.4880255348980427\n",
      "min category: 3, num: 7612\n",
      "category: 0, origin_len: 32802, new_len: 7629\n",
      "category: 1, origin_len: 10464, new_len: 7645\n",
      "category: 2, origin_len: 8745, new_len: 7605\n",
      "category: 3, origin_len: 7612, new_len: 7612\n",
      "Making batches... batch size: 512,num of batchese: 60\n"
     ]
    },
    {
     "name": "stderr",
     "output_type": "stream",
     "text": [
      "\r",
      " 90%|█████████ | 9/10 [00:26<00:02,  2.94s/it]"
     ]
    },
    {
     "name": "stdout",
     "output_type": "stream",
     "text": [
      "Epoch: 8 Generator: 2, total loss: 3.4574936628341675\n",
      "min category: 3, num: 7612\n",
      "category: 0, origin_len: 32802, new_len: 7668\n",
      "category: 1, origin_len: 10464, new_len: 7596\n",
      "category: 2, origin_len: 8745, new_len: 7597\n",
      "category: 3, origin_len: 7612, new_len: 7612\n",
      "Making batches... batch size: 512,num of batchese: 60\n",
      "Epoch: 9 Generator: 0, total loss: 3.4380220025777817\n",
      "min category: 3, num: 7612\n",
      "category: 0, origin_len: 32802, new_len: 7460\n",
      "category: 1, origin_len: 10464, new_len: 7579\n",
      "category: 2, origin_len: 8745, new_len: 7595\n",
      "category: 3, origin_len: 7612, new_len: 7612\n",
      "Making batches... batch size: 512,num of batchese: 60\n",
      "Epoch: 9 Generator: 1, total loss: 3.5594271942973137\n",
      "min category: 3, num: 7612\n",
      "category: 0, origin_len: 32802, new_len: 7639\n",
      "category: 1, origin_len: 10464, new_len: 7648\n",
      "category: 2, origin_len: 8745, new_len: 7597\n",
      "category: 3, origin_len: 7612, new_len: 7612\n",
      "Making batches... batch size: 512,num of batchese: 60\n"
     ]
    },
    {
     "name": "stderr",
     "output_type": "stream",
     "text": [
      "\r",
      "100%|██████████| 10/10 [00:29<00:00,  2.94s/it]"
     ]
    },
    {
     "name": "stdout",
     "output_type": "stream",
     "text": [
      "Epoch: 9 Generator: 2, total loss: 3.554194450378418\n",
      "Saving model to /data/gpf/gpf_dl/tests/tmp_torch_model.torch\n"
     ]
    },
    {
     "name": "stderr",
     "output_type": "stream",
     "text": [
      "\n"
     ]
    }
   ],
   "source": [
    "core.fit_text_classification(m, X,y, 10, opt, loss_fn)"
   ]
  },
  {
   "cell_type": "code",
   "execution_count": 37,
   "metadata": {},
   "outputs": [
    {
     "name": "stdout",
     "output_type": "stream",
     "text": [
      "---------------------------业务招待费-------------------------------\n",
      "total:  965\n",
      "correct:  906\n",
      "accuracy:  0.938860103626943\n",
      "---------------------------办公费-------------------------------\n",
      "total:  3374\n",
      "correct:  3333\n",
      "accuracy:  0.9878482513337286\n",
      "---------------------------差旅费-------------------------------\n",
      "total:  772\n",
      "correct:  758\n",
      "accuracy:  0.9818652849740933\n",
      "---------------------------福利费-------------------------------\n",
      "total:  907\n",
      "correct:  897\n",
      "accuracy:  0.9889746416758545\n",
      "---------------------------All-------------------------------\n",
      "total correct/total:5894/6018\n",
      "total accuracy:  0.9793951478896643\n"
     ]
    }
   ],
   "source": [
    "X = list(df_test.x.apply(core.str2arr))\n",
    "pred = core.predict_batch(m,X)\n",
    "pred = np.array([index_label[i] for i in pred])\n",
    "expect = df_test.y1.values\n",
    "core.evaluation_matrix(pred, expect)"
   ]
  },
  {
   "cell_type": "code",
   "execution_count": 39,
   "metadata": {},
   "outputs": [],
   "source": [
    "df_train = pd.read_csv('dataset_train1.csv')\n",
    "df_test = pd.read_csv('dataset_test1.csv')\n",
    "label_index = {'库存商品':0,'管理费用':1,'主营业务成本':2,'原材料':3}\n",
    "index_label = {v:k for k,v in label_index.items()}"
   ]
  },
  {
   "cell_type": "code",
   "execution_count": 40,
   "metadata": {},
   "outputs": [
    {
     "data": {
      "text/plain": [
       "28778"
      ]
     },
     "execution_count": 40,
     "metadata": {},
     "output_type": "execute_result"
    }
   ],
   "source": [
    "word_index, index_word = core.get_word_index('word_dict1.pickle')\n",
    "len(word_index)"
   ]
  },
  {
   "cell_type": "code",
   "execution_count": 79,
   "metadata": {},
   "outputs": [
    {
     "name": "stdout",
     "output_type": "stream",
     "text": [
      "loading model from /data/gpf/gpf_dl/tests/tmp_torch_model.torch\n"
     ]
    }
   ],
   "source": [
    "vocal_size = len(word_index)\n",
    "embedding_dim = 7\n",
    "n_hidden = 128\n",
    "n_out = 4\n",
    "\n",
    "#m = model.SimpleGRU(vocal_size,embedding_dim,n_hidden,n_out).to(torch.device('cuda:0'))\n",
    "m = core.load_model().to(torch.device('cuda:0'))"
   ]
  },
  {
   "cell_type": "code",
   "execution_count": 80,
   "metadata": {},
   "outputs": [],
   "source": [
    "X = df_train.x.apply(core.str2arr)\n",
    "y = core.index_labels(df_train.y1,label_index)"
   ]
  },
  {
   "cell_type": "code",
   "execution_count": 81,
   "metadata": {},
   "outputs": [],
   "source": [
    "opt = optim.SGD(m.parameters(), lr=0.001, momentum=0.9)\n",
    "loss_fn = F.nll_loss"
   ]
  },
  {
   "cell_type": "code",
   "execution_count": 82,
   "metadata": {},
   "outputs": [
    {
     "name": "stderr",
     "output_type": "stream",
     "text": [
      "\r",
      "  0%|          | 0/10 [00:00<?, ?it/s]"
     ]
    },
    {
     "name": "stdout",
     "output_type": "stream",
     "text": [
      "model is been trained on cuda:0\n",
      "min category: 3, num: 11533\n",
      "category: 0, origin_len: 195088, new_len: 11644\n",
      "category: 1, origin_len: 70061, new_len: 11549\n",
      "category: 2, origin_len: 11535, new_len: 11535\n",
      "category: 3, origin_len: 11533, new_len: 11533\n",
      "Making batches... batch size: 512,num of batchese: 91\n",
      "Epoch: 0 Generator: 0, total loss: 5.961403427645564\n",
      "min category: 3, num: 11533\n",
      "category: 0, origin_len: 195088, new_len: 11501\n",
      "category: 1, origin_len: 70061, new_len: 11500\n",
      "category: 2, origin_len: 11535, new_len: 11532\n",
      "category: 3, origin_len: 11533, new_len: 11533\n",
      "Making batches... batch size: 512,num of batchese: 90\n",
      "Epoch: 0 Generator: 1, total loss: 5.904885675758123\n",
      "min category: 3, num: 11533\n",
      "category: 0, origin_len: 195088, new_len: 11587\n",
      "category: 1, origin_len: 70061, new_len: 11593\n",
      "category: 2, origin_len: 11535, new_len: 11533\n",
      "category: 3, origin_len: 11533, new_len: 11533\n",
      "Making batches... batch size: 512,num of batchese: 91\n"
     ]
    },
    {
     "name": "stderr",
     "output_type": "stream",
     "text": [
      "\r",
      " 10%|█         | 1/10 [00:04<00:39,  4.37s/it]"
     ]
    },
    {
     "name": "stdout",
     "output_type": "stream",
     "text": [
      "Epoch: 0 Generator: 2, total loss: 6.042074399068952\n",
      "min category: 3, num: 11533\n",
      "category: 0, origin_len: 195088, new_len: 11655\n",
      "category: 1, origin_len: 70061, new_len: 11437\n",
      "category: 2, origin_len: 11535, new_len: 11535\n",
      "category: 3, origin_len: 11533, new_len: 11533\n",
      "Making batches... batch size: 512,num of batchese: 91\n",
      "Epoch: 1 Generator: 0, total loss: 5.944073550403118\n",
      "min category: 3, num: 11533\n",
      "category: 0, origin_len: 195088, new_len: 11682\n",
      "category: 1, origin_len: 70061, new_len: 11473\n",
      "category: 2, origin_len: 11535, new_len: 11533\n",
      "category: 3, origin_len: 11533, new_len: 11533\n",
      "Making batches... batch size: 512,num of batchese: 91\n",
      "Epoch: 1 Generator: 1, total loss: 6.213342163711786\n",
      "min category: 3, num: 11533\n",
      "category: 0, origin_len: 195088, new_len: 11776\n",
      "category: 1, origin_len: 70061, new_len: 11484\n",
      "category: 2, origin_len: 11535, new_len: 11532\n",
      "category: 3, origin_len: 11533, new_len: 11533\n",
      "Making batches... batch size: 512,num of batchese: 91\n"
     ]
    },
    {
     "name": "stderr",
     "output_type": "stream",
     "text": [
      "\r",
      " 20%|██        | 2/10 [00:08<00:34,  4.35s/it]"
     ]
    },
    {
     "name": "stdout",
     "output_type": "stream",
     "text": [
      "Epoch: 1 Generator: 2, total loss: 6.019417144358158\n",
      "min category: 3, num: 11533\n",
      "category: 0, origin_len: 195088, new_len: 11426\n",
      "category: 1, origin_len: 70061, new_len: 11455\n",
      "category: 2, origin_len: 11535, new_len: 11534\n",
      "category: 3, origin_len: 11533, new_len: 11533\n",
      "Making batches... batch size: 512,num of batchese: 90\n",
      "Epoch: 2 Generator: 0, total loss: 5.9369350001215935\n",
      "min category: 3, num: 11533\n",
      "category: 0, origin_len: 195088, new_len: 11593\n",
      "category: 1, origin_len: 70061, new_len: 11531\n",
      "category: 2, origin_len: 11535, new_len: 11535\n",
      "category: 3, origin_len: 11533, new_len: 11533\n",
      "Making batches... batch size: 512,num of batchese: 91\n",
      "Epoch: 2 Generator: 1, total loss: 5.890693053603172\n",
      "min category: 3, num: 11533\n",
      "category: 0, origin_len: 195088, new_len: 11386\n",
      "category: 1, origin_len: 70061, new_len: 11567\n",
      "category: 2, origin_len: 11535, new_len: 11534\n",
      "category: 3, origin_len: 11533, new_len: 11533\n",
      "Making batches... batch size: 512,num of batchese: 90\n"
     ]
    },
    {
     "name": "stderr",
     "output_type": "stream",
     "text": [
      "\r",
      " 30%|███       | 3/10 [00:13<00:30,  4.35s/it]"
     ]
    },
    {
     "name": "stdout",
     "output_type": "stream",
     "text": [
      "Epoch: 2 Generator: 2, total loss: 5.660131707787514\n",
      "min category: 3, num: 11533\n",
      "category: 0, origin_len: 195088, new_len: 11515\n",
      "category: 1, origin_len: 70061, new_len: 11234\n",
      "category: 2, origin_len: 11535, new_len: 11533\n",
      "category: 3, origin_len: 11533, new_len: 11533\n",
      "Making batches... batch size: 512,num of batchese: 90\n",
      "Epoch: 3 Generator: 0, total loss: 6.003889285027981\n",
      "min category: 3, num: 11533\n",
      "category: 0, origin_len: 195088, new_len: 11361\n",
      "category: 1, origin_len: 70061, new_len: 11453\n",
      "category: 2, origin_len: 11535, new_len: 11534\n",
      "category: 3, origin_len: 11533, new_len: 11533\n",
      "Making batches... batch size: 512,num of batchese: 90\n",
      "Epoch: 3 Generator: 1, total loss: 6.005524259060621\n",
      "min category: 3, num: 11533\n",
      "category: 0, origin_len: 195088, new_len: 11663\n",
      "category: 1, origin_len: 70061, new_len: 11456\n",
      "category: 2, origin_len: 11535, new_len: 11535\n",
      "category: 3, origin_len: 11533, new_len: 11533\n",
      "Making batches... batch size: 512,num of batchese: 91\n"
     ]
    },
    {
     "name": "stderr",
     "output_type": "stream",
     "text": [
      "\r",
      " 40%|████      | 4/10 [00:17<00:25,  4.33s/it]"
     ]
    },
    {
     "name": "stdout",
     "output_type": "stream",
     "text": [
      "Epoch: 3 Generator: 2, total loss: 6.146384835243225\n",
      "min category: 3, num: 11533\n",
      "category: 0, origin_len: 195088, new_len: 11452\n",
      "category: 1, origin_len: 70061, new_len: 11448\n",
      "category: 2, origin_len: 11535, new_len: 11534\n",
      "category: 3, origin_len: 11533, new_len: 11533\n",
      "Making batches... batch size: 512,num of batchese: 90\n",
      "Epoch: 4 Generator: 0, total loss: 5.805275207385421\n",
      "min category: 3, num: 11533\n",
      "category: 0, origin_len: 195088, new_len: 11658\n",
      "category: 1, origin_len: 70061, new_len: 11571\n",
      "category: 2, origin_len: 11535, new_len: 11532\n",
      "category: 3, origin_len: 11533, new_len: 11533\n",
      "Making batches... batch size: 512,num of batchese: 91\n",
      "Epoch: 4 Generator: 1, total loss: 6.082625687122345\n",
      "min category: 3, num: 11533\n",
      "category: 0, origin_len: 195088, new_len: 11793\n",
      "category: 1, origin_len: 70061, new_len: 11629\n",
      "category: 2, origin_len: 11535, new_len: 11531\n",
      "category: 3, origin_len: 11533, new_len: 11533\n",
      "Making batches... batch size: 512,num of batchese: 91\n"
     ]
    },
    {
     "name": "stderr",
     "output_type": "stream",
     "text": [
      "\r",
      " 50%|█████     | 5/10 [00:21<00:21,  4.35s/it]"
     ]
    },
    {
     "name": "stdout",
     "output_type": "stream",
     "text": [
      "Epoch: 4 Generator: 2, total loss: 6.267601512372494\n",
      "min category: 3, num: 11533\n",
      "category: 0, origin_len: 195088, new_len: 11457\n",
      "category: 1, origin_len: 70061, new_len: 11397\n",
      "category: 2, origin_len: 11535, new_len: 11533\n",
      "category: 3, origin_len: 11533, new_len: 11533\n",
      "Making batches... batch size: 512,num of batchese: 90\n",
      "Epoch: 5 Generator: 0, total loss: 5.865692308172584\n",
      "min category: 3, num: 11533\n",
      "category: 0, origin_len: 195088, new_len: 11472\n",
      "category: 1, origin_len: 70061, new_len: 11627\n",
      "category: 2, origin_len: 11535, new_len: 11532\n",
      "category: 3, origin_len: 11533, new_len: 11533\n",
      "Making batches... batch size: 512,num of batchese: 91\n",
      "Epoch: 5 Generator: 1, total loss: 5.864890243858099\n",
      "min category: 3, num: 11533\n",
      "category: 0, origin_len: 195088, new_len: 11545\n",
      "category: 1, origin_len: 70061, new_len: 11528\n",
      "category: 2, origin_len: 11535, new_len: 11534\n",
      "category: 3, origin_len: 11533, new_len: 11533\n",
      "Making batches... batch size: 512,num of batchese: 91\n"
     ]
    },
    {
     "name": "stderr",
     "output_type": "stream",
     "text": [
      "\r",
      " 60%|██████    | 6/10 [00:26<00:17,  4.35s/it]"
     ]
    },
    {
     "name": "stdout",
     "output_type": "stream",
     "text": [
      "Epoch: 5 Generator: 2, total loss: 6.078225180506706\n",
      "min category: 3, num: 11533\n",
      "category: 0, origin_len: 195088, new_len: 11617\n",
      "category: 1, origin_len: 70061, new_len: 11536\n",
      "category: 2, origin_len: 11535, new_len: 11535\n",
      "category: 3, origin_len: 11533, new_len: 11533\n",
      "Making batches... batch size: 512,num of batchese: 91\n",
      "Epoch: 6 Generator: 0, total loss: 5.818134220317006\n",
      "min category: 3, num: 11533\n",
      "category: 0, origin_len: 195088, new_len: 11497\n",
      "category: 1, origin_len: 70061, new_len: 11648\n",
      "category: 2, origin_len: 11535, new_len: 11533\n",
      "category: 3, origin_len: 11533, new_len: 11533\n",
      "Making batches... batch size: 512,num of batchese: 91\n",
      "Epoch: 6 Generator: 1, total loss: 6.248556941747665\n",
      "min category: 3, num: 11533\n",
      "category: 0, origin_len: 195088, new_len: 11590\n",
      "category: 1, origin_len: 70061, new_len: 11441\n",
      "category: 2, origin_len: 11535, new_len: 11534\n",
      "category: 3, origin_len: 11533, new_len: 11533\n",
      "Making batches... batch size: 512,num of batchese: 91\n"
     ]
    },
    {
     "name": "stderr",
     "output_type": "stream",
     "text": [
      "\r",
      " 70%|███████   | 7/10 [00:30<00:13,  4.35s/it]"
     ]
    },
    {
     "name": "stdout",
     "output_type": "stream",
     "text": [
      "Epoch: 6 Generator: 2, total loss: 5.713103277608752\n",
      "min category: 3, num: 11533\n",
      "category: 0, origin_len: 195088, new_len: 11569\n",
      "category: 1, origin_len: 70061, new_len: 11480\n",
      "category: 2, origin_len: 11535, new_len: 11534\n",
      "category: 3, origin_len: 11533, new_len: 11533\n",
      "Making batches... batch size: 512,num of batchese: 91\n",
      "Epoch: 7 Generator: 0, total loss: 5.82800514716655\n",
      "min category: 3, num: 11533\n",
      "category: 0, origin_len: 195088, new_len: 11715\n",
      "category: 1, origin_len: 70061, new_len: 11581\n",
      "category: 2, origin_len: 11535, new_len: 11531\n",
      "category: 3, origin_len: 11533, new_len: 11533\n",
      "Making batches... batch size: 512,num of batchese: 91\n",
      "Epoch: 7 Generator: 1, total loss: 5.972099728882313\n",
      "min category: 3, num: 11533\n",
      "category: 0, origin_len: 195088, new_len: 11614\n",
      "category: 1, origin_len: 70061, new_len: 11511\n",
      "category: 2, origin_len: 11535, new_len: 11535\n",
      "category: 3, origin_len: 11533, new_len: 11533\n",
      "Making batches... batch size: 512,num of batchese: 91\n"
     ]
    },
    {
     "name": "stderr",
     "output_type": "stream",
     "text": [
      "\r",
      " 80%|████████  | 8/10 [00:34<00:08,  4.35s/it]"
     ]
    },
    {
     "name": "stdout",
     "output_type": "stream",
     "text": [
      "Epoch: 7 Generator: 2, total loss: 5.829540628939867\n",
      "min category: 3, num: 11533\n",
      "category: 0, origin_len: 195088, new_len: 11725\n",
      "category: 1, origin_len: 70061, new_len: 11724\n",
      "category: 2, origin_len: 11535, new_len: 11531\n",
      "category: 3, origin_len: 11533, new_len: 11533\n",
      "Making batches... batch size: 512,num of batchese: 91\n",
      "Epoch: 8 Generator: 0, total loss: 5.858737353235483\n",
      "min category: 3, num: 11533\n",
      "category: 0, origin_len: 195088, new_len: 11480\n",
      "category: 1, origin_len: 70061, new_len: 11384\n",
      "category: 2, origin_len: 11535, new_len: 11532\n",
      "category: 3, origin_len: 11533, new_len: 11533\n",
      "Making batches... batch size: 512,num of batchese: 90\n",
      "Epoch: 8 Generator: 1, total loss: 5.478614320978522\n",
      "min category: 3, num: 11533\n",
      "category: 0, origin_len: 195088, new_len: 11638\n",
      "category: 1, origin_len: 70061, new_len: 11472\n",
      "category: 2, origin_len: 11535, new_len: 11533\n",
      "category: 3, origin_len: 11533, new_len: 11533\n",
      "Making batches... batch size: 512,num of batchese: 91\n"
     ]
    },
    {
     "name": "stderr",
     "output_type": "stream",
     "text": [
      "\r",
      " 90%|█████████ | 9/10 [00:39<00:04,  4.36s/it]"
     ]
    },
    {
     "name": "stdout",
     "output_type": "stream",
     "text": [
      "Epoch: 8 Generator: 2, total loss: 5.943333465605974\n",
      "min category: 3, num: 11533\n",
      "category: 0, origin_len: 195088, new_len: 11498\n",
      "category: 1, origin_len: 70061, new_len: 11438\n",
      "category: 2, origin_len: 11535, new_len: 11533\n",
      "category: 3, origin_len: 11533, new_len: 11533\n",
      "Making batches... batch size: 512,num of batchese: 90\n",
      "Epoch: 9 Generator: 0, total loss: 6.079882085323334\n",
      "min category: 3, num: 11533\n",
      "category: 0, origin_len: 195088, new_len: 11525\n",
      "category: 1, origin_len: 70061, new_len: 11473\n",
      "category: 2, origin_len: 11535, new_len: 11531\n",
      "category: 3, origin_len: 11533, new_len: 11533\n",
      "Making batches... batch size: 512,num of batchese: 90\n",
      "Epoch: 9 Generator: 1, total loss: 5.934562681242824\n",
      "min category: 3, num: 11533\n",
      "category: 0, origin_len: 195088, new_len: 11606\n",
      "category: 1, origin_len: 70061, new_len: 11565\n",
      "category: 2, origin_len: 11535, new_len: 11533\n",
      "category: 3, origin_len: 11533, new_len: 11533\n",
      "Making batches... batch size: 512,num of batchese: 91\n"
     ]
    },
    {
     "name": "stderr",
     "output_type": "stream",
     "text": [
      "\r",
      "100%|██████████| 10/10 [00:43<00:00,  4.36s/it]"
     ]
    },
    {
     "name": "stdout",
     "output_type": "stream",
     "text": [
      "Epoch: 9 Generator: 2, total loss: 5.81502771936357\n",
      "Saving model to /data/gpf/gpf_dl/tests/tmp_torch_model.torch\n"
     ]
    },
    {
     "name": "stderr",
     "output_type": "stream",
     "text": [
      "\n"
     ]
    }
   ],
   "source": [
    "core.fit_text_classification(m, X,y, 10, opt, loss_fn)"
   ]
  },
  {
   "cell_type": "code",
   "execution_count": 83,
   "metadata": {},
   "outputs": [
    {
     "name": "stdout",
     "output_type": "stream",
     "text": [
      "---------------------------主营业务成本-------------------------------\n",
      "total:  1358\n",
      "correct:  1040\n",
      "accuracy:  0.7658321060382917\n",
      "---------------------------原材料-------------------------------\n",
      "total:  1312\n",
      "correct:  1243\n",
      "accuracy:  0.9474085365853658\n",
      "---------------------------库存商品-------------------------------\n",
      "total:  21250\n",
      "correct:  20214\n",
      "accuracy:  0.9512470588235294\n",
      "---------------------------管理费用-------------------------------\n",
      "total:  7648\n",
      "correct:  6884\n",
      "accuracy:  0.9001046025104602\n",
      "---------------------------All-------------------------------\n",
      "total correct/total:29381/31568\n",
      "total accuracy:  0.9307209832742017\n"
     ]
    }
   ],
   "source": [
    "X = list(df_test.x.apply(core.str2arr))\n",
    "pred = core.predict_batch(m,X)\n",
    "pred = np.array([index_label[i] for i in pred])\n",
    "expect = df_test.y1.values\n",
    "core.evaluation_matrix(pred, expect)"
   ]
  },
  {
   "cell_type": "code",
   "execution_count": null,
   "metadata": {},
   "outputs": [],
   "source": []
  }
 ],
 "metadata": {
  "kernelspec": {
   "display_name": "Python 3",
   "language": "python",
   "name": "python3"
  },
  "language_info": {
   "codemirror_mode": {
    "name": "ipython",
    "version": 3
   },
   "file_extension": ".py",
   "mimetype": "text/x-python",
   "name": "python",
   "nbconvert_exporter": "python",
   "pygments_lexer": "ipython3",
   "version": "3.6.5"
  }
 },
 "nbformat": 4,
 "nbformat_minor": 2
}
