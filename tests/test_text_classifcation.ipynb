{
 "cells": [
  {
   "cell_type": "code",
   "execution_count": 12,
   "metadata": {},
   "outputs": [],
   "source": [
    "import pandas as pd\n",
    "import os\n",
    "import sys\n",
    "sys.path.append(os.path.pardir)\n",
    "import core,model\n",
    "import torch.optim as optim\n",
    "import torch.nn.functional as F\n",
    "import torch\n",
    "import numpy as np"
   ]
  },
  {
   "cell_type": "code",
   "execution_count": 13,
   "metadata": {},
   "outputs": [],
   "source": [
    "df_train = pd.read_csv('dataset_train.csv')\n",
    "df_test = pd.read_csv('dataset_test.csv')\n",
    "label_index = {'办公费':0,'业务招待费':1,'福利费':2,'差旅费':3}\n",
    "index_label = {v:k for k,v in label_index.items()}"
   ]
  },
  {
   "cell_type": "code",
   "execution_count": 14,
   "metadata": {},
   "outputs": [
    {
     "data": {
      "text/plain": [
       "8736"
      ]
     },
     "execution_count": 14,
     "metadata": {},
     "output_type": "execute_result"
    }
   ],
   "source": [
    "word_index, index_word = core.get_word_index('word_dict.pickle')\n",
    "len(word_index)"
   ]
  },
  {
   "cell_type": "code",
   "execution_count": 56,
   "metadata": {},
   "outputs": [
    {
     "name": "stdout",
     "output_type": "stream",
     "text": [
      "loading model from /data/gpf/gpf_dl/tests/tmp_torch_model.torch\n"
     ]
    }
   ],
   "source": [
    "vocal_size = len(word_index)\n",
    "embedding_dim = 7\n",
    "n_hidden = 128\n",
    "n_out = 4\n",
    "\n",
    "m = model.SimpleGRU(vocal_size,embedding_dim,n_hidden,n_out).to(torch.device('cuda:0'))\n",
    "core.load_model(m)\n",
    "#m = core.load_model(m,'mc_979.torch')"
   ]
  },
  {
   "cell_type": "code",
   "execution_count": 57,
   "metadata": {},
   "outputs": [],
   "source": [
    "X = df_train.x.apply(core.str2arr)\n",
    "y = core.index_labels(df_train.y1,label_index)"
   ]
  },
  {
   "cell_type": "code",
   "execution_count": 58,
   "metadata": {},
   "outputs": [],
   "source": [
    "opt = optim.SGD(m.parameters(), lr=0.0001,momentum=0.9)\n",
    "loss_fn = F.nll_loss"
   ]
  },
  {
   "cell_type": "code",
   "execution_count": 59,
   "metadata": {},
   "outputs": [
    {
     "name": "stderr",
     "output_type": "stream",
     "text": [
      "\r",
      "  0%|          | 0/30 [00:00<?, ?it/s]"
     ]
    },
    {
     "name": "stdout",
     "output_type": "stream",
     "text": [
      "model is been trained on cuda:0\n",
      "min category: 3, num: 7612\n",
      "category: 0, origin_len: 32802, new_len: 7595\n",
      "category: 1, origin_len: 10464, new_len: 7661\n",
      "category: 2, origin_len: 8745, new_len: 7594\n",
      "category: 3, origin_len: 7612, new_len: 7612\n",
      "Making batches... batch size: 512,num of batchese: 60\n",
      "Epoch: 0 Generator: 0, total loss: 3.8215161487460136\n",
      "min category: 3, num: 7612\n",
      "category: 0, origin_len: 32802, new_len: 7612\n",
      "category: 1, origin_len: 10464, new_len: 7639\n",
      "category: 2, origin_len: 8745, new_len: 7583\n",
      "category: 3, origin_len: 7612, new_len: 7612\n",
      "Making batches... batch size: 512,num of batchese: 60\n",
      "Epoch: 0 Generator: 1, total loss: 4.006442226469517\n",
      "min category: 3, num: 7612\n",
      "category: 0, origin_len: 32802, new_len: 7664\n",
      "category: 1, origin_len: 10464, new_len: 7647\n",
      "category: 2, origin_len: 8745, new_len: 7615\n",
      "category: 3, origin_len: 7612, new_len: 7612\n",
      "Making batches... batch size: 512,num of batchese: 60\n"
     ]
    },
    {
     "name": "stderr",
     "output_type": "stream",
     "text": [
      "\r",
      "  3%|▎         | 1/30 [00:03<01:27,  3.01s/it]"
     ]
    },
    {
     "name": "stdout",
     "output_type": "stream",
     "text": [
      "Epoch: 0 Generator: 2, total loss: 3.884910475462675\n",
      "min category: 3, num: 7612\n",
      "category: 0, origin_len: 32802, new_len: 7585\n",
      "category: 1, origin_len: 10464, new_len: 7638\n",
      "category: 2, origin_len: 8745, new_len: 7647\n",
      "category: 3, origin_len: 7612, new_len: 7612\n",
      "Making batches... batch size: 512,num of batchese: 60\n",
      "Epoch: 1 Generator: 0, total loss: 3.8624689504504204\n",
      "min category: 3, num: 7612\n",
      "category: 0, origin_len: 32802, new_len: 7635\n",
      "category: 1, origin_len: 10464, new_len: 7616\n",
      "category: 2, origin_len: 8745, new_len: 7588\n",
      "category: 3, origin_len: 7612, new_len: 7612\n",
      "Making batches... batch size: 512,num of batchese: 60\n",
      "Epoch: 1 Generator: 1, total loss: 3.8495082557201385\n",
      "min category: 3, num: 7612\n",
      "category: 0, origin_len: 32802, new_len: 7710\n",
      "category: 1, origin_len: 10464, new_len: 7650\n",
      "category: 2, origin_len: 8745, new_len: 7623\n",
      "category: 3, origin_len: 7612, new_len: 7612\n",
      "Making batches... batch size: 512,num of batchese: 60\n"
     ]
    },
    {
     "name": "stderr",
     "output_type": "stream",
     "text": [
      "\r",
      "  7%|▋         | 2/30 [00:05<01:23,  2.99s/it]"
     ]
    },
    {
     "name": "stdout",
     "output_type": "stream",
     "text": [
      "Epoch: 1 Generator: 2, total loss: 3.952922347933054\n",
      "min category: 3, num: 7612\n",
      "category: 0, origin_len: 32802, new_len: 7661\n",
      "category: 1, origin_len: 10464, new_len: 7628\n",
      "category: 2, origin_len: 8745, new_len: 7601\n",
      "category: 3, origin_len: 7612, new_len: 7612\n",
      "Making batches... batch size: 512,num of batchese: 60\n",
      "Epoch: 2 Generator: 0, total loss: 3.886875741183758\n",
      "min category: 3, num: 7612\n",
      "category: 0, origin_len: 32802, new_len: 7816\n",
      "category: 1, origin_len: 10464, new_len: 7640\n",
      "category: 2, origin_len: 8745, new_len: 7589\n",
      "category: 3, origin_len: 7612, new_len: 7612\n",
      "Making batches... batch size: 512,num of batchese: 60\n",
      "Epoch: 2 Generator: 1, total loss: 3.878221619874239\n",
      "min category: 3, num: 7612\n",
      "category: 0, origin_len: 32802, new_len: 7626\n",
      "category: 1, origin_len: 10464, new_len: 7638\n",
      "category: 2, origin_len: 8745, new_len: 7616\n",
      "category: 3, origin_len: 7612, new_len: 7612\n",
      "Making batches... batch size: 512,num of batchese: 60\n"
     ]
    },
    {
     "name": "stderr",
     "output_type": "stream",
     "text": [
      "\r",
      " 10%|█         | 3/30 [00:08<01:20,  2.98s/it]"
     ]
    },
    {
     "name": "stdout",
     "output_type": "stream",
     "text": [
      "Epoch: 2 Generator: 2, total loss: 3.8403456434607506\n",
      "min category: 3, num: 7612\n",
      "category: 0, origin_len: 32802, new_len: 7583\n",
      "category: 1, origin_len: 10464, new_len: 7604\n",
      "category: 2, origin_len: 8745, new_len: 7637\n",
      "category: 3, origin_len: 7612, new_len: 7612\n",
      "Making batches... batch size: 512,num of batchese: 60\n",
      "Epoch: 3 Generator: 0, total loss: 3.815251551568508\n",
      "min category: 3, num: 7612\n",
      "category: 0, origin_len: 32802, new_len: 7556\n",
      "category: 1, origin_len: 10464, new_len: 7537\n",
      "category: 2, origin_len: 8745, new_len: 7595\n",
      "category: 3, origin_len: 7612, new_len: 7612\n",
      "Making batches... batch size: 512,num of batchese: 60\n",
      "Epoch: 3 Generator: 1, total loss: 3.9128881618380547\n",
      "min category: 3, num: 7612\n",
      "category: 0, origin_len: 32802, new_len: 7653\n",
      "category: 1, origin_len: 10464, new_len: 7654\n",
      "category: 2, origin_len: 8745, new_len: 7622\n",
      "category: 3, origin_len: 7612, new_len: 7612\n",
      "Making batches... batch size: 512,num of batchese: 60\n"
     ]
    },
    {
     "name": "stderr",
     "output_type": "stream",
     "text": [
      "\r",
      " 13%|█▎        | 4/30 [00:11<01:17,  2.98s/it]"
     ]
    },
    {
     "name": "stdout",
     "output_type": "stream",
     "text": [
      "Epoch: 3 Generator: 2, total loss: 3.7425716035068035\n",
      "min category: 3, num: 7612\n",
      "category: 0, origin_len: 32802, new_len: 7568\n",
      "category: 1, origin_len: 10464, new_len: 7601\n",
      "category: 2, origin_len: 8745, new_len: 7646\n",
      "category: 3, origin_len: 7612, new_len: 7612\n",
      "Making batches... batch size: 512,num of batchese: 60\n",
      "Epoch: 4 Generator: 0, total loss: 3.848473187536001\n",
      "min category: 3, num: 7612\n",
      "category: 0, origin_len: 32802, new_len: 7637\n",
      "category: 1, origin_len: 10464, new_len: 7597\n",
      "category: 2, origin_len: 8745, new_len: 7644\n",
      "category: 3, origin_len: 7612, new_len: 7612\n",
      "Making batches... batch size: 512,num of batchese: 60\n",
      "Epoch: 4 Generator: 1, total loss: 3.7097183167934418\n",
      "min category: 3, num: 7612\n",
      "category: 0, origin_len: 32802, new_len: 7752\n",
      "category: 1, origin_len: 10464, new_len: 7601\n",
      "category: 2, origin_len: 8745, new_len: 7591\n",
      "category: 3, origin_len: 7612, new_len: 7612\n",
      "Making batches... batch size: 512,num of batchese: 60\n"
     ]
    },
    {
     "name": "stderr",
     "output_type": "stream",
     "text": [
      "\r",
      " 17%|█▋        | 5/30 [00:14<01:14,  2.98s/it]"
     ]
    },
    {
     "name": "stdout",
     "output_type": "stream",
     "text": [
      "Epoch: 4 Generator: 2, total loss: 3.6937918066978455\n",
      "min category: 3, num: 7612\n",
      "category: 0, origin_len: 32802, new_len: 7818\n",
      "category: 1, origin_len: 10464, new_len: 7621\n",
      "category: 2, origin_len: 8745, new_len: 7595\n",
      "category: 3, origin_len: 7612, new_len: 7612\n",
      "Making batches... batch size: 512,num of batchese: 60\n",
      "Epoch: 5 Generator: 0, total loss: 3.8928356431424618\n",
      "min category: 3, num: 7612\n",
      "category: 0, origin_len: 32802, new_len: 7667\n",
      "category: 1, origin_len: 10464, new_len: 7618\n",
      "category: 2, origin_len: 8745, new_len: 7630\n",
      "category: 3, origin_len: 7612, new_len: 7612\n",
      "Making batches... batch size: 512,num of batchese: 60\n",
      "Epoch: 5 Generator: 1, total loss: 3.891594845801592\n",
      "min category: 3, num: 7612\n",
      "category: 0, origin_len: 32802, new_len: 7400\n",
      "category: 1, origin_len: 10464, new_len: 7706\n",
      "category: 2, origin_len: 8745, new_len: 7587\n",
      "category: 3, origin_len: 7612, new_len: 7612\n",
      "Making batches... batch size: 512,num of batchese: 60\n"
     ]
    },
    {
     "name": "stderr",
     "output_type": "stream",
     "text": [
      "\r",
      " 20%|██        | 6/30 [00:17<01:11,  2.97s/it]"
     ]
    },
    {
     "name": "stdout",
     "output_type": "stream",
     "text": [
      "Epoch: 5 Generator: 2, total loss: 3.767756186425686\n",
      "min category: 3, num: 7612\n",
      "category: 0, origin_len: 32802, new_len: 7524\n",
      "category: 1, origin_len: 10464, new_len: 7641\n",
      "category: 2, origin_len: 8745, new_len: 7654\n",
      "category: 3, origin_len: 7612, new_len: 7612\n",
      "Making batches... batch size: 512,num of batchese: 60\n",
      "Epoch: 6 Generator: 0, total loss: 3.7726883962750435\n",
      "min category: 3, num: 7612\n",
      "category: 0, origin_len: 32802, new_len: 7557\n",
      "category: 1, origin_len: 10464, new_len: 7557\n",
      "category: 2, origin_len: 8745, new_len: 7573\n",
      "category: 3, origin_len: 7612, new_len: 7612\n",
      "Making batches... batch size: 512,num of batchese: 60\n",
      "Epoch: 6 Generator: 1, total loss: 3.9937545619904995\n",
      "min category: 3, num: 7612\n",
      "category: 0, origin_len: 32802, new_len: 7666\n",
      "category: 1, origin_len: 10464, new_len: 7565\n",
      "category: 2, origin_len: 8745, new_len: 7596\n",
      "category: 3, origin_len: 7612, new_len: 7612\n",
      "Making batches... batch size: 512,num of batchese: 60\n"
     ]
    },
    {
     "name": "stderr",
     "output_type": "stream",
     "text": [
      "\r",
      " 23%|██▎       | 7/30 [00:20<01:08,  2.97s/it]"
     ]
    },
    {
     "name": "stdout",
     "output_type": "stream",
     "text": [
      "Epoch: 6 Generator: 2, total loss: 3.833660699427128\n",
      "min category: 3, num: 7612\n",
      "category: 0, origin_len: 32802, new_len: 7523\n",
      "category: 1, origin_len: 10464, new_len: 7523\n",
      "category: 2, origin_len: 8745, new_len: 7622\n",
      "category: 3, origin_len: 7612, new_len: 7612\n",
      "Making batches... batch size: 512,num of batchese: 60\n",
      "Epoch: 7 Generator: 0, total loss: 3.8474993593990803\n",
      "min category: 3, num: 7612\n",
      "category: 0, origin_len: 32802, new_len: 7613\n",
      "category: 1, origin_len: 10464, new_len: 7701\n",
      "category: 2, origin_len: 8745, new_len: 7649\n",
      "category: 3, origin_len: 7612, new_len: 7612\n",
      "Making batches... batch size: 512,num of batchese: 60\n",
      "Epoch: 7 Generator: 1, total loss: 3.7438194043934345\n",
      "min category: 3, num: 7612\n",
      "category: 0, origin_len: 32802, new_len: 7518\n",
      "category: 1, origin_len: 10464, new_len: 7546\n",
      "category: 2, origin_len: 8745, new_len: 7662\n",
      "category: 3, origin_len: 7612, new_len: 7612\n",
      "Making batches... batch size: 512,num of batchese: 60\n"
     ]
    },
    {
     "name": "stderr",
     "output_type": "stream",
     "text": [
      "\r",
      " 27%|██▋       | 8/30 [00:23<01:05,  2.97s/it]"
     ]
    },
    {
     "name": "stdout",
     "output_type": "stream",
     "text": [
      "Epoch: 7 Generator: 2, total loss: 3.844980739057064\n",
      "min category: 3, num: 7612\n",
      "category: 0, origin_len: 32802, new_len: 7502\n",
      "category: 1, origin_len: 10464, new_len: 7573\n",
      "category: 2, origin_len: 8745, new_len: 7581\n",
      "category: 3, origin_len: 7612, new_len: 7612\n",
      "Making batches... batch size: 512,num of batchese: 60\n",
      "Epoch: 8 Generator: 0, total loss: 3.7652844972908497\n",
      "min category: 3, num: 7612\n",
      "category: 0, origin_len: 32802, new_len: 7721\n",
      "category: 1, origin_len: 10464, new_len: 7534\n",
      "category: 2, origin_len: 8745, new_len: 7596\n",
      "category: 3, origin_len: 7612, new_len: 7612\n",
      "Making batches... batch size: 512,num of batchese: 60\n",
      "Epoch: 8 Generator: 1, total loss: 3.934292998164892\n",
      "min category: 3, num: 7612\n",
      "category: 0, origin_len: 32802, new_len: 7466\n",
      "category: 1, origin_len: 10464, new_len: 7647\n",
      "category: 2, origin_len: 8745, new_len: 7580\n",
      "category: 3, origin_len: 7612, new_len: 7612\n",
      "Making batches... batch size: 512,num of batchese: 60\n"
     ]
    },
    {
     "name": "stderr",
     "output_type": "stream",
     "text": [
      "\r",
      " 30%|███       | 9/30 [00:26<01:02,  2.97s/it]"
     ]
    },
    {
     "name": "stdout",
     "output_type": "stream",
     "text": [
      "Epoch: 8 Generator: 2, total loss: 3.885139398276806\n",
      "min category: 3, num: 7612\n",
      "category: 0, origin_len: 32802, new_len: 7604\n",
      "category: 1, origin_len: 10464, new_len: 7661\n",
      "category: 2, origin_len: 8745, new_len: 7649\n",
      "category: 3, origin_len: 7612, new_len: 7612\n",
      "Making batches... batch size: 512,num of batchese: 60\n",
      "Epoch: 9 Generator: 0, total loss: 3.9109858088195324\n",
      "min category: 3, num: 7612\n",
      "category: 0, origin_len: 32802, new_len: 7525\n",
      "category: 1, origin_len: 10464, new_len: 7606\n",
      "category: 2, origin_len: 8745, new_len: 7621\n",
      "category: 3, origin_len: 7612, new_len: 7612\n",
      "Making batches... batch size: 512,num of batchese: 60\n",
      "Epoch: 9 Generator: 1, total loss: 3.9582002200186253\n",
      "min category: 3, num: 7612\n",
      "category: 0, origin_len: 32802, new_len: 7606\n",
      "category: 1, origin_len: 10464, new_len: 7513\n",
      "category: 2, origin_len: 8745, new_len: 7639\n",
      "category: 3, origin_len: 7612, new_len: 7612\n",
      "Making batches... batch size: 512,num of batchese: 60\n"
     ]
    },
    {
     "name": "stderr",
     "output_type": "stream",
     "text": [
      "\r",
      " 33%|███▎      | 10/30 [00:29<00:59,  2.96s/it]"
     ]
    },
    {
     "name": "stdout",
     "output_type": "stream",
     "text": [
      "Epoch: 9 Generator: 2, total loss: 3.8514481633901596\n",
      "min category: 3, num: 7612\n",
      "category: 0, origin_len: 32802, new_len: 7543\n",
      "category: 1, origin_len: 10464, new_len: 7534\n",
      "category: 2, origin_len: 8745, new_len: 7596\n",
      "category: 3, origin_len: 7612, new_len: 7612\n",
      "Making batches... batch size: 512,num of batchese: 60\n",
      "Epoch: 10 Generator: 0, total loss: 3.7935026586055756\n",
      "min category: 3, num: 7612\n",
      "category: 0, origin_len: 32802, new_len: 7571\n",
      "category: 1, origin_len: 10464, new_len: 7574\n",
      "category: 2, origin_len: 8745, new_len: 7641\n",
      "category: 3, origin_len: 7612, new_len: 7612\n",
      "Making batches... batch size: 512,num of batchese: 60\n",
      "Epoch: 10 Generator: 1, total loss: 3.796982064843178\n",
      "min category: 3, num: 7612\n",
      "category: 0, origin_len: 32802, new_len: 7530\n",
      "category: 1, origin_len: 10464, new_len: 7494\n",
      "category: 2, origin_len: 8745, new_len: 7608\n",
      "category: 3, origin_len: 7612, new_len: 7612\n",
      "Making batches... batch size: 512,num of batchese: 60\n"
     ]
    },
    {
     "name": "stderr",
     "output_type": "stream",
     "text": [
      "\r",
      " 37%|███▋      | 11/30 [00:32<00:56,  2.96s/it]"
     ]
    },
    {
     "name": "stdout",
     "output_type": "stream",
     "text": [
      "Epoch: 10 Generator: 2, total loss: 4.36020502820611\n",
      "min category: 3, num: 7612\n",
      "category: 0, origin_len: 32802, new_len: 7635\n",
      "category: 1, origin_len: 10464, new_len: 7697\n",
      "category: 2, origin_len: 8745, new_len: 7607\n",
      "category: 3, origin_len: 7612, new_len: 7612\n",
      "Making batches... batch size: 512,num of batchese: 60\n",
      "Epoch: 11 Generator: 0, total loss: 3.8959263265132904\n",
      "min category: 3, num: 7612\n",
      "category: 0, origin_len: 32802, new_len: 7641\n",
      "category: 1, origin_len: 10464, new_len: 7632\n",
      "category: 2, origin_len: 8745, new_len: 7611\n",
      "category: 3, origin_len: 7612, new_len: 7612\n",
      "Making batches... batch size: 512,num of batchese: 60\n",
      "Epoch: 11 Generator: 1, total loss: 3.831804733723402\n",
      "min category: 3, num: 7612\n",
      "category: 0, origin_len: 32802, new_len: 7565\n",
      "category: 1, origin_len: 10464, new_len: 7565\n",
      "category: 2, origin_len: 8745, new_len: 7648\n",
      "category: 3, origin_len: 7612, new_len: 7612\n",
      "Making batches... batch size: 512,num of batchese: 60\n"
     ]
    },
    {
     "name": "stderr",
     "output_type": "stream",
     "text": [
      "\r",
      " 40%|████      | 12/30 [00:35<00:53,  2.96s/it]"
     ]
    },
    {
     "name": "stdout",
     "output_type": "stream",
     "text": [
      "Epoch: 11 Generator: 2, total loss: 3.709865063428879\n",
      "min category: 3, num: 7612\n",
      "category: 0, origin_len: 32802, new_len: 7470\n",
      "category: 1, origin_len: 10464, new_len: 7579\n",
      "category: 2, origin_len: 8745, new_len: 7598\n",
      "category: 3, origin_len: 7612, new_len: 7612\n",
      "Making batches... batch size: 512,num of batchese: 60\n",
      "Epoch: 12 Generator: 0, total loss: 3.835065744817257\n",
      "min category: 3, num: 7612\n",
      "category: 0, origin_len: 32802, new_len: 7599\n",
      "category: 1, origin_len: 10464, new_len: 7601\n",
      "category: 2, origin_len: 8745, new_len: 7603\n",
      "category: 3, origin_len: 7612, new_len: 7612\n",
      "Making batches... batch size: 512,num of batchese: 60\n",
      "Epoch: 12 Generator: 1, total loss: 3.824267853051424\n",
      "min category: 3, num: 7612\n",
      "category: 0, origin_len: 32802, new_len: 7643\n",
      "category: 1, origin_len: 10464, new_len: 7712\n",
      "category: 2, origin_len: 8745, new_len: 7675\n",
      "category: 3, origin_len: 7612, new_len: 7612\n",
      "Making batches... batch size: 512,num of batchese: 60\n"
     ]
    },
    {
     "name": "stderr",
     "output_type": "stream",
     "text": [
      "\r",
      " 43%|████▎     | 13/30 [00:38<00:50,  2.96s/it]"
     ]
    },
    {
     "name": "stdout",
     "output_type": "stream",
     "text": [
      "Epoch: 12 Generator: 2, total loss: 3.858436558395624\n",
      "min category: 3, num: 7612\n",
      "category: 0, origin_len: 32802, new_len: 7552\n",
      "category: 1, origin_len: 10464, new_len: 7562\n",
      "category: 2, origin_len: 8745, new_len: 7600\n",
      "category: 3, origin_len: 7612, new_len: 7612\n",
      "Making batches... batch size: 512,num of batchese: 60\n",
      "Epoch: 13 Generator: 0, total loss: 3.7427150048315525\n",
      "min category: 3, num: 7612\n",
      "category: 0, origin_len: 32802, new_len: 7631\n",
      "category: 1, origin_len: 10464, new_len: 7597\n",
      "category: 2, origin_len: 8745, new_len: 7596\n",
      "category: 3, origin_len: 7612, new_len: 7612\n",
      "Making batches... batch size: 512,num of batchese: 60\n",
      "Epoch: 13 Generator: 1, total loss: 3.864627379924059\n",
      "min category: 3, num: 7612\n",
      "category: 0, origin_len: 32802, new_len: 7703\n",
      "category: 1, origin_len: 10464, new_len: 7557\n",
      "category: 2, origin_len: 8745, new_len: 7541\n",
      "category: 3, origin_len: 7612, new_len: 7612\n",
      "Making batches... batch size: 512,num of batchese: 60\n"
     ]
    },
    {
     "name": "stderr",
     "output_type": "stream",
     "text": [
      "\r",
      " 47%|████▋     | 14/30 [00:41<00:47,  2.96s/it]"
     ]
    },
    {
     "name": "stdout",
     "output_type": "stream",
     "text": [
      "Epoch: 13 Generator: 2, total loss: 3.9291746094822884\n",
      "min category: 3, num: 7612\n",
      "category: 0, origin_len: 32802, new_len: 7629\n",
      "category: 1, origin_len: 10464, new_len: 7593\n",
      "category: 2, origin_len: 8745, new_len: 7590\n",
      "category: 3, origin_len: 7612, new_len: 7612\n",
      "Making batches... batch size: 512,num of batchese: 60\n",
      "Epoch: 14 Generator: 0, total loss: 3.6987167485058308\n",
      "min category: 3, num: 7612\n",
      "category: 0, origin_len: 32802, new_len: 7660\n",
      "category: 1, origin_len: 10464, new_len: 7577\n",
      "category: 2, origin_len: 8745, new_len: 7637\n",
      "category: 3, origin_len: 7612, new_len: 7612\n",
      "Making batches... batch size: 512,num of batchese: 60\n",
      "Epoch: 14 Generator: 1, total loss: 3.9058773517608643\n",
      "min category: 3, num: 7612\n",
      "category: 0, origin_len: 32802, new_len: 7491\n",
      "category: 1, origin_len: 10464, new_len: 7528\n",
      "category: 2, origin_len: 8745, new_len: 7594\n",
      "category: 3, origin_len: 7612, new_len: 7612\n",
      "Making batches... batch size: 512,num of batchese: 60\n"
     ]
    },
    {
     "name": "stderr",
     "output_type": "stream",
     "text": [
      "\r",
      " 50%|█████     | 15/30 [00:44<00:44,  2.96s/it]"
     ]
    },
    {
     "name": "stdout",
     "output_type": "stream",
     "text": [
      "Epoch: 14 Generator: 2, total loss: 3.8003405183553696\n",
      "min category: 3, num: 7612\n",
      "category: 0, origin_len: 32802, new_len: 7643\n",
      "category: 1, origin_len: 10464, new_len: 7584\n",
      "category: 2, origin_len: 8745, new_len: 7640\n",
      "category: 3, origin_len: 7612, new_len: 7612\n",
      "Making batches... batch size: 512,num of batchese: 60\n",
      "Epoch: 15 Generator: 0, total loss: 3.84507854655385\n",
      "min category: 3, num: 7612\n",
      "category: 0, origin_len: 32802, new_len: 7673\n",
      "category: 1, origin_len: 10464, new_len: 7611\n",
      "category: 2, origin_len: 8745, new_len: 7641\n",
      "category: 3, origin_len: 7612, new_len: 7612\n",
      "Making batches... batch size: 512,num of batchese: 60\n",
      "Epoch: 15 Generator: 1, total loss: 3.8559749834239483\n",
      "min category: 3, num: 7612\n",
      "category: 0, origin_len: 32802, new_len: 7500\n",
      "category: 1, origin_len: 10464, new_len: 7609\n",
      "category: 2, origin_len: 8745, new_len: 7505\n",
      "category: 3, origin_len: 7612, new_len: 7612\n",
      "Making batches... batch size: 512,num of batchese: 60\n"
     ]
    },
    {
     "name": "stderr",
     "output_type": "stream",
     "text": [
      "\r",
      " 53%|█████▎    | 16/30 [00:47<00:41,  2.96s/it]"
     ]
    },
    {
     "name": "stdout",
     "output_type": "stream",
     "text": [
      "Epoch: 15 Generator: 2, total loss: 3.95406249538064\n",
      "min category: 3, num: 7612\n",
      "category: 0, origin_len: 32802, new_len: 7598\n",
      "category: 1, origin_len: 10464, new_len: 7684\n",
      "category: 2, origin_len: 8745, new_len: 7574\n",
      "category: 3, origin_len: 7612, new_len: 7612\n",
      "Making batches... batch size: 512,num of batchese: 60\n",
      "Epoch: 16 Generator: 0, total loss: 3.776759769767523\n",
      "min category: 3, num: 7612\n",
      "category: 0, origin_len: 32802, new_len: 7655\n",
      "category: 1, origin_len: 10464, new_len: 7650\n",
      "category: 2, origin_len: 8745, new_len: 7566\n",
      "category: 3, origin_len: 7612, new_len: 7612\n",
      "Making batches... batch size: 512,num of batchese: 60\n",
      "Epoch: 16 Generator: 1, total loss: 3.7436967380344868\n",
      "min category: 3, num: 7612\n",
      "category: 0, origin_len: 32802, new_len: 7639\n",
      "category: 1, origin_len: 10464, new_len: 7562\n",
      "category: 2, origin_len: 8745, new_len: 7628\n",
      "category: 3, origin_len: 7612, new_len: 7612\n",
      "Making batches... batch size: 512,num of batchese: 60\n"
     ]
    },
    {
     "name": "stderr",
     "output_type": "stream",
     "text": [
      "\r",
      " 57%|█████▋    | 17/30 [00:50<00:38,  2.96s/it]"
     ]
    },
    {
     "name": "stdout",
     "output_type": "stream",
     "text": [
      "Epoch: 16 Generator: 2, total loss: 3.686385128647089\n",
      "min category: 3, num: 7612\n",
      "category: 0, origin_len: 32802, new_len: 7598\n",
      "category: 1, origin_len: 10464, new_len: 7558\n",
      "category: 2, origin_len: 8745, new_len: 7567\n",
      "category: 3, origin_len: 7612, new_len: 7612\n",
      "Making batches... batch size: 512,num of batchese: 60\n",
      "Epoch: 17 Generator: 0, total loss: 3.7222911193966866\n",
      "min category: 3, num: 7612\n",
      "category: 0, origin_len: 32802, new_len: 7655\n",
      "category: 1, origin_len: 10464, new_len: 7630\n",
      "category: 2, origin_len: 8745, new_len: 7610\n",
      "category: 3, origin_len: 7612, new_len: 7612\n",
      "Making batches... batch size: 512,num of batchese: 60\n",
      "Epoch: 17 Generator: 1, total loss: 3.788298960775137\n",
      "min category: 3, num: 7612\n",
      "category: 0, origin_len: 32802, new_len: 7575\n",
      "category: 1, origin_len: 10464, new_len: 7627\n",
      "category: 2, origin_len: 8745, new_len: 7658\n",
      "category: 3, origin_len: 7612, new_len: 7612\n",
      "Making batches... batch size: 512,num of batchese: 60\n"
     ]
    },
    {
     "name": "stderr",
     "output_type": "stream",
     "text": [
      "\r",
      " 60%|██████    | 18/30 [00:53<00:35,  2.96s/it]"
     ]
    },
    {
     "name": "stdout",
     "output_type": "stream",
     "text": [
      "Epoch: 17 Generator: 2, total loss: 3.862661622464657\n",
      "min category: 3, num: 7612\n",
      "category: 0, origin_len: 32802, new_len: 7585\n",
      "category: 1, origin_len: 10464, new_len: 7629\n",
      "category: 2, origin_len: 8745, new_len: 7587\n",
      "category: 3, origin_len: 7612, new_len: 7612\n",
      "Making batches... batch size: 512,num of batchese: 60\n",
      "Epoch: 18 Generator: 0, total loss: 3.8964882865548134\n",
      "min category: 3, num: 7612\n",
      "category: 0, origin_len: 32802, new_len: 7524\n",
      "category: 1, origin_len: 10464, new_len: 7702\n",
      "category: 2, origin_len: 8745, new_len: 7616\n",
      "category: 3, origin_len: 7612, new_len: 7612\n",
      "Making batches... batch size: 512,num of batchese: 60\n",
      "Epoch: 18 Generator: 1, total loss: 3.87263860180974\n",
      "min category: 3, num: 7612\n",
      "category: 0, origin_len: 32802, new_len: 7863\n",
      "category: 1, origin_len: 10464, new_len: 7602\n",
      "category: 2, origin_len: 8745, new_len: 7577\n",
      "category: 3, origin_len: 7612, new_len: 7612\n",
      "Making batches... batch size: 512,num of batchese: 60\n"
     ]
    },
    {
     "name": "stderr",
     "output_type": "stream",
     "text": [
      "\r",
      " 63%|██████▎   | 19/30 [00:56<00:32,  2.96s/it]"
     ]
    },
    {
     "name": "stdout",
     "output_type": "stream",
     "text": [
      "Epoch: 18 Generator: 2, total loss: 3.833405241370201\n",
      "min category: 3, num: 7612\n",
      "category: 0, origin_len: 32802, new_len: 7577\n",
      "category: 1, origin_len: 10464, new_len: 7624\n",
      "category: 2, origin_len: 8745, new_len: 7640\n",
      "category: 3, origin_len: 7612, new_len: 7612\n",
      "Making batches... batch size: 512,num of batchese: 60\n",
      "Epoch: 19 Generator: 0, total loss: 3.6827764622867107\n",
      "min category: 3, num: 7612\n",
      "category: 0, origin_len: 32802, new_len: 7662\n",
      "category: 1, origin_len: 10464, new_len: 7544\n",
      "category: 2, origin_len: 8745, new_len: 7605\n",
      "category: 3, origin_len: 7612, new_len: 7612\n",
      "Making batches... batch size: 512,num of batchese: 60\n",
      "Epoch: 19 Generator: 1, total loss: 3.7500012442469597\n",
      "min category: 3, num: 7612\n",
      "category: 0, origin_len: 32802, new_len: 7609\n",
      "category: 1, origin_len: 10464, new_len: 7587\n",
      "category: 2, origin_len: 8745, new_len: 7558\n",
      "category: 3, origin_len: 7612, new_len: 7612\n",
      "Making batches... batch size: 512,num of batchese: 60\n"
     ]
    },
    {
     "name": "stderr",
     "output_type": "stream",
     "text": [
      "\r",
      " 67%|██████▋   | 20/30 [00:59<00:29,  2.96s/it]"
     ]
    },
    {
     "name": "stdout",
     "output_type": "stream",
     "text": [
      "Epoch: 19 Generator: 2, total loss: 3.99136471375823\n",
      "min category: 3, num: 7612\n",
      "category: 0, origin_len: 32802, new_len: 7469\n",
      "category: 1, origin_len: 10464, new_len: 7639\n",
      "category: 2, origin_len: 8745, new_len: 7669\n",
      "category: 3, origin_len: 7612, new_len: 7612\n",
      "Making batches... batch size: 512,num of batchese: 60\n",
      "Epoch: 20 Generator: 0, total loss: 3.8623459339141846\n",
      "min category: 3, num: 7612\n",
      "category: 0, origin_len: 32802, new_len: 7625\n",
      "category: 1, origin_len: 10464, new_len: 7596\n",
      "category: 2, origin_len: 8745, new_len: 7643\n",
      "category: 3, origin_len: 7612, new_len: 7612\n",
      "Making batches... batch size: 512,num of batchese: 60\n",
      "Epoch: 20 Generator: 1, total loss: 3.8291466012597084\n",
      "min category: 3, num: 7612\n",
      "category: 0, origin_len: 32802, new_len: 7589\n",
      "category: 1, origin_len: 10464, new_len: 7577\n",
      "category: 2, origin_len: 8745, new_len: 7616\n",
      "category: 3, origin_len: 7612, new_len: 7612\n",
      "Making batches... batch size: 512,num of batchese: 60\n"
     ]
    },
    {
     "name": "stderr",
     "output_type": "stream",
     "text": [
      "\r",
      " 70%|███████   | 21/30 [01:02<00:26,  2.96s/it]"
     ]
    },
    {
     "name": "stdout",
     "output_type": "stream",
     "text": [
      "Epoch: 20 Generator: 2, total loss: 3.8287708200514317\n",
      "min category: 3, num: 7612\n",
      "category: 0, origin_len: 32802, new_len: 7627\n",
      "category: 1, origin_len: 10464, new_len: 7694\n",
      "category: 2, origin_len: 8745, new_len: 7700\n",
      "category: 3, origin_len: 7612, new_len: 7612\n",
      "Making batches... batch size: 512,num of batchese: 60\n",
      "Epoch: 21 Generator: 0, total loss: 3.9567470736801624\n",
      "min category: 3, num: 7612\n",
      "category: 0, origin_len: 32802, new_len: 7732\n",
      "category: 1, origin_len: 10464, new_len: 7639\n",
      "category: 2, origin_len: 8745, new_len: 7593\n",
      "category: 3, origin_len: 7612, new_len: 7612\n",
      "Making batches... batch size: 512,num of batchese: 60\n",
      "Epoch: 21 Generator: 1, total loss: 3.764782562851906\n",
      "min category: 3, num: 7612\n",
      "category: 0, origin_len: 32802, new_len: 7524\n",
      "category: 1, origin_len: 10464, new_len: 7604\n",
      "category: 2, origin_len: 8745, new_len: 7619\n",
      "category: 3, origin_len: 7612, new_len: 7612\n",
      "Making batches... batch size: 512,num of batchese: 60\n"
     ]
    },
    {
     "name": "stderr",
     "output_type": "stream",
     "text": [
      "\r",
      " 73%|███████▎  | 22/30 [01:05<00:23,  2.96s/it]"
     ]
    },
    {
     "name": "stdout",
     "output_type": "stream",
     "text": [
      "Epoch: 21 Generator: 2, total loss: 3.735083792358637\n",
      "min category: 3, num: 7612\n",
      "category: 0, origin_len: 32802, new_len: 7730\n",
      "category: 1, origin_len: 10464, new_len: 7665\n",
      "category: 2, origin_len: 8745, new_len: 7650\n",
      "category: 3, origin_len: 7612, new_len: 7612\n",
      "Making batches... batch size: 512,num of batchese: 60\n",
      "Epoch: 22 Generator: 0, total loss: 3.9005158450454473\n",
      "min category: 3, num: 7612\n",
      "category: 0, origin_len: 32802, new_len: 7567\n",
      "category: 1, origin_len: 10464, new_len: 7677\n",
      "category: 2, origin_len: 8745, new_len: 7577\n",
      "category: 3, origin_len: 7612, new_len: 7612\n",
      "Making batches... batch size: 512,num of batchese: 60\n",
      "Epoch: 22 Generator: 1, total loss: 3.871440377086401\n",
      "min category: 3, num: 7612\n",
      "category: 0, origin_len: 32802, new_len: 7670\n",
      "category: 1, origin_len: 10464, new_len: 7611\n",
      "category: 2, origin_len: 8745, new_len: 7605\n",
      "category: 3, origin_len: 7612, new_len: 7612\n",
      "Making batches... batch size: 512,num of batchese: 60\n"
     ]
    },
    {
     "name": "stderr",
     "output_type": "stream",
     "text": [
      "\r",
      " 77%|███████▋  | 23/30 [01:08<00:20,  2.96s/it]"
     ]
    },
    {
     "name": "stdout",
     "output_type": "stream",
     "text": [
      "Epoch: 22 Generator: 2, total loss: 3.6689446717500687\n",
      "min category: 3, num: 7612\n",
      "category: 0, origin_len: 32802, new_len: 7467\n",
      "category: 1, origin_len: 10464, new_len: 7602\n",
      "category: 2, origin_len: 8745, new_len: 7639\n",
      "category: 3, origin_len: 7612, new_len: 7612\n",
      "Making batches... batch size: 512,num of batchese: 60\n",
      "Epoch: 23 Generator: 0, total loss: 3.84223160892725\n",
      "min category: 3, num: 7612\n",
      "category: 0, origin_len: 32802, new_len: 7607\n",
      "category: 1, origin_len: 10464, new_len: 7634\n",
      "category: 2, origin_len: 8745, new_len: 7628\n",
      "category: 3, origin_len: 7612, new_len: 7612\n",
      "Making batches... batch size: 512,num of batchese: 60\n",
      "Epoch: 23 Generator: 1, total loss: 3.832441944628954\n",
      "min category: 3, num: 7612\n",
      "category: 0, origin_len: 32802, new_len: 7702\n",
      "category: 1, origin_len: 10464, new_len: 7619\n",
      "category: 2, origin_len: 8745, new_len: 7635\n",
      "category: 3, origin_len: 7612, new_len: 7612\n",
      "Making batches... batch size: 512,num of batchese: 60\n"
     ]
    },
    {
     "name": "stderr",
     "output_type": "stream",
     "text": [
      "\r",
      " 80%|████████  | 24/30 [01:11<00:17,  2.96s/it]"
     ]
    },
    {
     "name": "stdout",
     "output_type": "stream",
     "text": [
      "Epoch: 23 Generator: 2, total loss: 3.7676309235394\n",
      "min category: 3, num: 7612\n",
      "category: 0, origin_len: 32802, new_len: 7756\n",
      "category: 1, origin_len: 10464, new_len: 7608\n",
      "category: 2, origin_len: 8745, new_len: 7614\n",
      "category: 3, origin_len: 7612, new_len: 7612\n",
      "Making batches... batch size: 512,num of batchese: 60\n",
      "Epoch: 24 Generator: 0, total loss: 3.798251334577799\n",
      "min category: 3, num: 7612\n",
      "category: 0, origin_len: 32802, new_len: 7643\n",
      "category: 1, origin_len: 10464, new_len: 7629\n",
      "category: 2, origin_len: 8745, new_len: 7635\n",
      "category: 3, origin_len: 7612, new_len: 7612\n",
      "Making batches... batch size: 512,num of batchese: 60\n",
      "Epoch: 24 Generator: 1, total loss: 3.7343199998140335\n",
      "min category: 3, num: 7612\n",
      "category: 0, origin_len: 32802, new_len: 7602\n",
      "category: 1, origin_len: 10464, new_len: 7507\n",
      "category: 2, origin_len: 8745, new_len: 7632\n",
      "category: 3, origin_len: 7612, new_len: 7612\n",
      "Making batches... batch size: 512,num of batchese: 60\n"
     ]
    },
    {
     "name": "stderr",
     "output_type": "stream",
     "text": [
      "\r",
      " 83%|████████▎ | 25/30 [01:13<00:14,  2.96s/it]"
     ]
    },
    {
     "name": "stdout",
     "output_type": "stream",
     "text": [
      "Epoch: 24 Generator: 2, total loss: 3.7978707142174244\n",
      "min category: 3, num: 7612\n",
      "category: 0, origin_len: 32802, new_len: 7647\n",
      "category: 1, origin_len: 10464, new_len: 7553\n",
      "category: 2, origin_len: 8745, new_len: 7581\n",
      "category: 3, origin_len: 7612, new_len: 7612\n",
      "Making batches... batch size: 512,num of batchese: 60\n",
      "Epoch: 25 Generator: 0, total loss: 3.7819305546581745\n",
      "min category: 3, num: 7612\n",
      "category: 0, origin_len: 32802, new_len: 7610\n",
      "category: 1, origin_len: 10464, new_len: 7660\n",
      "category: 2, origin_len: 8745, new_len: 7587\n",
      "category: 3, origin_len: 7612, new_len: 7612\n",
      "Making batches... batch size: 512,num of batchese: 60\n",
      "Epoch: 25 Generator: 1, total loss: 3.7860495150089264\n",
      "min category: 3, num: 7612\n",
      "category: 0, origin_len: 32802, new_len: 7609\n",
      "category: 1, origin_len: 10464, new_len: 7630\n",
      "category: 2, origin_len: 8745, new_len: 7595\n",
      "category: 3, origin_len: 7612, new_len: 7612\n",
      "Making batches... batch size: 512,num of batchese: 60\n"
     ]
    },
    {
     "name": "stderr",
     "output_type": "stream",
     "text": [
      "\r",
      " 87%|████████▋ | 26/30 [01:16<00:11,  2.96s/it]"
     ]
    },
    {
     "name": "stdout",
     "output_type": "stream",
     "text": [
      "Epoch: 25 Generator: 2, total loss: 3.846931617707014\n",
      "min category: 3, num: 7612\n",
      "category: 0, origin_len: 32802, new_len: 7692\n",
      "category: 1, origin_len: 10464, new_len: 7631\n",
      "category: 2, origin_len: 8745, new_len: 7535\n",
      "category: 3, origin_len: 7612, new_len: 7612\n",
      "Making batches... batch size: 512,num of batchese: 60\n",
      "Epoch: 26 Generator: 0, total loss: 3.9193956032395363\n",
      "min category: 3, num: 7612\n",
      "category: 0, origin_len: 32802, new_len: 7570\n",
      "category: 1, origin_len: 10464, new_len: 7618\n",
      "category: 2, origin_len: 8745, new_len: 7626\n",
      "category: 3, origin_len: 7612, new_len: 7612\n",
      "Making batches... batch size: 512,num of batchese: 60\n",
      "Epoch: 26 Generator: 1, total loss: 3.8872020095586777\n",
      "min category: 3, num: 7612\n",
      "category: 0, origin_len: 32802, new_len: 7656\n",
      "category: 1, origin_len: 10464, new_len: 7542\n",
      "category: 2, origin_len: 8745, new_len: 7627\n",
      "category: 3, origin_len: 7612, new_len: 7612\n",
      "Making batches... batch size: 512,num of batchese: 60\n"
     ]
    },
    {
     "name": "stderr",
     "output_type": "stream",
     "text": [
      "\r",
      " 90%|█████████ | 27/30 [01:19<00:08,  2.96s/it]"
     ]
    },
    {
     "name": "stdout",
     "output_type": "stream",
     "text": [
      "Epoch: 26 Generator: 2, total loss: 3.807413522154093\n",
      "min category: 3, num: 7612\n",
      "category: 0, origin_len: 32802, new_len: 7630\n",
      "category: 1, origin_len: 10464, new_len: 7586\n",
      "category: 2, origin_len: 8745, new_len: 7650\n",
      "category: 3, origin_len: 7612, new_len: 7612\n",
      "Making batches... batch size: 512,num of batchese: 60\n",
      "Epoch: 27 Generator: 0, total loss: 3.8185600824654102\n",
      "min category: 3, num: 7612\n",
      "category: 0, origin_len: 32802, new_len: 7640\n",
      "category: 1, origin_len: 10464, new_len: 7624\n",
      "category: 2, origin_len: 8745, new_len: 7539\n",
      "category: 3, origin_len: 7612, new_len: 7612\n",
      "Making batches... batch size: 512,num of batchese: 60\n",
      "Epoch: 27 Generator: 1, total loss: 3.843062572181225\n",
      "min category: 3, num: 7612\n",
      "category: 0, origin_len: 32802, new_len: 7658\n",
      "category: 1, origin_len: 10464, new_len: 7605\n",
      "category: 2, origin_len: 8745, new_len: 7628\n",
      "category: 3, origin_len: 7612, new_len: 7612\n",
      "Making batches... batch size: 512,num of batchese: 60\n"
     ]
    },
    {
     "name": "stderr",
     "output_type": "stream",
     "text": [
      "\r",
      " 93%|█████████▎| 28/30 [01:22<00:05,  2.96s/it]"
     ]
    },
    {
     "name": "stdout",
     "output_type": "stream",
     "text": [
      "Epoch: 27 Generator: 2, total loss: 3.8195355646312237\n",
      "min category: 3, num: 7612\n",
      "category: 0, origin_len: 32802, new_len: 7671\n",
      "category: 1, origin_len: 10464, new_len: 7624\n",
      "category: 2, origin_len: 8745, new_len: 7616\n",
      "category: 3, origin_len: 7612, new_len: 7612\n",
      "Making batches... batch size: 512,num of batchese: 60\n",
      "Epoch: 28 Generator: 0, total loss: 3.961236357688904\n",
      "min category: 3, num: 7612\n",
      "category: 0, origin_len: 32802, new_len: 7589\n",
      "category: 1, origin_len: 10464, new_len: 7705\n",
      "category: 2, origin_len: 8745, new_len: 7544\n",
      "category: 3, origin_len: 7612, new_len: 7612\n",
      "Making batches... batch size: 512,num of batchese: 60\n",
      "Epoch: 28 Generator: 1, total loss: 3.850905556231737\n",
      "min category: 3, num: 7612\n",
      "category: 0, origin_len: 32802, new_len: 7658\n",
      "category: 1, origin_len: 10464, new_len: 7620\n",
      "category: 2, origin_len: 8745, new_len: 7643\n",
      "category: 3, origin_len: 7612, new_len: 7612\n",
      "Making batches... batch size: 512,num of batchese: 60\n"
     ]
    },
    {
     "name": "stderr",
     "output_type": "stream",
     "text": [
      "\r",
      " 97%|█████████▋| 29/30 [01:25<00:02,  2.96s/it]"
     ]
    },
    {
     "name": "stdout",
     "output_type": "stream",
     "text": [
      "Epoch: 28 Generator: 2, total loss: 3.9088696353137493\n",
      "min category: 3, num: 7612\n",
      "category: 0, origin_len: 32802, new_len: 7653\n",
      "category: 1, origin_len: 10464, new_len: 7700\n",
      "category: 2, origin_len: 8745, new_len: 7654\n",
      "category: 3, origin_len: 7612, new_len: 7612\n",
      "Making batches... batch size: 512,num of batchese: 60\n",
      "Epoch: 29 Generator: 0, total loss: 3.9515788070857525\n",
      "min category: 3, num: 7612\n",
      "category: 0, origin_len: 32802, new_len: 7638\n",
      "category: 1, origin_len: 10464, new_len: 7558\n",
      "category: 2, origin_len: 8745, new_len: 7640\n",
      "category: 3, origin_len: 7612, new_len: 7612\n",
      "Making batches... batch size: 512,num of batchese: 60\n",
      "Epoch: 29 Generator: 1, total loss: 3.997195854783058\n",
      "min category: 3, num: 7612\n",
      "category: 0, origin_len: 32802, new_len: 7648\n",
      "category: 1, origin_len: 10464, new_len: 7676\n",
      "category: 2, origin_len: 8745, new_len: 7544\n",
      "category: 3, origin_len: 7612, new_len: 7612\n",
      "Making batches... batch size: 512,num of batchese: 60\n"
     ]
    },
    {
     "name": "stderr",
     "output_type": "stream",
     "text": [
      "\r",
      "100%|██████████| 30/30 [01:28<00:00,  2.96s/it]"
     ]
    },
    {
     "name": "stdout",
     "output_type": "stream",
     "text": [
      "Epoch: 29 Generator: 2, total loss: 3.747917529195547\n",
      "Saving model to /data/gpf/gpf_dl/tests/tmp_torch_model.torch\n"
     ]
    },
    {
     "name": "stderr",
     "output_type": "stream",
     "text": [
      "\n"
     ]
    }
   ],
   "source": [
    "core.fit_text_classification(m, X,y, 30, opt, loss_fn)"
   ]
  },
  {
   "cell_type": "code",
   "execution_count": 60,
   "metadata": {},
   "outputs": [
    {
     "name": "stdout",
     "output_type": "stream",
     "text": [
      "---------------------------业务招待费-------------------------------\n",
      "total:  965\n",
      "correct:  902\n",
      "accuracy:  0.9347150259067357\n",
      "---------------------------办公费-------------------------------\n",
      "total:  3374\n",
      "correct:  3308\n",
      "accuracy:  0.980438648488441\n",
      "---------------------------差旅费-------------------------------\n",
      "total:  772\n",
      "correct:  755\n",
      "accuracy:  0.977979274611399\n",
      "---------------------------福利费-------------------------------\n",
      "total:  907\n",
      "correct:  893\n",
      "accuracy:  0.9845644983461963\n",
      "---------------------------All-------------------------------\n",
      "total correct/total:5858/6018\n",
      "total accuracy:  0.9734130940511798\n"
     ]
    }
   ],
   "source": [
    "X = list(df_test.x.apply(core.str2arr))\n",
    "pred = core.predict_batch(m,X)\n",
    "pred = np.array([index_label[i] for i in pred])\n",
    "expect = df_test.y1.values\n",
    "core.evaluation_matrix(pred, expect)"
   ]
  },
  {
   "cell_type": "code",
   "execution_count": 61,
   "metadata": {},
   "outputs": [],
   "source": [
    "df_train = pd.read_csv('dataset_train1.csv')\n",
    "df_test = pd.read_csv('dataset_test1.csv')\n",
    "label_index = {'库存商品':0,'管理费用':1,'主营业务成本':2,'原材料':3}\n",
    "index_label = {v:k for k,v in label_index.items()}"
   ]
  },
  {
   "cell_type": "code",
   "execution_count": 62,
   "metadata": {},
   "outputs": [
    {
     "data": {
      "text/plain": [
       "28778"
      ]
     },
     "execution_count": 62,
     "metadata": {},
     "output_type": "execute_result"
    }
   ],
   "source": [
    "word_index, index_word = core.get_word_index('word_dict1.pickle')\n",
    "len(word_index)"
   ]
  },
  {
   "cell_type": "code",
   "execution_count": 91,
   "metadata": {},
   "outputs": [
    {
     "name": "stdout",
     "output_type": "stream",
     "text": [
      "loading model from /data/gpf/gpf_dl/tests/tmp_torch_model.torch\n"
     ]
    }
   ],
   "source": [
    "vocal_size = len(word_index)\n",
    "embedding_dim = 7\n",
    "n_hidden = 128\n",
    "n_out = 4\n",
    "\n",
    "m = model.SimpleGRU(vocal_size,embedding_dim,n_hidden,n_out).to(torch.device('cuda:0'))\n",
    "core.load_model(m)"
   ]
  },
  {
   "cell_type": "code",
   "execution_count": 92,
   "metadata": {},
   "outputs": [],
   "source": [
    "X = df_train.x.apply(core.str2arr)\n",
    "y = core.index_labels(df_train.y1,label_index)"
   ]
  },
  {
   "cell_type": "code",
   "execution_count": 93,
   "metadata": {},
   "outputs": [],
   "source": [
    "opt = optim.SGD(m.parameters(), lr=0.0001, momentum=0.9)\n",
    "loss_fn = F.nll_loss"
   ]
  },
  {
   "cell_type": "code",
   "execution_count": 94,
   "metadata": {},
   "outputs": [
    {
     "name": "stderr",
     "output_type": "stream",
     "text": [
      "\r",
      "  0%|          | 0/10 [00:00<?, ?it/s]"
     ]
    },
    {
     "name": "stdout",
     "output_type": "stream",
     "text": [
      "model is been trained on cuda:0\n",
      "min category: 3, num: 11533\n",
      "category: 0, origin_len: 195088, new_len: 11485\n",
      "category: 1, origin_len: 70061, new_len: 11732\n",
      "category: 2, origin_len: 11535, new_len: 11535\n",
      "category: 3, origin_len: 11533, new_len: 11533\n",
      "Making batches... batch size: 512,num of batchese: 91\n",
      "Epoch: 0 Generator: 0, total loss: 10.191243775188923\n",
      "min category: 3, num: 11533\n",
      "category: 0, origin_len: 195088, new_len: 11243\n",
      "category: 1, origin_len: 70061, new_len: 11422\n",
      "category: 2, origin_len: 11535, new_len: 11532\n",
      "category: 3, origin_len: 11533, new_len: 11533\n",
      "Making batches... batch size: 512,num of batchese: 90\n",
      "Epoch: 0 Generator: 1, total loss: 9.67720952257514\n",
      "min category: 3, num: 11533\n",
      "category: 0, origin_len: 195088, new_len: 11475\n",
      "category: 1, origin_len: 70061, new_len: 11441\n",
      "category: 2, origin_len: 11535, new_len: 11534\n",
      "category: 3, origin_len: 11533, new_len: 11533\n",
      "Making batches... batch size: 512,num of batchese: 90\n"
     ]
    },
    {
     "name": "stderr",
     "output_type": "stream",
     "text": [
      "\r",
      " 10%|█         | 1/10 [00:04<00:40,  4.53s/it]"
     ]
    },
    {
     "name": "stdout",
     "output_type": "stream",
     "text": [
      "Epoch: 0 Generator: 2, total loss: 9.996146384626627\n",
      "min category: 3, num: 11533\n",
      "category: 0, origin_len: 195088, new_len: 11510\n",
      "category: 1, origin_len: 70061, new_len: 11418\n",
      "category: 2, origin_len: 11535, new_len: 11534\n",
      "category: 3, origin_len: 11533, new_len: 11533\n",
      "Making batches... batch size: 512,num of batchese: 90\n",
      "Epoch: 1 Generator: 0, total loss: 9.73878888040781\n",
      "min category: 3, num: 11533\n",
      "category: 0, origin_len: 195088, new_len: 11453\n",
      "category: 1, origin_len: 70061, new_len: 11762\n",
      "category: 2, origin_len: 11535, new_len: 11534\n",
      "category: 3, origin_len: 11533, new_len: 11533\n",
      "Making batches... batch size: 512,num of batchese: 91\n",
      "Epoch: 1 Generator: 1, total loss: 10.22513971477747\n",
      "min category: 3, num: 11533\n",
      "category: 0, origin_len: 195088, new_len: 11533\n",
      "category: 1, origin_len: 70061, new_len: 11436\n",
      "category: 2, origin_len: 11535, new_len: 11535\n",
      "category: 3, origin_len: 11533, new_len: 11533\n",
      "Making batches... batch size: 512,num of batchese: 90\n"
     ]
    },
    {
     "name": "stderr",
     "output_type": "stream",
     "text": [
      "\r",
      " 20%|██        | 2/10 [00:08<00:35,  4.47s/it]"
     ]
    },
    {
     "name": "stdout",
     "output_type": "stream",
     "text": [
      "Epoch: 1 Generator: 2, total loss: 9.720611680299044\n",
      "min category: 3, num: 11533\n",
      "category: 0, origin_len: 195088, new_len: 11794\n",
      "category: 1, origin_len: 70061, new_len: 11609\n",
      "category: 2, origin_len: 11535, new_len: 11532\n",
      "category: 3, origin_len: 11533, new_len: 11533\n",
      "Making batches... batch size: 512,num of batchese: 91\n",
      "Epoch: 2 Generator: 0, total loss: 10.140526484698057\n",
      "min category: 3, num: 11533\n",
      "category: 0, origin_len: 195088, new_len: 11576\n",
      "category: 1, origin_len: 70061, new_len: 11380\n",
      "category: 2, origin_len: 11535, new_len: 11533\n",
      "category: 3, origin_len: 11533, new_len: 11533\n",
      "Making batches... batch size: 512,num of batchese: 90\n",
      "Epoch: 2 Generator: 1, total loss: 9.902798909693956\n",
      "min category: 3, num: 11533\n",
      "category: 0, origin_len: 195088, new_len: 11548\n",
      "category: 1, origin_len: 70061, new_len: 11526\n",
      "category: 2, origin_len: 11535, new_len: 11533\n",
      "category: 3, origin_len: 11533, new_len: 11533\n",
      "Making batches... batch size: 512,num of batchese: 91\n"
     ]
    },
    {
     "name": "stderr",
     "output_type": "stream",
     "text": [
      "\r",
      " 30%|███       | 3/10 [00:13<00:31,  4.46s/it]"
     ]
    },
    {
     "name": "stdout",
     "output_type": "stream",
     "text": [
      "Epoch: 2 Generator: 2, total loss: 9.97602079063654\n",
      "min category: 3, num: 11533\n",
      "category: 0, origin_len: 195088, new_len: 11612\n",
      "category: 1, origin_len: 70061, new_len: 11548\n",
      "category: 2, origin_len: 11535, new_len: 11535\n",
      "category: 3, origin_len: 11533, new_len: 11533\n",
      "Making batches... batch size: 512,num of batchese: 91\n",
      "Epoch: 3 Generator: 0, total loss: 9.975907895714045\n",
      "min category: 3, num: 11533\n",
      "category: 0, origin_len: 195088, new_len: 11684\n",
      "category: 1, origin_len: 70061, new_len: 11431\n",
      "category: 2, origin_len: 11535, new_len: 11532\n",
      "category: 3, origin_len: 11533, new_len: 11533\n",
      "Making batches... batch size: 512,num of batchese: 91\n",
      "Epoch: 3 Generator: 1, total loss: 9.599030911922455\n",
      "min category: 3, num: 11533\n",
      "category: 0, origin_len: 195088, new_len: 11396\n",
      "category: 1, origin_len: 70061, new_len: 11501\n",
      "category: 2, origin_len: 11535, new_len: 11533\n",
      "category: 3, origin_len: 11533, new_len: 11533\n",
      "Making batches... batch size: 512,num of batchese: 90\n"
     ]
    },
    {
     "name": "stderr",
     "output_type": "stream",
     "text": [
      "\r",
      " 40%|████      | 4/10 [00:17<00:26,  4.49s/it]"
     ]
    },
    {
     "name": "stdout",
     "output_type": "stream",
     "text": [
      "Epoch: 3 Generator: 2, total loss: 10.247686736285686\n",
      "min category: 3, num: 11533\n",
      "category: 0, origin_len: 195088, new_len: 11374\n",
      "category: 1, origin_len: 70061, new_len: 11383\n",
      "category: 2, origin_len: 11535, new_len: 11534\n",
      "category: 3, origin_len: 11533, new_len: 11533\n",
      "Making batches... batch size: 512,num of batchese: 90\n",
      "Epoch: 4 Generator: 0, total loss: 9.690461792051792\n",
      "min category: 3, num: 11533\n",
      "category: 0, origin_len: 195088, new_len: 11529\n",
      "category: 1, origin_len: 70061, new_len: 11425\n",
      "category: 2, origin_len: 11535, new_len: 11531\n",
      "category: 3, origin_len: 11533, new_len: 11533\n",
      "Making batches... batch size: 512,num of batchese: 90\n",
      "Epoch: 4 Generator: 1, total loss: 9.778373911976814\n",
      "min category: 3, num: 11533\n",
      "category: 0, origin_len: 195088, new_len: 11605\n",
      "category: 1, origin_len: 70061, new_len: 11727\n",
      "category: 2, origin_len: 11535, new_len: 11534\n",
      "category: 3, origin_len: 11533, new_len: 11533\n",
      "Making batches... batch size: 512,num of batchese: 91\n"
     ]
    },
    {
     "name": "stderr",
     "output_type": "stream",
     "text": [
      "\r",
      " 50%|█████     | 5/10 [00:22<00:22,  4.48s/it]"
     ]
    },
    {
     "name": "stdout",
     "output_type": "stream",
     "text": [
      "Epoch: 4 Generator: 2, total loss: 9.959088183939457\n",
      "min category: 3, num: 11533\n",
      "category: 0, origin_len: 195088, new_len: 11575\n",
      "category: 1, origin_len: 70061, new_len: 11452\n",
      "category: 2, origin_len: 11535, new_len: 11533\n",
      "category: 3, origin_len: 11533, new_len: 11533\n",
      "Making batches... batch size: 512,num of batchese: 91\n",
      "Epoch: 5 Generator: 0, total loss: 10.16658030450344\n",
      "min category: 3, num: 11533\n",
      "category: 0, origin_len: 195088, new_len: 11626\n",
      "category: 1, origin_len: 70061, new_len: 11475\n",
      "category: 2, origin_len: 11535, new_len: 11531\n",
      "category: 3, origin_len: 11533, new_len: 11533\n",
      "Making batches... batch size: 512,num of batchese: 91\n",
      "Epoch: 5 Generator: 1, total loss: 9.976232089102268\n",
      "min category: 3, num: 11533\n",
      "category: 0, origin_len: 195088, new_len: 11486\n",
      "category: 1, origin_len: 70061, new_len: 11644\n",
      "category: 2, origin_len: 11535, new_len: 11534\n",
      "category: 3, origin_len: 11533, new_len: 11533\n",
      "Making batches... batch size: 512,num of batchese: 91\n"
     ]
    },
    {
     "name": "stderr",
     "output_type": "stream",
     "text": [
      "\r",
      " 60%|██████    | 6/10 [00:26<00:17,  4.48s/it]"
     ]
    },
    {
     "name": "stdout",
     "output_type": "stream",
     "text": [
      "Epoch: 5 Generator: 2, total loss: 10.135398082435131\n",
      "min category: 3, num: 11533\n",
      "category: 0, origin_len: 195088, new_len: 11516\n",
      "category: 1, origin_len: 70061, new_len: 11610\n",
      "category: 2, origin_len: 11535, new_len: 11532\n",
      "category: 3, origin_len: 11533, new_len: 11533\n",
      "Making batches... batch size: 512,num of batchese: 91\n",
      "Epoch: 6 Generator: 0, total loss: 10.36398746818304\n",
      "min category: 3, num: 11533\n",
      "category: 0, origin_len: 195088, new_len: 11682\n",
      "category: 1, origin_len: 70061, new_len: 11539\n",
      "category: 2, origin_len: 11535, new_len: 11532\n",
      "category: 3, origin_len: 11533, new_len: 11533\n",
      "Making batches... batch size: 512,num of batchese: 91\n",
      "Epoch: 6 Generator: 1, total loss: 10.069799911230803\n",
      "min category: 3, num: 11533\n",
      "category: 0, origin_len: 195088, new_len: 11407\n",
      "category: 1, origin_len: 70061, new_len: 11572\n",
      "category: 2, origin_len: 11535, new_len: 11533\n",
      "category: 3, origin_len: 11533, new_len: 11533\n",
      "Making batches... batch size: 512,num of batchese: 90\n"
     ]
    },
    {
     "name": "stderr",
     "output_type": "stream",
     "text": [
      "\r",
      " 70%|███████   | 7/10 [00:31<00:13,  4.48s/it]"
     ]
    },
    {
     "name": "stdout",
     "output_type": "stream",
     "text": [
      "Epoch: 6 Generator: 2, total loss: 9.79228675365448\n",
      "min category: 3, num: 11533\n",
      "category: 0, origin_len: 195088, new_len: 11406\n",
      "category: 1, origin_len: 70061, new_len: 11473\n",
      "category: 2, origin_len: 11535, new_len: 11529\n",
      "category: 3, origin_len: 11533, new_len: 11533\n",
      "Making batches... batch size: 512,num of batchese: 90\n",
      "Epoch: 7 Generator: 0, total loss: 9.829920388758183\n",
      "min category: 3, num: 11533\n",
      "category: 0, origin_len: 195088, new_len: 11582\n",
      "category: 1, origin_len: 70061, new_len: 11587\n",
      "category: 2, origin_len: 11535, new_len: 11534\n",
      "category: 3, origin_len: 11533, new_len: 11533\n",
      "Making batches... batch size: 512,num of batchese: 91\n",
      "Epoch: 7 Generator: 1, total loss: 10.048762857913971\n",
      "min category: 3, num: 11533\n",
      "category: 0, origin_len: 195088, new_len: 11357\n",
      "category: 1, origin_len: 70061, new_len: 11506\n",
      "category: 2, origin_len: 11535, new_len: 11534\n",
      "category: 3, origin_len: 11533, new_len: 11533\n",
      "Making batches... batch size: 512,num of batchese: 90\n"
     ]
    },
    {
     "name": "stderr",
     "output_type": "stream",
     "text": [
      "\r",
      " 80%|████████  | 8/10 [00:35<00:08,  4.48s/it]"
     ]
    },
    {
     "name": "stdout",
     "output_type": "stream",
     "text": [
      "Epoch: 7 Generator: 2, total loss: 10.168220020830631\n",
      "min category: 3, num: 11533\n",
      "category: 0, origin_len: 195088, new_len: 11591\n",
      "category: 1, origin_len: 70061, new_len: 11388\n",
      "category: 2, origin_len: 11535, new_len: 11532\n",
      "category: 3, origin_len: 11533, new_len: 11533\n",
      "Making batches... batch size: 512,num of batchese: 90\n",
      "Epoch: 8 Generator: 0, total loss: 10.182447921484709\n",
      "min category: 3, num: 11533\n",
      "category: 0, origin_len: 195088, new_len: 11466\n",
      "category: 1, origin_len: 70061, new_len: 11585\n",
      "category: 2, origin_len: 11535, new_len: 11534\n",
      "category: 3, origin_len: 11533, new_len: 11533\n",
      "Making batches... batch size: 512,num of batchese: 91\n",
      "Epoch: 8 Generator: 1, total loss: 10.081648256629705\n",
      "min category: 3, num: 11533\n",
      "category: 0, origin_len: 195088, new_len: 11499\n",
      "category: 1, origin_len: 70061, new_len: 11635\n",
      "category: 2, origin_len: 11535, new_len: 11535\n",
      "category: 3, origin_len: 11533, new_len: 11533\n",
      "Making batches... batch size: 512,num of batchese: 91\n"
     ]
    },
    {
     "name": "stderr",
     "output_type": "stream",
     "text": [
      "\r",
      " 90%|█████████ | 9/10 [00:40<00:04,  4.47s/it]"
     ]
    },
    {
     "name": "stdout",
     "output_type": "stream",
     "text": [
      "Epoch: 8 Generator: 2, total loss: 9.581157218664885\n",
      "min category: 3, num: 11533\n",
      "category: 0, origin_len: 195088, new_len: 11454\n",
      "category: 1, origin_len: 70061, new_len: 11510\n",
      "category: 2, origin_len: 11535, new_len: 11534\n",
      "category: 3, origin_len: 11533, new_len: 11533\n",
      "Making batches... batch size: 512,num of batchese: 90\n",
      "Epoch: 9 Generator: 0, total loss: 9.978113535791636\n",
      "min category: 3, num: 11533\n",
      "category: 0, origin_len: 195088, new_len: 11548\n",
      "category: 1, origin_len: 70061, new_len: 11567\n",
      "category: 2, origin_len: 11535, new_len: 11535\n",
      "category: 3, origin_len: 11533, new_len: 11533\n",
      "Making batches... batch size: 512,num of batchese: 91\n",
      "Epoch: 9 Generator: 1, total loss: 9.946081340312958\n",
      "min category: 3, num: 11533\n",
      "category: 0, origin_len: 195088, new_len: 11535\n",
      "category: 1, origin_len: 70061, new_len: 11694\n",
      "category: 2, origin_len: 11535, new_len: 11533\n",
      "category: 3, origin_len: 11533, new_len: 11533\n",
      "Making batches... batch size: 512,num of batchese: 91\n"
     ]
    },
    {
     "name": "stderr",
     "output_type": "stream",
     "text": [
      "\r",
      "100%|██████████| 10/10 [00:44<00:00,  4.47s/it]"
     ]
    },
    {
     "name": "stdout",
     "output_type": "stream",
     "text": [
      "Epoch: 9 Generator: 2, total loss: 9.731144402176142\n",
      "Saving model to /data/gpf/gpf_dl/tests/tmp_torch_model.torch\n"
     ]
    },
    {
     "name": "stderr",
     "output_type": "stream",
     "text": [
      "\n"
     ]
    }
   ],
   "source": [
    "core.fit_text_classification(m, X,y, 10, opt, loss_fn)"
   ]
  },
  {
   "cell_type": "code",
   "execution_count": 95,
   "metadata": {},
   "outputs": [
    {
     "name": "stdout",
     "output_type": "stream",
     "text": [
      "---------------------------主营业务成本-------------------------------\n",
      "total:  1358\n",
      "correct:  1092\n",
      "accuracy:  0.8041237113402062\n",
      "---------------------------原材料-------------------------------\n",
      "total:  1312\n",
      "correct:  1254\n",
      "accuracy:  0.9557926829268293\n",
      "---------------------------库存商品-------------------------------\n",
      "total:  21250\n",
      "correct:  19941\n",
      "accuracy:  0.9384\n",
      "---------------------------管理费用-------------------------------\n",
      "total:  7648\n",
      "correct:  6761\n",
      "accuracy:  0.8840219665271967\n",
      "---------------------------All-------------------------------\n",
      "total correct/total:29048/31568\n",
      "total accuracy:  0.9201723264064876\n"
     ]
    }
   ],
   "source": [
    "X = list(df_test.x.apply(core.str2arr))\n",
    "pred = core.predict_batch(m,X)\n",
    "pred = np.array([index_label[i] for i in pred])\n",
    "expect = df_test.y1.values\n",
    "core.evaluation_matrix(pred, expect)"
   ]
  },
  {
   "cell_type": "code",
   "execution_count": null,
   "metadata": {},
   "outputs": [],
   "source": []
  }
 ],
 "metadata": {
  "kernelspec": {
   "display_name": "Python 3",
   "language": "python",
   "name": "python3"
  },
  "language_info": {
   "codemirror_mode": {
    "name": "ipython",
    "version": 3
   },
   "file_extension": ".py",
   "mimetype": "text/x-python",
   "name": "python",
   "nbconvert_exporter": "python",
   "pygments_lexer": "ipython3",
   "version": "3.6.5"
  }
 },
 "nbformat": 4,
 "nbformat_minor": 2
}
